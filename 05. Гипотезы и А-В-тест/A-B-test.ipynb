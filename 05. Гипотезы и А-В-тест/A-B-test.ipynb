{
 "cells": [
  {
   "cell_type": "markdown",
   "metadata": {},
   "source": [
    "# ПРИНЯТИЕ РЕШЕНИЙ В БИЗНЕСЕ\n",
    "\n",
    "**Заказчик** -  крупный интернет-магазин. Вместе с отделом маркетинга мы подготовили список гипотез для увеличения выручки.\n",
    "\n",
    "**Задача** - приоритизировать гипотезы, запустить A/B-тест и проанализировать результаты. \n",
    "\n",
    "Часть 1. Приоритизация гипотез.\n",
    "В файле **hypothesis.csv** 9 гипотез по увеличению выручки интернет-магазина с указанными параметрами Reach, Impact, Confidence, Effort. Задачи:\n",
    "- Применить фреймворк ICE для приоритизации гипотез. Отсортировать их по убыванию приоритета.\n",
    "- Применить фреймворк RICE для приоритизации гипотез. Отсортировать их по убыванию приоритета.\n",
    "- Указать, как изменилась приоритизация гипотез при применении RICE вместо ICE. Объяснить, почему так произошло.\n",
    "\n",
    "Часть 2. Анализ A/B-теста\n",
    "В ходе проведения A/B-теста были получены результаты, которые описаны в файлах /datasets/orders.csv и /datasets/visitors.csv.\n",
    "Задача - проанализировать A/B-тест, сделать выводы и предположения:\n",
    "- Построить график кумулятивной выручки по группам.\n",
    "- Построить график кумулятивного среднего чека по группам.\n",
    "- Построить график относительного изменения кумулятивного среднего чека группы B к группе A.\n",
    "- Построить график кумулятивного среднего количества заказов на посетителя по группам.\n",
    "- Построить график относительного изменения кумулятивного среднего количества заказов на посетителя группы B к группе A.\n",
    "- Построить точечный график количества заказов по пользователям.\n",
    "- Посчитать 95-й и 99-й перцентили количества заказов на пользователя. Выбрать границу для определения аномальных пользователей.\n",
    "- Построить точечный график стоимостей заказов.\n",
    "- Посчитать 95-й и 99-й перцентили стоимости заказов. Выбрать границу для определения аномальных заказов.\n",
    "- Посчитать статистическую значимость различий в среднем количестве заказов на посетителя между группами по «сырым» данным.\n",
    "- Посчитать статистическую значимость различий в среднем чеке заказа между группами по «сырым» данным.\n",
    "- Посчитать статистическую значимость различий в среднем количестве заказов на посетителя между группами по «очищенным» данным.\n",
    "- Посчитать статистическую значимость различий в среднем чеке заказа между группами по «очищенным» данным.\n",
    "- Принять решение по результатам теста и объяснить его. Варианты решений:\n",
    "1. Остановить тест, зафиксировать победу одной из групп.\n",
    "2. Остановить тест, зафиксировать отсутствие различий между группами.\n",
    "3. Продолжить тест."
   ]
  },
  {
   "cell_type": "markdown",
   "metadata": {},
   "source": [
    "# Загрузка данных.\n",
    "У нас имеется 3 датасета: гипотезы, заказы, посетители. Откроем их, сохранив в одноимённые переменные, и изучим основную информацию:"
   ]
  },
  {
   "cell_type": "code",
   "execution_count": 1,
   "metadata": {},
   "outputs": [],
   "source": [
    "import pandas as pd\n",
    "import numpy as np\n",
    "import matplotlib.pyplot as plt\n",
    "import seaborn as sns\n",
    "import math\n",
    "import datetime as dt\n",
    "import scipy.stats as stats\n",
    "from scipy import stats as st"
   ]
  },
  {
   "cell_type": "code",
   "execution_count": 2,
   "metadata": {},
   "outputs": [],
   "source": [
    "hypothesis = pd.read_csv('https://code.s3.yandex.net/datasets/hypothesis.csv')\n",
    "orders = pd.read_csv('https://code.s3.yandex.net/datasets/orders.csv')\n",
    "visitors = pd.read_csv('https://code.s3.yandex.net/datasets/visitors.csv')"
   ]
  },
  {
   "cell_type": "code",
   "execution_count": 3,
   "metadata": {},
   "outputs": [
    {
     "data": {
      "text/html": [
       "<div>\n",
       "<style scoped>\n",
       "    .dataframe tbody tr th:only-of-type {\n",
       "        vertical-align: middle;\n",
       "    }\n",
       "\n",
       "    .dataframe tbody tr th {\n",
       "        vertical-align: top;\n",
       "    }\n",
       "\n",
       "    .dataframe thead th {\n",
       "        text-align: right;\n",
       "    }\n",
       "</style>\n",
       "<table border=\"1\" class=\"dataframe\">\n",
       "  <thead>\n",
       "    <tr style=\"text-align: right;\">\n",
       "      <th></th>\n",
       "      <th>Hypothesis</th>\n",
       "      <th>Reach</th>\n",
       "      <th>Impact</th>\n",
       "      <th>Confidence</th>\n",
       "      <th>Efforts</th>\n",
       "    </tr>\n",
       "  </thead>\n",
       "  <tbody>\n",
       "    <tr>\n",
       "      <th>0</th>\n",
       "      <td>Добавить два новых канала привлечения трафика, что позволит привлекать на 30% больше пользователей</td>\n",
       "      <td>3</td>\n",
       "      <td>10</td>\n",
       "      <td>8</td>\n",
       "      <td>6</td>\n",
       "    </tr>\n",
       "    <tr>\n",
       "      <th>1</th>\n",
       "      <td>Запустить собственную службу доставки, что сократит срок доставки заказов</td>\n",
       "      <td>2</td>\n",
       "      <td>5</td>\n",
       "      <td>4</td>\n",
       "      <td>10</td>\n",
       "    </tr>\n",
       "    <tr>\n",
       "      <th>2</th>\n",
       "      <td>Добавить блоки рекомендаций товаров на сайт интернет магазина, чтобы повысить конверсию и средний чек заказа</td>\n",
       "      <td>8</td>\n",
       "      <td>3</td>\n",
       "      <td>7</td>\n",
       "      <td>3</td>\n",
       "    </tr>\n",
       "    <tr>\n",
       "      <th>3</th>\n",
       "      <td>Изменить структура категорий, что увеличит конверсию, т.к. пользователи быстрее найдут нужный товар</td>\n",
       "      <td>8</td>\n",
       "      <td>3</td>\n",
       "      <td>3</td>\n",
       "      <td>8</td>\n",
       "    </tr>\n",
       "    <tr>\n",
       "      <th>4</th>\n",
       "      <td>Изменить цвет фона главной страницы, чтобы увеличить вовлеченность пользователей</td>\n",
       "      <td>3</td>\n",
       "      <td>1</td>\n",
       "      <td>1</td>\n",
       "      <td>1</td>\n",
       "    </tr>\n",
       "    <tr>\n",
       "      <th>5</th>\n",
       "      <td>Добавить страницу отзывов клиентов о магазине, что позволит увеличить количество заказов</td>\n",
       "      <td>3</td>\n",
       "      <td>2</td>\n",
       "      <td>2</td>\n",
       "      <td>3</td>\n",
       "    </tr>\n",
       "    <tr>\n",
       "      <th>6</th>\n",
       "      <td>Показать на главной странице баннеры с актуальными акциями и распродажами, чтобы увеличить конверсию</td>\n",
       "      <td>5</td>\n",
       "      <td>3</td>\n",
       "      <td>8</td>\n",
       "      <td>3</td>\n",
       "    </tr>\n",
       "    <tr>\n",
       "      <th>7</th>\n",
       "      <td>Добавить форму подписки на все основные страницы, чтобы собрать базу клиентов для email-рассылок</td>\n",
       "      <td>10</td>\n",
       "      <td>7</td>\n",
       "      <td>8</td>\n",
       "      <td>5</td>\n",
       "    </tr>\n",
       "    <tr>\n",
       "      <th>8</th>\n",
       "      <td>Запустить акцию, дающую скидку на товар в день рождения</td>\n",
       "      <td>1</td>\n",
       "      <td>9</td>\n",
       "      <td>9</td>\n",
       "      <td>5</td>\n",
       "    </tr>\n",
       "  </tbody>\n",
       "</table>\n",
       "</div>"
      ],
      "text/plain": [
       "                                                                                                     Hypothesis  \\\n",
       "0            Добавить два новых канала привлечения трафика, что позволит привлекать на 30% больше пользователей   \n",
       "1                                     Запустить собственную службу доставки, что сократит срок доставки заказов   \n",
       "2  Добавить блоки рекомендаций товаров на сайт интернет магазина, чтобы повысить конверсию и средний чек заказа   \n",
       "3           Изменить структура категорий, что увеличит конверсию, т.к. пользователи быстрее найдут нужный товар   \n",
       "4                              Изменить цвет фона главной страницы, чтобы увеличить вовлеченность пользователей   \n",
       "5                      Добавить страницу отзывов клиентов о магазине, что позволит увеличить количество заказов   \n",
       "6          Показать на главной странице баннеры с актуальными акциями и распродажами, чтобы увеличить конверсию   \n",
       "7              Добавить форму подписки на все основные страницы, чтобы собрать базу клиентов для email-рассылок   \n",
       "8                                                       Запустить акцию, дающую скидку на товар в день рождения   \n",
       "\n",
       "   Reach  Impact  Confidence  Efforts  \n",
       "0      3      10           8        6  \n",
       "1      2       5           4       10  \n",
       "2      8       3           7        3  \n",
       "3      8       3           3        8  \n",
       "4      3       1           1        1  \n",
       "5      3       2           2        3  \n",
       "6      5       3           8        3  \n",
       "7     10       7           8        5  \n",
       "8      1       9           9        5  "
      ]
     },
     "execution_count": 3,
     "metadata": {},
     "output_type": "execute_result"
    }
   ],
   "source": [
    "pd.set_option('display.max_colwidth', None)\n",
    "hypothesis"
   ]
  },
  {
   "cell_type": "code",
   "execution_count": 4,
   "metadata": {},
   "outputs": [
    {
     "name": "stdout",
     "output_type": "stream",
     "text": [
      "<class 'pandas.core.frame.DataFrame'>\n",
      "RangeIndex: 9 entries, 0 to 8\n",
      "Data columns (total 5 columns):\n",
      " #   Column      Non-Null Count  Dtype \n",
      "---  ------      --------------  ----- \n",
      " 0   Hypothesis  9 non-null      object\n",
      " 1   Reach       9 non-null      int64 \n",
      " 2   Impact      9 non-null      int64 \n",
      " 3   Confidence  9 non-null      int64 \n",
      " 4   Efforts     9 non-null      int64 \n",
      "dtypes: int64(4), object(1)\n",
      "memory usage: 492.0+ bytes\n"
     ]
    }
   ],
   "source": [
    "hypothesis.info()"
   ]
  },
  {
   "cell_type": "markdown",
   "metadata": {},
   "source": [
    "В датафрейме **hypothesis** (гипотезы) 9 записей и есть следующая информация:\n",
    "- Hypothesis — краткое описание гипотезы;\n",
    "- Reach — охват пользователей по 10-балльной шкале;\n",
    "- Impact — влияние на пользователей по 10-балльной шкале;\n",
    "- Confidence — уверенность в гипотезе по 10-балльной шкале;\n",
    "- Efforts — затраты ресурсов на проверку гипотезы по 10-балльной шкале. (Чем больше Efforts, тем дороже проверка)."
   ]
  },
  {
   "cell_type": "code",
   "execution_count": 5,
   "metadata": {},
   "outputs": [
    {
     "data": {
      "text/html": [
       "<div>\n",
       "<style scoped>\n",
       "    .dataframe tbody tr th:only-of-type {\n",
       "        vertical-align: middle;\n",
       "    }\n",
       "\n",
       "    .dataframe tbody tr th {\n",
       "        vertical-align: top;\n",
       "    }\n",
       "\n",
       "    .dataframe thead th {\n",
       "        text-align: right;\n",
       "    }\n",
       "</style>\n",
       "<table border=\"1\" class=\"dataframe\">\n",
       "  <thead>\n",
       "    <tr style=\"text-align: right;\">\n",
       "      <th></th>\n",
       "      <th>transactionId</th>\n",
       "      <th>visitorId</th>\n",
       "      <th>date</th>\n",
       "      <th>revenue</th>\n",
       "      <th>group</th>\n",
       "    </tr>\n",
       "  </thead>\n",
       "  <tbody>\n",
       "    <tr>\n",
       "      <th>0</th>\n",
       "      <td>3667963787</td>\n",
       "      <td>3312258926</td>\n",
       "      <td>2019-08-15</td>\n",
       "      <td>1650</td>\n",
       "      <td>B</td>\n",
       "    </tr>\n",
       "    <tr>\n",
       "      <th>1</th>\n",
       "      <td>2804400009</td>\n",
       "      <td>3642806036</td>\n",
       "      <td>2019-08-15</td>\n",
       "      <td>730</td>\n",
       "      <td>B</td>\n",
       "    </tr>\n",
       "    <tr>\n",
       "      <th>2</th>\n",
       "      <td>2961555356</td>\n",
       "      <td>4069496402</td>\n",
       "      <td>2019-08-15</td>\n",
       "      <td>400</td>\n",
       "      <td>A</td>\n",
       "    </tr>\n",
       "    <tr>\n",
       "      <th>3</th>\n",
       "      <td>3797467345</td>\n",
       "      <td>1196621759</td>\n",
       "      <td>2019-08-15</td>\n",
       "      <td>9759</td>\n",
       "      <td>B</td>\n",
       "    </tr>\n",
       "    <tr>\n",
       "      <th>4</th>\n",
       "      <td>2282983706</td>\n",
       "      <td>2322279887</td>\n",
       "      <td>2019-08-15</td>\n",
       "      <td>2308</td>\n",
       "      <td>B</td>\n",
       "    </tr>\n",
       "    <tr>\n",
       "      <th>5</th>\n",
       "      <td>182168103</td>\n",
       "      <td>935554773</td>\n",
       "      <td>2019-08-15</td>\n",
       "      <td>2210</td>\n",
       "      <td>B</td>\n",
       "    </tr>\n",
       "    <tr>\n",
       "      <th>6</th>\n",
       "      <td>398296753</td>\n",
       "      <td>2900797465</td>\n",
       "      <td>2019-08-15</td>\n",
       "      <td>1860</td>\n",
       "      <td>B</td>\n",
       "    </tr>\n",
       "    <tr>\n",
       "      <th>7</th>\n",
       "      <td>2626614568</td>\n",
       "      <td>78758296</td>\n",
       "      <td>2019-08-15</td>\n",
       "      <td>1044</td>\n",
       "      <td>A</td>\n",
       "    </tr>\n",
       "    <tr>\n",
       "      <th>8</th>\n",
       "      <td>1576988021</td>\n",
       "      <td>295230930</td>\n",
       "      <td>2019-08-15</td>\n",
       "      <td>13710</td>\n",
       "      <td>A</td>\n",
       "    </tr>\n",
       "    <tr>\n",
       "      <th>9</th>\n",
       "      <td>1506739906</td>\n",
       "      <td>1882260405</td>\n",
       "      <td>2019-08-15</td>\n",
       "      <td>1855</td>\n",
       "      <td>B</td>\n",
       "    </tr>\n",
       "  </tbody>\n",
       "</table>\n",
       "</div>"
      ],
      "text/plain": [
       "   transactionId   visitorId        date  revenue group\n",
       "0     3667963787  3312258926  2019-08-15     1650     B\n",
       "1     2804400009  3642806036  2019-08-15      730     B\n",
       "2     2961555356  4069496402  2019-08-15      400     A\n",
       "3     3797467345  1196621759  2019-08-15     9759     B\n",
       "4     2282983706  2322279887  2019-08-15     2308     B\n",
       "5      182168103   935554773  2019-08-15     2210     B\n",
       "6      398296753  2900797465  2019-08-15     1860     B\n",
       "7     2626614568    78758296  2019-08-15     1044     A\n",
       "8     1576988021   295230930  2019-08-15    13710     A\n",
       "9     1506739906  1882260405  2019-08-15     1855     B"
      ]
     },
     "execution_count": 5,
     "metadata": {},
     "output_type": "execute_result"
    }
   ],
   "source": [
    "orders.head(10)"
   ]
  },
  {
   "cell_type": "code",
   "execution_count": 6,
   "metadata": {},
   "outputs": [
    {
     "name": "stdout",
     "output_type": "stream",
     "text": [
      "<class 'pandas.core.frame.DataFrame'>\n",
      "RangeIndex: 1197 entries, 0 to 1196\n",
      "Data columns (total 5 columns):\n",
      " #   Column         Non-Null Count  Dtype \n",
      "---  ------         --------------  ----- \n",
      " 0   transactionId  1197 non-null   int64 \n",
      " 1   visitorId      1197 non-null   int64 \n",
      " 2   date           1197 non-null   object\n",
      " 3   revenue        1197 non-null   int64 \n",
      " 4   group          1197 non-null   object\n",
      "dtypes: int64(3), object(2)\n",
      "memory usage: 46.9+ KB\n"
     ]
    }
   ],
   "source": [
    "orders.info()"
   ]
  },
  {
   "cell_type": "markdown",
   "metadata": {},
   "source": [
    "В датафрейме **orders** (заказы) 1197 записей и есть следующая информация:\n",
    "- transactionId — идентификатор заказа;\n",
    "- visitorId — идентификатор пользователя, совершившего заказ;\n",
    "- date — дата, когда был совершён заказ;\n",
    "- revenue — выручка заказа;\n",
    "- group — группа A/B-теста, в которую попал заказ."
   ]
  },
  {
   "cell_type": "code",
   "execution_count": 7,
   "metadata": {},
   "outputs": [
    {
     "data": {
      "text/html": [
       "<div>\n",
       "<style scoped>\n",
       "    .dataframe tbody tr th:only-of-type {\n",
       "        vertical-align: middle;\n",
       "    }\n",
       "\n",
       "    .dataframe tbody tr th {\n",
       "        vertical-align: top;\n",
       "    }\n",
       "\n",
       "    .dataframe thead th {\n",
       "        text-align: right;\n",
       "    }\n",
       "</style>\n",
       "<table border=\"1\" class=\"dataframe\">\n",
       "  <thead>\n",
       "    <tr style=\"text-align: right;\">\n",
       "      <th></th>\n",
       "      <th>date</th>\n",
       "      <th>group</th>\n",
       "      <th>visitors</th>\n",
       "    </tr>\n",
       "  </thead>\n",
       "  <tbody>\n",
       "    <tr>\n",
       "      <th>0</th>\n",
       "      <td>2019-08-01</td>\n",
       "      <td>A</td>\n",
       "      <td>719</td>\n",
       "    </tr>\n",
       "    <tr>\n",
       "      <th>1</th>\n",
       "      <td>2019-08-02</td>\n",
       "      <td>A</td>\n",
       "      <td>619</td>\n",
       "    </tr>\n",
       "    <tr>\n",
       "      <th>2</th>\n",
       "      <td>2019-08-03</td>\n",
       "      <td>A</td>\n",
       "      <td>507</td>\n",
       "    </tr>\n",
       "    <tr>\n",
       "      <th>3</th>\n",
       "      <td>2019-08-04</td>\n",
       "      <td>A</td>\n",
       "      <td>717</td>\n",
       "    </tr>\n",
       "    <tr>\n",
       "      <th>4</th>\n",
       "      <td>2019-08-05</td>\n",
       "      <td>A</td>\n",
       "      <td>756</td>\n",
       "    </tr>\n",
       "    <tr>\n",
       "      <th>5</th>\n",
       "      <td>2019-08-06</td>\n",
       "      <td>A</td>\n",
       "      <td>667</td>\n",
       "    </tr>\n",
       "    <tr>\n",
       "      <th>6</th>\n",
       "      <td>2019-08-07</td>\n",
       "      <td>A</td>\n",
       "      <td>644</td>\n",
       "    </tr>\n",
       "    <tr>\n",
       "      <th>7</th>\n",
       "      <td>2019-08-08</td>\n",
       "      <td>A</td>\n",
       "      <td>610</td>\n",
       "    </tr>\n",
       "    <tr>\n",
       "      <th>8</th>\n",
       "      <td>2019-08-09</td>\n",
       "      <td>A</td>\n",
       "      <td>617</td>\n",
       "    </tr>\n",
       "    <tr>\n",
       "      <th>9</th>\n",
       "      <td>2019-08-10</td>\n",
       "      <td>A</td>\n",
       "      <td>406</td>\n",
       "    </tr>\n",
       "  </tbody>\n",
       "</table>\n",
       "</div>"
      ],
      "text/plain": [
       "         date group  visitors\n",
       "0  2019-08-01     A       719\n",
       "1  2019-08-02     A       619\n",
       "2  2019-08-03     A       507\n",
       "3  2019-08-04     A       717\n",
       "4  2019-08-05     A       756\n",
       "5  2019-08-06     A       667\n",
       "6  2019-08-07     A       644\n",
       "7  2019-08-08     A       610\n",
       "8  2019-08-09     A       617\n",
       "9  2019-08-10     A       406"
      ]
     },
     "execution_count": 7,
     "metadata": {},
     "output_type": "execute_result"
    }
   ],
   "source": [
    "visitors.head(10)"
   ]
  },
  {
   "cell_type": "code",
   "execution_count": 8,
   "metadata": {},
   "outputs": [
    {
     "name": "stdout",
     "output_type": "stream",
     "text": [
      "<class 'pandas.core.frame.DataFrame'>\n",
      "RangeIndex: 62 entries, 0 to 61\n",
      "Data columns (total 3 columns):\n",
      " #   Column    Non-Null Count  Dtype \n",
      "---  ------    --------------  ----- \n",
      " 0   date      62 non-null     object\n",
      " 1   group     62 non-null     object\n",
      " 2   visitors  62 non-null     int64 \n",
      "dtypes: int64(1), object(2)\n",
      "memory usage: 1.6+ KB\n"
     ]
    }
   ],
   "source": [
    "visitors.info()"
   ]
  },
  {
   "cell_type": "markdown",
   "metadata": {},
   "source": [
    "В датафрейме **visitors** (посетители) 62 записи и есть следующая информация:\n",
    "- date — дата;\n",
    "- group — группа A/B-теста;\n",
    "- visitors — количество пользователей в указанную дату в указанной группе A/B-теста"
   ]
  },
  {
   "cell_type": "markdown",
   "metadata": {},
   "source": [
    "Обратим внимание, что названия не всех колонок датафреймов в \"змеином\" регистре, а также, что колонки с датами в формате object, а не datetime64 (исправим). Пропущенных значений нет. Проверим все фреймы на наличие дубликатов:"
   ]
  },
  {
   "cell_type": "code",
   "execution_count": 9,
   "metadata": {},
   "outputs": [
    {
     "name": "stdout",
     "output_type": "stream",
     "text": [
      "0\n",
      "0\n",
      "0\n"
     ]
    }
   ],
   "source": [
    "print(hypothesis.duplicated().sum())\n",
    "print(orders.duplicated().sum())\n",
    "print(visitors.duplicated().sum())"
   ]
  },
  {
   "cell_type": "markdown",
   "metadata": {},
   "source": [
    "Дубликатов нет. Приведём в порядок названия колонок и колонки с датами:"
   ]
  },
  {
   "cell_type": "code",
   "execution_count": 10,
   "metadata": {},
   "outputs": [
    {
     "name": "stdout",
     "output_type": "stream",
     "text": [
      "Index(['hypothesis', 'reach', 'impact', 'confidence', 'efforts'], dtype='object')\n",
      "Index(['transaction_id', 'visitor_id', 'date', 'revenue', 'group'], dtype='object')\n"
     ]
    }
   ],
   "source": [
    "hypothesis.columns = hypothesis.columns.str.lower()\n",
    "orders = orders.rename(columns={'transactionId' : 'transaction_id', 'visitorId' : 'visitor_id'})\n",
    "print(hypothesis.columns)\n",
    "print(orders.columns)"
   ]
  },
  {
   "cell_type": "code",
   "execution_count": 11,
   "metadata": {},
   "outputs": [],
   "source": [
    "orders['date'] = pd.to_datetime(orders['date'])\n",
    "visitors['date'] = pd.to_datetime(visitors['date'])"
   ]
  },
  {
   "cell_type": "markdown",
   "metadata": {},
   "source": [
    "Проверим, есть ли в таблице orders пользователи, оказавшиеся одновременно в двух группах. Дело в том, что при А/В тестировании могут быть ошибки при логировании и распределении пользователей по группам."
   ]
  },
  {
   "cell_type": "code",
   "execution_count": 12,
   "metadata": {},
   "outputs": [
    {
     "name": "stdout",
     "output_type": "stream",
     "text": [
      "1031\n",
      "1089\n"
     ]
    }
   ],
   "source": [
    "print(orders['visitor_id'].nunique())\n",
    "print(orders[orders['group'] == 'A']['visitor_id'].nunique() +\n",
    "      orders[orders['group'] == 'B']['visitor_id'].nunique())"
   ]
  },
  {
   "cell_type": "code",
   "execution_count": 13,
   "metadata": {},
   "outputs": [
    {
     "data": {
      "text/html": [
       "<div>\n",
       "<style scoped>\n",
       "    .dataframe tbody tr th:only-of-type {\n",
       "        vertical-align: middle;\n",
       "    }\n",
       "\n",
       "    .dataframe tbody tr th {\n",
       "        vertical-align: top;\n",
       "    }\n",
       "\n",
       "    .dataframe thead th {\n",
       "        text-align: right;\n",
       "    }\n",
       "</style>\n",
       "<table border=\"1\" class=\"dataframe\">\n",
       "  <thead>\n",
       "    <tr style=\"text-align: right;\">\n",
       "      <th></th>\n",
       "      <th>transaction_id</th>\n",
       "      <th>visitor_id</th>\n",
       "      <th>date</th>\n",
       "      <th>revenue</th>\n",
       "      <th>group</th>\n",
       "    </tr>\n",
       "  </thead>\n",
       "  <tbody>\n",
       "    <tr>\n",
       "      <th>27</th>\n",
       "      <td>1630050528</td>\n",
       "      <td>237748145</td>\n",
       "      <td>2019-08-15</td>\n",
       "      <td>7620</td>\n",
       "      <td>B</td>\n",
       "    </tr>\n",
       "    <tr>\n",
       "      <th>41</th>\n",
       "      <td>2594268419</td>\n",
       "      <td>237748145</td>\n",
       "      <td>2019-08-15</td>\n",
       "      <td>1090</td>\n",
       "      <td>A</td>\n",
       "    </tr>\n",
       "    <tr>\n",
       "      <th>94</th>\n",
       "      <td>252633006</td>\n",
       "      <td>457167155</td>\n",
       "      <td>2019-08-22</td>\n",
       "      <td>5970</td>\n",
       "      <td>B</td>\n",
       "    </tr>\n",
       "    <tr>\n",
       "      <th>95</th>\n",
       "      <td>372616894</td>\n",
       "      <td>457167155</td>\n",
       "      <td>2019-08-22</td>\n",
       "      <td>987</td>\n",
       "      <td>B</td>\n",
       "    </tr>\n",
       "    <tr>\n",
       "      <th>96</th>\n",
       "      <td>1170105516</td>\n",
       "      <td>2706377257</td>\n",
       "      <td>2019-08-01</td>\n",
       "      <td>9024</td>\n",
       "      <td>A</td>\n",
       "    </tr>\n",
       "    <tr>\n",
       "      <th>...</th>\n",
       "      <td>...</td>\n",
       "      <td>...</td>\n",
       "      <td>...</td>\n",
       "      <td>...</td>\n",
       "      <td>...</td>\n",
       "    </tr>\n",
       "    <tr>\n",
       "      <th>1165</th>\n",
       "      <td>2289555915</td>\n",
       "      <td>3963646447</td>\n",
       "      <td>2019-08-14</td>\n",
       "      <td>7485</td>\n",
       "      <td>B</td>\n",
       "    </tr>\n",
       "    <tr>\n",
       "      <th>1171</th>\n",
       "      <td>2860596918</td>\n",
       "      <td>3803269165</td>\n",
       "      <td>2019-08-14</td>\n",
       "      <td>6613</td>\n",
       "      <td>B</td>\n",
       "    </tr>\n",
       "    <tr>\n",
       "      <th>1172</th>\n",
       "      <td>3898641900</td>\n",
       "      <td>3803269165</td>\n",
       "      <td>2019-08-14</td>\n",
       "      <td>790</td>\n",
       "      <td>B</td>\n",
       "    </tr>\n",
       "    <tr>\n",
       "      <th>1178</th>\n",
       "      <td>4052155355</td>\n",
       "      <td>2949041841</td>\n",
       "      <td>2019-08-14</td>\n",
       "      <td>190</td>\n",
       "      <td>A</td>\n",
       "    </tr>\n",
       "    <tr>\n",
       "      <th>1184</th>\n",
       "      <td>1329499668</td>\n",
       "      <td>2949041841</td>\n",
       "      <td>2019-08-14</td>\n",
       "      <td>10380</td>\n",
       "      <td>B</td>\n",
       "    </tr>\n",
       "  </tbody>\n",
       "</table>\n",
       "<p>90 rows × 5 columns</p>\n",
       "</div>"
      ],
      "text/plain": [
       "      transaction_id  visitor_id       date  revenue group\n",
       "27        1630050528   237748145 2019-08-15     7620     B\n",
       "41        2594268419   237748145 2019-08-15     1090     A\n",
       "94         252633006   457167155 2019-08-22     5970     B\n",
       "95         372616894   457167155 2019-08-22      987     B\n",
       "96        1170105516  2706377257 2019-08-01     9024     A\n",
       "...              ...         ...        ...      ...   ...\n",
       "1165      2289555915  3963646447 2019-08-14     7485     B\n",
       "1171      2860596918  3803269165 2019-08-14     6613     B\n",
       "1172      3898641900  3803269165 2019-08-14      790     B\n",
       "1178      4052155355  2949041841 2019-08-14      190     A\n",
       "1184      1329499668  2949041841 2019-08-14    10380     B\n",
       "\n",
       "[90 rows x 5 columns]"
      ]
     },
     "execution_count": 13,
     "metadata": {},
     "output_type": "execute_result"
    }
   ],
   "source": [
    "orders[orders[['visitor_id', 'date']].duplicated(keep=False)]"
   ]
  },
  {
   "cell_type": "markdown",
   "metadata": {},
   "source": [
    "С одной стороны, такая проверка выглядит логично (58 человек состоят в обеих группах) и есть даже покупатели, состоящие в разных группах в один день. Но на группы делятся не покупатели, а изначальные посетители. И никто нам не может гарантировать, что в обеих группах будет одинаковое количество заказов. Относительно общего количества посетителей разница достаточно мала, чтобы её можно было игнорировать. Видимо, наша система не запоминала пользователей, уже совершивших заказ и при возврате на сайт кидала их в случайную группу. В большинстве случаев статистические тесты (в частности stats.mannwhitneyu) не требуют равенства групп и в состоянии засечь разницу между разными группами в том числе."
   ]
  },
  {
   "cell_type": "markdown",
   "metadata": {},
   "source": [
    "## Приоритизация гипотез."
   ]
  },
  {
   "cell_type": "markdown",
   "metadata": {},
   "source": [
    "### Фреймворк ICE для приоритизации гипотез.\n",
    "В **hypothesis** у нас список из 9-ти гипотез, каждый показатель которой оценен по шкале от 0 до 10.\n",
    "Применим один из самых популярных методов приоритезации гипотез - ICE (от англ. impact, confidence, effort / ease «влияние, уверенность, усилия»)."
   ]
  },
  {
   "cell_type": "code",
   "execution_count": 14,
   "metadata": {},
   "outputs": [
    {
     "data": {
      "text/html": [
       "<div>\n",
       "<style scoped>\n",
       "    .dataframe tbody tr th:only-of-type {\n",
       "        vertical-align: middle;\n",
       "    }\n",
       "\n",
       "    .dataframe tbody tr th {\n",
       "        vertical-align: top;\n",
       "    }\n",
       "\n",
       "    .dataframe thead th {\n",
       "        text-align: right;\n",
       "    }\n",
       "</style>\n",
       "<table border=\"1\" class=\"dataframe\">\n",
       "  <thead>\n",
       "    <tr style=\"text-align: right;\">\n",
       "      <th></th>\n",
       "      <th>hypothesis</th>\n",
       "      <th>ice</th>\n",
       "    </tr>\n",
       "  </thead>\n",
       "  <tbody>\n",
       "    <tr>\n",
       "      <th>8</th>\n",
       "      <td>Запустить акцию, дающую скидку на товар в день рождения</td>\n",
       "      <td>16.200</td>\n",
       "    </tr>\n",
       "    <tr>\n",
       "      <th>0</th>\n",
       "      <td>Добавить два новых канала привлечения трафика, что позволит привлекать на 30% больше пользователей</td>\n",
       "      <td>13.333</td>\n",
       "    </tr>\n",
       "    <tr>\n",
       "      <th>7</th>\n",
       "      <td>Добавить форму подписки на все основные страницы, чтобы собрать базу клиентов для email-рассылок</td>\n",
       "      <td>11.200</td>\n",
       "    </tr>\n",
       "    <tr>\n",
       "      <th>6</th>\n",
       "      <td>Показать на главной странице баннеры с актуальными акциями и распродажами, чтобы увеличить конверсию</td>\n",
       "      <td>8.000</td>\n",
       "    </tr>\n",
       "    <tr>\n",
       "      <th>2</th>\n",
       "      <td>Добавить блоки рекомендаций товаров на сайт интернет магазина, чтобы повысить конверсию и средний чек заказа</td>\n",
       "      <td>7.000</td>\n",
       "    </tr>\n",
       "    <tr>\n",
       "      <th>1</th>\n",
       "      <td>Запустить собственную службу доставки, что сократит срок доставки заказов</td>\n",
       "      <td>2.000</td>\n",
       "    </tr>\n",
       "    <tr>\n",
       "      <th>5</th>\n",
       "      <td>Добавить страницу отзывов клиентов о магазине, что позволит увеличить количество заказов</td>\n",
       "      <td>1.333</td>\n",
       "    </tr>\n",
       "    <tr>\n",
       "      <th>3</th>\n",
       "      <td>Изменить структура категорий, что увеличит конверсию, т.к. пользователи быстрее найдут нужный товар</td>\n",
       "      <td>1.125</td>\n",
       "    </tr>\n",
       "    <tr>\n",
       "      <th>4</th>\n",
       "      <td>Изменить цвет фона главной страницы, чтобы увеличить вовлеченность пользователей</td>\n",
       "      <td>1.000</td>\n",
       "    </tr>\n",
       "  </tbody>\n",
       "</table>\n",
       "</div>"
      ],
      "text/plain": [
       "                                                                                                     hypothesis  \\\n",
       "8                                                       Запустить акцию, дающую скидку на товар в день рождения   \n",
       "0            Добавить два новых канала привлечения трафика, что позволит привлекать на 30% больше пользователей   \n",
       "7              Добавить форму подписки на все основные страницы, чтобы собрать базу клиентов для email-рассылок   \n",
       "6          Показать на главной странице баннеры с актуальными акциями и распродажами, чтобы увеличить конверсию   \n",
       "2  Добавить блоки рекомендаций товаров на сайт интернет магазина, чтобы повысить конверсию и средний чек заказа   \n",
       "1                                     Запустить собственную службу доставки, что сократит срок доставки заказов   \n",
       "5                      Добавить страницу отзывов клиентов о магазине, что позволит увеличить количество заказов   \n",
       "3           Изменить структура категорий, что увеличит конверсию, т.к. пользователи быстрее найдут нужный товар   \n",
       "4                              Изменить цвет фона главной страницы, чтобы увеличить вовлеченность пользователей   \n",
       "\n",
       "      ice  \n",
       "8  16.200  \n",
       "0  13.333  \n",
       "7  11.200  \n",
       "6   8.000  \n",
       "2   7.000  \n",
       "1   2.000  \n",
       "5   1.333  \n",
       "3   1.125  \n",
       "4   1.000  "
      ]
     },
     "execution_count": 14,
     "metadata": {},
     "output_type": "execute_result"
    }
   ],
   "source": [
    "hypothesis['ice'] = (hypothesis['impact'] * hypothesis['confidence'] / hypothesis['efforts']).round(3)\n",
    "hypothesis[['hypothesis', 'ice']].sort_values(by='ice', ascending=False)"
   ]
  },
  {
   "cell_type": "code",
   "execution_count": 15,
   "metadata": {},
   "outputs": [
    {
     "data": {
      "image/png": "[encoded data removed]",
      "text/plain": [
       "<Figure size 700x600 with 1 Axes>"
      ]
     },
     "metadata": {},
     "output_type": "display_data"
    }
   ],
   "source": [
    "ax = (hypothesis[['hypothesis', 'ice']].set_index('hypothesis')\n",
    "      .sort_values('ice', ascending=True).plot(kind='barh', figsize=(7, 6))\n",
    "     )\n",
    "ax.set_ylabel('Гипотеза')\n",
    "ax.set_xlabel('Приоритет')\n",
    "ax.set_title('Приоритезация гипотез по методу ICE', loc='left');"
   ]
  },
  {
   "cell_type": "markdown",
   "metadata": {},
   "source": [
    "Из наших 9 гипотез хорошо выделяются 5, которые можно поставить в приоритет, но в фрейме также есть показатель **reach** - скольких пользователей затронет изменение, которое мы хотим внести (охват), поэтому проверим также и RICE.\n",
    "\n",
    "### Фреймворк RICE для приоритизации гипотез."
   ]
  },
  {
   "cell_type": "code",
   "execution_count": 16,
   "metadata": {},
   "outputs": [
    {
     "data": {
      "text/html": [
       "<div>\n",
       "<style scoped>\n",
       "    .dataframe tbody tr th:only-of-type {\n",
       "        vertical-align: middle;\n",
       "    }\n",
       "\n",
       "    .dataframe tbody tr th {\n",
       "        vertical-align: top;\n",
       "    }\n",
       "\n",
       "    .dataframe thead th {\n",
       "        text-align: right;\n",
       "    }\n",
       "</style>\n",
       "<table border=\"1\" class=\"dataframe\">\n",
       "  <thead>\n",
       "    <tr style=\"text-align: right;\">\n",
       "      <th></th>\n",
       "      <th>hypothesis</th>\n",
       "      <th>rice</th>\n",
       "    </tr>\n",
       "  </thead>\n",
       "  <tbody>\n",
       "    <tr>\n",
       "      <th>7</th>\n",
       "      <td>Добавить форму подписки на все основные страницы, чтобы собрать базу клиентов для email-рассылок</td>\n",
       "      <td>112.0</td>\n",
       "    </tr>\n",
       "    <tr>\n",
       "      <th>2</th>\n",
       "      <td>Добавить блоки рекомендаций товаров на сайт интернет магазина, чтобы повысить конверсию и средний чек заказа</td>\n",
       "      <td>56.0</td>\n",
       "    </tr>\n",
       "    <tr>\n",
       "      <th>0</th>\n",
       "      <td>Добавить два новых канала привлечения трафика, что позволит привлекать на 30% больше пользователей</td>\n",
       "      <td>40.0</td>\n",
       "    </tr>\n",
       "    <tr>\n",
       "      <th>6</th>\n",
       "      <td>Показать на главной странице баннеры с актуальными акциями и распродажами, чтобы увеличить конверсию</td>\n",
       "      <td>40.0</td>\n",
       "    </tr>\n",
       "    <tr>\n",
       "      <th>8</th>\n",
       "      <td>Запустить акцию, дающую скидку на товар в день рождения</td>\n",
       "      <td>16.2</td>\n",
       "    </tr>\n",
       "    <tr>\n",
       "      <th>3</th>\n",
       "      <td>Изменить структура категорий, что увеличит конверсию, т.к. пользователи быстрее найдут нужный товар</td>\n",
       "      <td>9.0</td>\n",
       "    </tr>\n",
       "    <tr>\n",
       "      <th>1</th>\n",
       "      <td>Запустить собственную службу доставки, что сократит срок доставки заказов</td>\n",
       "      <td>4.0</td>\n",
       "    </tr>\n",
       "    <tr>\n",
       "      <th>5</th>\n",
       "      <td>Добавить страницу отзывов клиентов о магазине, что позволит увеличить количество заказов</td>\n",
       "      <td>4.0</td>\n",
       "    </tr>\n",
       "    <tr>\n",
       "      <th>4</th>\n",
       "      <td>Изменить цвет фона главной страницы, чтобы увеличить вовлеченность пользователей</td>\n",
       "      <td>3.0</td>\n",
       "    </tr>\n",
       "  </tbody>\n",
       "</table>\n",
       "</div>"
      ],
      "text/plain": [
       "                                                                                                     hypothesis  \\\n",
       "7              Добавить форму подписки на все основные страницы, чтобы собрать базу клиентов для email-рассылок   \n",
       "2  Добавить блоки рекомендаций товаров на сайт интернет магазина, чтобы повысить конверсию и средний чек заказа   \n",
       "0            Добавить два новых канала привлечения трафика, что позволит привлекать на 30% больше пользователей   \n",
       "6          Показать на главной странице баннеры с актуальными акциями и распродажами, чтобы увеличить конверсию   \n",
       "8                                                       Запустить акцию, дающую скидку на товар в день рождения   \n",
       "3           Изменить структура категорий, что увеличит конверсию, т.к. пользователи быстрее найдут нужный товар   \n",
       "1                                     Запустить собственную службу доставки, что сократит срок доставки заказов   \n",
       "5                      Добавить страницу отзывов клиентов о магазине, что позволит увеличить количество заказов   \n",
       "4                              Изменить цвет фона главной страницы, чтобы увеличить вовлеченность пользователей   \n",
       "\n",
       "    rice  \n",
       "7  112.0  \n",
       "2   56.0  \n",
       "0   40.0  \n",
       "6   40.0  \n",
       "8   16.2  \n",
       "3    9.0  \n",
       "1    4.0  \n",
       "5    4.0  \n",
       "4    3.0  "
      ]
     },
     "execution_count": 16,
     "metadata": {},
     "output_type": "execute_result"
    }
   ],
   "source": [
    "hypothesis['rice'] = hypothesis['reach'] * hypothesis['impact'] * hypothesis['confidence'] / hypothesis['efforts']\n",
    "hypothesis[['hypothesis', 'rice']].sort_values(by='rice', ascending=False)"
   ]
  },
  {
   "cell_type": "code",
   "execution_count": 17,
   "metadata": {},
   "outputs": [
    {
     "data": {
      "image/png": "[encoded data removed]",
      "text/plain": [
       "<Figure size 700x600 with 1 Axes>"
      ]
     },
     "metadata": {},
     "output_type": "display_data"
    }
   ],
   "source": [
    "ax = (hypothesis[['hypothesis', 'rice']].set_index('hypothesis')\n",
    "      .sort_values('rice', ascending=True).plot(kind='barh', figsize=(7, 6))\n",
    "     )\n",
    "ax.set_ylabel('Гипотеза')\n",
    "ax.set_xlabel('Приоритет')\n",
    "ax.set_title('Приоритезация гипотез по методу RICE', loc='left');"
   ]
  },
  {
   "cell_type": "markdown",
   "metadata": {},
   "source": [
    "Топ-5 остался тем же, но изменился их порядок. Разница заключается в том, что одна учитывает кол-во пользователей, которых затронут изменения, а другая - нет. Вполне логично учитывать не только насколько сильно повлияют изменения на пользователей и насколько мы в этом уверены при оценённом уровне усилий, но и скольких пользователей изменение может затронуть. Самый яркий пример - номер 8 - по ICE он на 1 месте, а по RICE, наоборот, замыкает пятёрку. Для наглядности:"
   ]
  },
  {
   "cell_type": "code",
   "execution_count": 18,
   "metadata": {},
   "outputs": [
    {
     "data": {
      "text/html": [
       "<div>\n",
       "<style scoped>\n",
       "    .dataframe tbody tr th:only-of-type {\n",
       "        vertical-align: middle;\n",
       "    }\n",
       "\n",
       "    .dataframe tbody tr th {\n",
       "        vertical-align: top;\n",
       "    }\n",
       "\n",
       "    .dataframe thead th {\n",
       "        text-align: right;\n",
       "    }\n",
       "</style>\n",
       "<table border=\"1\" class=\"dataframe\">\n",
       "  <thead>\n",
       "    <tr style=\"text-align: right;\">\n",
       "      <th></th>\n",
       "      <th>hypothesis</th>\n",
       "      <th>ice</th>\n",
       "      <th>rice</th>\n",
       "    </tr>\n",
       "  </thead>\n",
       "  <tbody>\n",
       "    <tr>\n",
       "      <th>7</th>\n",
       "      <td>Добавить форму подписки на все основные страницы, чтобы собрать базу клиентов для email-рассылок</td>\n",
       "      <td>11.200</td>\n",
       "      <td>112.0</td>\n",
       "    </tr>\n",
       "    <tr>\n",
       "      <th>2</th>\n",
       "      <td>Добавить блоки рекомендаций товаров на сайт интернет магазина, чтобы повысить конверсию и средний чек заказа</td>\n",
       "      <td>7.000</td>\n",
       "      <td>56.0</td>\n",
       "    </tr>\n",
       "    <tr>\n",
       "      <th>0</th>\n",
       "      <td>Добавить два новых канала привлечения трафика, что позволит привлекать на 30% больше пользователей</td>\n",
       "      <td>13.333</td>\n",
       "      <td>40.0</td>\n",
       "    </tr>\n",
       "    <tr>\n",
       "      <th>6</th>\n",
       "      <td>Показать на главной странице баннеры с актуальными акциями и распродажами, чтобы увеличить конверсию</td>\n",
       "      <td>8.000</td>\n",
       "      <td>40.0</td>\n",
       "    </tr>\n",
       "    <tr>\n",
       "      <th>8</th>\n",
       "      <td>Запустить акцию, дающую скидку на товар в день рождения</td>\n",
       "      <td>16.200</td>\n",
       "      <td>16.2</td>\n",
       "    </tr>\n",
       "  </tbody>\n",
       "</table>\n",
       "</div>"
      ],
      "text/plain": [
       "                                                                                                     hypothesis  \\\n",
       "7              Добавить форму подписки на все основные страницы, чтобы собрать базу клиентов для email-рассылок   \n",
       "2  Добавить блоки рекомендаций товаров на сайт интернет магазина, чтобы повысить конверсию и средний чек заказа   \n",
       "0            Добавить два новых канала привлечения трафика, что позволит привлекать на 30% больше пользователей   \n",
       "6          Показать на главной странице баннеры с актуальными акциями и распродажами, чтобы увеличить конверсию   \n",
       "8                                                       Запустить акцию, дающую скидку на товар в день рождения   \n",
       "\n",
       "      ice   rice  \n",
       "7  11.200  112.0  \n",
       "2   7.000   56.0  \n",
       "0  13.333   40.0  \n",
       "6   8.000   40.0  \n",
       "8  16.200   16.2  "
      ]
     },
     "execution_count": 18,
     "metadata": {},
     "output_type": "execute_result"
    }
   ],
   "source": [
    "hypo = hypothesis[['hypothesis','ice', 'rice']].sort_values(by='rice', ascending=False).head(5)\n",
    "hypo"
   ]
  },
  {
   "cell_type": "code",
   "execution_count": 19,
   "metadata": {},
   "outputs": [
    {
     "data": {
      "image/png": "[encoded data removed]",
      "text/plain": [
       "<Figure size 1500x500 with 1 Axes>"
      ]
     },
     "metadata": {},
     "output_type": "display_data"
    }
   ],
   "source": [
    "fig, ax = plt.subplots(figsize=(15, 5))\n",
    "hypo.plot(kind='barh', ax=ax)\n",
    "ax.legend()\n",
    "ax.set_xlabel('Приоритет')\n",
    "ax.set_ylabel('Номер гипотезы')\n",
    "ax.set_title('Топ-5 пары ICE и RICE');"
   ]
  },
  {
   "cell_type": "markdown",
   "metadata": {},
   "source": [
    "## Часть. Анализ A/B-теста.\n",
    "\n",
    "### Построим график кумулятивной выручки по группам.\n",
    "\n",
    "Чтобы построить графики по кумулятивным (накапливаемым) данным, необходимо собрать соответствующий агрегированный датафрейм, содержащий информацию о дате, группе (А или В), кумулятивных количестве заказов и пользователей их оформивших, среднем чеке и, наконец, о кумулятивном количестве посетителей магазина."
   ]
  },
  {
   "cell_type": "code",
   "execution_count": 20,
   "metadata": {},
   "outputs": [
    {
     "data": {
      "text/html": [
       "<div>\n",
       "<style scoped>\n",
       "    .dataframe tbody tr th:only-of-type {\n",
       "        vertical-align: middle;\n",
       "    }\n",
       "\n",
       "    .dataframe tbody tr th {\n",
       "        vertical-align: top;\n",
       "    }\n",
       "\n",
       "    .dataframe thead th {\n",
       "        text-align: right;\n",
       "    }\n",
       "</style>\n",
       "<table border=\"1\" class=\"dataframe\">\n",
       "  <thead>\n",
       "    <tr style=\"text-align: right;\">\n",
       "      <th></th>\n",
       "      <th>date</th>\n",
       "      <th>group</th>\n",
       "      <th>transaction_id</th>\n",
       "      <th>visitor_id</th>\n",
       "      <th>revenue</th>\n",
       "    </tr>\n",
       "  </thead>\n",
       "  <tbody>\n",
       "    <tr>\n",
       "      <th>55</th>\n",
       "      <td>2019-08-01</td>\n",
       "      <td>A</td>\n",
       "      <td>24</td>\n",
       "      <td>20</td>\n",
       "      <td>148579</td>\n",
       "    </tr>\n",
       "    <tr>\n",
       "      <th>66</th>\n",
       "      <td>2019-08-01</td>\n",
       "      <td>B</td>\n",
       "      <td>21</td>\n",
       "      <td>20</td>\n",
       "      <td>101217</td>\n",
       "    </tr>\n",
       "    <tr>\n",
       "      <th>175</th>\n",
       "      <td>2019-08-02</td>\n",
       "      <td>A</td>\n",
       "      <td>44</td>\n",
       "      <td>38</td>\n",
       "      <td>242401</td>\n",
       "    </tr>\n",
       "    <tr>\n",
       "      <th>173</th>\n",
       "      <td>2019-08-02</td>\n",
       "      <td>B</td>\n",
       "      <td>45</td>\n",
       "      <td>43</td>\n",
       "      <td>266748</td>\n",
       "    </tr>\n",
       "    <tr>\n",
       "      <th>291</th>\n",
       "      <td>2019-08-03</td>\n",
       "      <td>A</td>\n",
       "      <td>68</td>\n",
       "      <td>62</td>\n",
       "      <td>354874</td>\n",
       "    </tr>\n",
       "    <tr>\n",
       "      <th>310</th>\n",
       "      <td>2019-08-03</td>\n",
       "      <td>B</td>\n",
       "      <td>61</td>\n",
       "      <td>59</td>\n",
       "      <td>380996</td>\n",
       "    </tr>\n",
       "    <tr>\n",
       "      <th>499</th>\n",
       "      <td>2019-08-04</td>\n",
       "      <td>A</td>\n",
       "      <td>84</td>\n",
       "      <td>77</td>\n",
       "      <td>425699</td>\n",
       "    </tr>\n",
       "    <tr>\n",
       "      <th>498</th>\n",
       "      <td>2019-08-04</td>\n",
       "      <td>B</td>\n",
       "      <td>78</td>\n",
       "      <td>75</td>\n",
       "      <td>489567</td>\n",
       "    </tr>\n",
       "    <tr>\n",
       "      <th>698</th>\n",
       "      <td>2019-08-05</td>\n",
       "      <td>A</td>\n",
       "      <td>109</td>\n",
       "      <td>100</td>\n",
       "      <td>549917</td>\n",
       "    </tr>\n",
       "    <tr>\n",
       "      <th>699</th>\n",
       "      <td>2019-08-05</td>\n",
       "      <td>B</td>\n",
       "      <td>101</td>\n",
       "      <td>98</td>\n",
       "      <td>581995</td>\n",
       "    </tr>\n",
       "  </tbody>\n",
       "</table>\n",
       "</div>"
      ],
      "text/plain": [
       "          date group  transaction_id  visitor_id  revenue\n",
       "55  2019-08-01     A              24          20   148579\n",
       "66  2019-08-01     B              21          20   101217\n",
       "175 2019-08-02     A              44          38   242401\n",
       "173 2019-08-02     B              45          43   266748\n",
       "291 2019-08-03     A              68          62   354874\n",
       "310 2019-08-03     B              61          59   380996\n",
       "499 2019-08-04     A              84          77   425699\n",
       "498 2019-08-04     B              78          75   489567\n",
       "698 2019-08-05     A             109         100   549917\n",
       "699 2019-08-05     B             101          98   581995"
      ]
     },
     "execution_count": 20,
     "metadata": {},
     "output_type": "execute_result"
    }
   ],
   "source": [
    "dates_grouped = orders[['date', 'group']].drop_duplicates()\n",
    "orders_grouped = dates_grouped.apply(\n",
    "    lambda x: orders[\n",
    "        np.logical_and(\n",
    "            orders['date'] <= x['date'], orders['group'] == x['group']\n",
    "        )\n",
    "    ].agg(\n",
    "        {\n",
    "            'date': 'max',\n",
    "            'group': 'max',\n",
    "            'transaction_id': 'nunique',\n",
    "            'visitor_id': 'nunique',\n",
    "            'revenue': 'sum',\n",
    "        }\n",
    "    ),\n",
    "    axis=1,\n",
    ").sort_values(by=['date', 'group'])\n",
    "\n",
    "orders_grouped.head(10)"
   ]
  },
  {
   "cell_type": "markdown",
   "metadata": {},
   "source": [
    "Сделаем тоже самое по посетителям:"
   ]
  },
  {
   "cell_type": "code",
   "execution_count": 21,
   "metadata": {},
   "outputs": [
    {
     "data": {
      "text/html": [
       "<div>\n",
       "<style scoped>\n",
       "    .dataframe tbody tr th:only-of-type {\n",
       "        vertical-align: middle;\n",
       "    }\n",
       "\n",
       "    .dataframe tbody tr th {\n",
       "        vertical-align: top;\n",
       "    }\n",
       "\n",
       "    .dataframe thead th {\n",
       "        text-align: right;\n",
       "    }\n",
       "</style>\n",
       "<table border=\"1\" class=\"dataframe\">\n",
       "  <thead>\n",
       "    <tr style=\"text-align: right;\">\n",
       "      <th></th>\n",
       "      <th>date</th>\n",
       "      <th>group</th>\n",
       "      <th>visitors</th>\n",
       "    </tr>\n",
       "  </thead>\n",
       "  <tbody>\n",
       "    <tr>\n",
       "      <th>55</th>\n",
       "      <td>2019-08-01</td>\n",
       "      <td>A</td>\n",
       "      <td>719</td>\n",
       "    </tr>\n",
       "    <tr>\n",
       "      <th>66</th>\n",
       "      <td>2019-08-01</td>\n",
       "      <td>B</td>\n",
       "      <td>713</td>\n",
       "    </tr>\n",
       "    <tr>\n",
       "      <th>175</th>\n",
       "      <td>2019-08-02</td>\n",
       "      <td>A</td>\n",
       "      <td>1338</td>\n",
       "    </tr>\n",
       "    <tr>\n",
       "      <th>173</th>\n",
       "      <td>2019-08-02</td>\n",
       "      <td>B</td>\n",
       "      <td>1294</td>\n",
       "    </tr>\n",
       "    <tr>\n",
       "      <th>291</th>\n",
       "      <td>2019-08-03</td>\n",
       "      <td>A</td>\n",
       "      <td>1845</td>\n",
       "    </tr>\n",
       "    <tr>\n",
       "      <th>310</th>\n",
       "      <td>2019-08-03</td>\n",
       "      <td>B</td>\n",
       "      <td>1803</td>\n",
       "    </tr>\n",
       "    <tr>\n",
       "      <th>499</th>\n",
       "      <td>2019-08-04</td>\n",
       "      <td>A</td>\n",
       "      <td>2562</td>\n",
       "    </tr>\n",
       "    <tr>\n",
       "      <th>498</th>\n",
       "      <td>2019-08-04</td>\n",
       "      <td>B</td>\n",
       "      <td>2573</td>\n",
       "    </tr>\n",
       "    <tr>\n",
       "      <th>698</th>\n",
       "      <td>2019-08-05</td>\n",
       "      <td>A</td>\n",
       "      <td>3318</td>\n",
       "    </tr>\n",
       "    <tr>\n",
       "      <th>699</th>\n",
       "      <td>2019-08-05</td>\n",
       "      <td>B</td>\n",
       "      <td>3280</td>\n",
       "    </tr>\n",
       "  </tbody>\n",
       "</table>\n",
       "</div>"
      ],
      "text/plain": [
       "          date group  visitors\n",
       "55  2019-08-01     A       719\n",
       "66  2019-08-01     B       713\n",
       "175 2019-08-02     A      1338\n",
       "173 2019-08-02     B      1294\n",
       "291 2019-08-03     A      1845\n",
       "310 2019-08-03     B      1803\n",
       "499 2019-08-04     A      2562\n",
       "498 2019-08-04     B      2573\n",
       "698 2019-08-05     A      3318\n",
       "699 2019-08-05     B      3280"
      ]
     },
     "execution_count": 21,
     "metadata": {},
     "output_type": "execute_result"
    }
   ],
   "source": [
    "visitors_grouped = dates_grouped.apply(\n",
    "    lambda x: visitors[\n",
    "        np.logical_and(\n",
    "            visitors['date'] <= x['date'], visitors['group'] == x['group']\n",
    "        )\n",
    "    ].agg(\n",
    "        {\n",
    "            'date': 'max', \n",
    "            'group': 'max', \n",
    "            'visitors': 'sum'\n",
    "        }\n",
    "    ),\n",
    "    axis=1,\n",
    ").sort_values(by=['date', 'group'])\n",
    "\n",
    "visitors_grouped.head(10)"
   ]
  },
  {
   "cell_type": "markdown",
   "metadata": {},
   "source": [
    "Объединяем кумулятивные данные в одной таблице и присваиваем ее столбцам понятные названия, а также добавим колонку с конверсией посетителей в покупателей:"
   ]
  },
  {
   "cell_type": "code",
   "execution_count": 22,
   "metadata": {},
   "outputs": [
    {
     "data": {
      "text/html": [
       "<div>\n",
       "<style scoped>\n",
       "    .dataframe tbody tr th:only-of-type {\n",
       "        vertical-align: middle;\n",
       "    }\n",
       "\n",
       "    .dataframe tbody tr th {\n",
       "        vertical-align: top;\n",
       "    }\n",
       "\n",
       "    .dataframe thead th {\n",
       "        text-align: right;\n",
       "    }\n",
       "</style>\n",
       "<table border=\"1\" class=\"dataframe\">\n",
       "  <thead>\n",
       "    <tr style=\"text-align: right;\">\n",
       "      <th></th>\n",
       "      <th>date</th>\n",
       "      <th>group</th>\n",
       "      <th>orders</th>\n",
       "      <th>buyers</th>\n",
       "      <th>revenue</th>\n",
       "      <th>visitors</th>\n",
       "      <th>conversion</th>\n",
       "    </tr>\n",
       "  </thead>\n",
       "  <tbody>\n",
       "    <tr>\n",
       "      <th>0</th>\n",
       "      <td>2019-08-01</td>\n",
       "      <td>A</td>\n",
       "      <td>24</td>\n",
       "      <td>20</td>\n",
       "      <td>148579</td>\n",
       "      <td>719</td>\n",
       "      <td>0.033</td>\n",
       "    </tr>\n",
       "    <tr>\n",
       "      <th>1</th>\n",
       "      <td>2019-08-01</td>\n",
       "      <td>B</td>\n",
       "      <td>21</td>\n",
       "      <td>20</td>\n",
       "      <td>101217</td>\n",
       "      <td>713</td>\n",
       "      <td>0.029</td>\n",
       "    </tr>\n",
       "    <tr>\n",
       "      <th>2</th>\n",
       "      <td>2019-08-02</td>\n",
       "      <td>A</td>\n",
       "      <td>44</td>\n",
       "      <td>38</td>\n",
       "      <td>242401</td>\n",
       "      <td>1338</td>\n",
       "      <td>0.033</td>\n",
       "    </tr>\n",
       "    <tr>\n",
       "      <th>3</th>\n",
       "      <td>2019-08-02</td>\n",
       "      <td>B</td>\n",
       "      <td>45</td>\n",
       "      <td>43</td>\n",
       "      <td>266748</td>\n",
       "      <td>1294</td>\n",
       "      <td>0.035</td>\n",
       "    </tr>\n",
       "    <tr>\n",
       "      <th>4</th>\n",
       "      <td>2019-08-03</td>\n",
       "      <td>A</td>\n",
       "      <td>68</td>\n",
       "      <td>62</td>\n",
       "      <td>354874</td>\n",
       "      <td>1845</td>\n",
       "      <td>0.037</td>\n",
       "    </tr>\n",
       "    <tr>\n",
       "      <th>5</th>\n",
       "      <td>2019-08-03</td>\n",
       "      <td>B</td>\n",
       "      <td>61</td>\n",
       "      <td>59</td>\n",
       "      <td>380996</td>\n",
       "      <td>1803</td>\n",
       "      <td>0.034</td>\n",
       "    </tr>\n",
       "    <tr>\n",
       "      <th>6</th>\n",
       "      <td>2019-08-04</td>\n",
       "      <td>A</td>\n",
       "      <td>84</td>\n",
       "      <td>77</td>\n",
       "      <td>425699</td>\n",
       "      <td>2562</td>\n",
       "      <td>0.033</td>\n",
       "    </tr>\n",
       "    <tr>\n",
       "      <th>7</th>\n",
       "      <td>2019-08-04</td>\n",
       "      <td>B</td>\n",
       "      <td>78</td>\n",
       "      <td>75</td>\n",
       "      <td>489567</td>\n",
       "      <td>2573</td>\n",
       "      <td>0.030</td>\n",
       "    </tr>\n",
       "    <tr>\n",
       "      <th>8</th>\n",
       "      <td>2019-08-05</td>\n",
       "      <td>A</td>\n",
       "      <td>109</td>\n",
       "      <td>100</td>\n",
       "      <td>549917</td>\n",
       "      <td>3318</td>\n",
       "      <td>0.033</td>\n",
       "    </tr>\n",
       "    <tr>\n",
       "      <th>9</th>\n",
       "      <td>2019-08-05</td>\n",
       "      <td>B</td>\n",
       "      <td>101</td>\n",
       "      <td>98</td>\n",
       "      <td>581995</td>\n",
       "      <td>3280</td>\n",
       "      <td>0.031</td>\n",
       "    </tr>\n",
       "  </tbody>\n",
       "</table>\n",
       "</div>"
      ],
      "text/plain": [
       "        date group  orders  buyers  revenue  visitors  conversion\n",
       "0 2019-08-01     A      24      20   148579       719       0.033\n",
       "1 2019-08-01     B      21      20   101217       713       0.029\n",
       "2 2019-08-02     A      44      38   242401      1338       0.033\n",
       "3 2019-08-02     B      45      43   266748      1294       0.035\n",
       "4 2019-08-03     A      68      62   354874      1845       0.037\n",
       "5 2019-08-03     B      61      59   380996      1803       0.034\n",
       "6 2019-08-04     A      84      77   425699      2562       0.033\n",
       "7 2019-08-04     B      78      75   489567      2573       0.030\n",
       "8 2019-08-05     A     109     100   549917      3318       0.033\n",
       "9 2019-08-05     B     101      98   581995      3280       0.031"
      ]
     },
     "execution_count": 22,
     "metadata": {},
     "output_type": "execute_result"
    }
   ],
   "source": [
    "cumulative_data = orders_grouped.merge(\n",
    "    visitors_grouped, \n",
    "    left_on=['date', 'group'], \n",
    "    right_on=['date', 'group']\n",
    ")\n",
    "cumulative_data.columns = ['date', 'group', 'orders', 'buyers', 'revenue', 'visitors']\n",
    "cumulative_data['conversion'] = (cumulative_data['orders'] / cumulative_data['visitors']).round(3)\n",
    "cumulative_data.head(10)"
   ]
  },
  {
   "cell_type": "markdown",
   "metadata": {},
   "source": [
    "Теперь можно построить график кумулятивной выручки по группам:"
   ]
  },
  {
   "cell_type": "code",
   "execution_count": 23,
   "metadata": {},
   "outputs": [
    {
     "data": {
      "image/png": "[encoded data removed]",
      "text/plain": [
       "<Figure size 640x480 with 1 Axes>"
      ]
     },
     "metadata": {},
     "output_type": "display_data"
    }
   ],
   "source": [
    "cumulative_revenue_a = cumulative_data[cumulative_data['group']=='A'][['date','revenue', 'orders']]\n",
    "cumulative_revenue_b = cumulative_data[cumulative_data['group']=='B'][['date','revenue', 'orders']]\n",
    "\n",
    "plt.plot(cumulative_revenue_a['date'], cumulative_revenue_a['revenue'], label='A')\n",
    "plt.plot(cumulative_revenue_b['date'], cumulative_revenue_b['revenue'], label='B')\n",
    "plt.title('График кумулятивной выручки по группам')\n",
    "plt.ylabel(\"Выручка\")\n",
    "plt.xticks(rotation=30)\n",
    "plt.legend();"
   ]
  },
  {
   "cell_type": "markdown",
   "metadata": {},
   "source": [
    "Выручка в группе А растёт плавно и она меньше, чем у группы В, у которой есть скачок на 3-й неделе августа, что может говорить либо о появлении дорогих заказов, либо об увеличении количества заказов в группе В.\n",
    "\n",
    "### Построим график кумулятивного среднего чека по группам."
   ]
  },
  {
   "cell_type": "code",
   "execution_count": 24,
   "metadata": {},
   "outputs": [
    {
     "data": {
      "image/png": "[encoded data removed]",
      "text/plain": [
       "<Figure size 640x480 with 1 Axes>"
      ]
     },
     "metadata": {},
     "output_type": "display_data"
    }
   ],
   "source": [
    "plt.plot(cumulative_revenue_a['date'], \n",
    "         cumulative_revenue_a['revenue'] / cumulative_revenue_a['orders'],\n",
    "         label='A')\n",
    "\n",
    "plt.plot(cumulative_revenue_b['date'], \n",
    "         cumulative_revenue_b['revenue'] / cumulative_revenue_b['orders'], \n",
    "         label='B')\n",
    "\n",
    "plt.title('График кумулятивного среднего чека по группам')\n",
    "plt.ylabel(\"Выручка\")\n",
    "plt.xticks(rotation=30)\n",
    "plt.legend();"
   ]
  },
  {
   "cell_type": "code",
   "execution_count": 25,
   "metadata": {},
   "outputs": [
    {
     "data": {
      "text/html": [
       "<div>\n",
       "<style scoped>\n",
       "    .dataframe tbody tr th:only-of-type {\n",
       "        vertical-align: middle;\n",
       "    }\n",
       "\n",
       "    .dataframe tbody tr th {\n",
       "        vertical-align: top;\n",
       "    }\n",
       "\n",
       "    .dataframe thead th {\n",
       "        text-align: right;\n",
       "    }\n",
       "</style>\n",
       "<table border=\"1\" class=\"dataframe\">\n",
       "  <thead>\n",
       "    <tr style=\"text-align: right;\">\n",
       "      <th></th>\n",
       "      <th>date</th>\n",
       "      <th>revenue_a</th>\n",
       "      <th>orders_a</th>\n",
       "      <th>revenue_b</th>\n",
       "      <th>orders_b</th>\n",
       "    </tr>\n",
       "  </thead>\n",
       "  <tbody>\n",
       "    <tr>\n",
       "      <th>0</th>\n",
       "      <td>2019-08-01</td>\n",
       "      <td>148579</td>\n",
       "      <td>24</td>\n",
       "      <td>101217</td>\n",
       "      <td>21</td>\n",
       "    </tr>\n",
       "    <tr>\n",
       "      <th>1</th>\n",
       "      <td>2019-08-02</td>\n",
       "      <td>242401</td>\n",
       "      <td>44</td>\n",
       "      <td>266748</td>\n",
       "      <td>45</td>\n",
       "    </tr>\n",
       "    <tr>\n",
       "      <th>2</th>\n",
       "      <td>2019-08-03</td>\n",
       "      <td>354874</td>\n",
       "      <td>68</td>\n",
       "      <td>380996</td>\n",
       "      <td>61</td>\n",
       "    </tr>\n",
       "    <tr>\n",
       "      <th>3</th>\n",
       "      <td>2019-08-04</td>\n",
       "      <td>425699</td>\n",
       "      <td>84</td>\n",
       "      <td>489567</td>\n",
       "      <td>78</td>\n",
       "    </tr>\n",
       "    <tr>\n",
       "      <th>4</th>\n",
       "      <td>2019-08-05</td>\n",
       "      <td>549917</td>\n",
       "      <td>109</td>\n",
       "      <td>581995</td>\n",
       "      <td>101</td>\n",
       "    </tr>\n",
       "  </tbody>\n",
       "</table>\n",
       "</div>"
      ],
      "text/plain": [
       "        date  revenue_a  orders_a  revenue_b  orders_b\n",
       "0 2019-08-01     148579        24     101217        21\n",
       "1 2019-08-02     242401        44     266748        45\n",
       "2 2019-08-03     354874        68     380996        61\n",
       "3 2019-08-04     425699        84     489567        78\n",
       "4 2019-08-05     549917       109     581995       101"
      ]
     },
     "execution_count": 25,
     "metadata": {},
     "output_type": "execute_result"
    }
   ],
   "source": [
    "cumulative_revenue_ab = cumulative_revenue_a.merge(\n",
    "    cumulative_revenue_b, \n",
    "    left_on='date', \n",
    "    right_on='date', \n",
    "    how='left', \n",
    "    suffixes=['_a', '_b']\n",
    ")\n",
    "cumulative_revenue_ab.head()"
   ]
  },
  {
   "cell_type": "code",
   "execution_count": 26,
   "metadata": {},
   "outputs": [
    {
     "data": {
      "image/png": "[encoded data removed]",
      "text/plain": [
       "<Figure size 640x480 with 1 Axes>"
      ]
     },
     "metadata": {},
     "output_type": "display_data"
    }
   ],
   "source": [
    "plt.plot(cumulative_revenue_ab['date'], \n",
    "         (cumulative_revenue_ab['revenue_b']/cumulative_revenue_ab['orders_b'])/\n",
    "         (cumulative_revenue_ab['revenue_a']/cumulative_revenue_ab['orders_a'])-1)\n",
    "\n",
    "plt.axhline(y=0, color='black', linestyle='--')\n",
    "plt.title('График относительного изменения кумулятивного среднего чека группы B к группе A')\n",
    "plt.xticks(rotation=30);"
   ]
  },
  {
   "cell_type": "markdown",
   "metadata": {},
   "source": [
    "График резко скачет - определённо, имеют место какие-то выбросы и крупные заказы.\n",
    "\n",
    "### Построим график кумулятивного среднего количества заказов на посетителя по группам. \n",
    "Другими словами - конверсия посетителя в покупателя."
   ]
  },
  {
   "cell_type": "code",
   "execution_count": 27,
   "metadata": {},
   "outputs": [
    {
     "data": {
      "image/png": "[encoded data removed]",
      "text/plain": [
       "<Figure size 640x480 with 1 Axes>"
      ]
     },
     "metadata": {},
     "output_type": "display_data"
    }
   ],
   "source": [
    "cumulative_data_a = cumulative_data[cumulative_data['group']=='A']\n",
    "cumulative_data_b = cumulative_data[cumulative_data['group']=='B']\n",
    "\n",
    "plt.plot(cumulative_data_a['date'], cumulative_data_a['conversion'], label='A')\n",
    "plt.plot(cumulative_data_b['date'], cumulative_data_b['conversion'], label='B')\n",
    "plt.legend()\n",
    "plt.title('Кумулятивная конверсия по группам')\n",
    "plt.xlabel(' ')\n",
    "plt.ylabel('Конверсия')\n",
    "plt.xticks(rotation=30);"
   ]
  },
  {
   "cell_type": "markdown",
   "metadata": {},
   "source": [
    "Как и в теории больших чисел, сначала оба графика сильно колебались, но ближе к концу наблюдения оба выровнялись, при этом конверсия группы В выше.\n",
    "\n",
    "### Построим график относительного изменения кумулятивного среднего количества заказов на посетителя группы B к группе A."
   ]
  },
  {
   "cell_type": "code",
   "execution_count": 28,
   "metadata": {},
   "outputs": [
    {
     "data": {
      "image/png": "[encoded data removed]",
      "text/plain": [
       "<Figure size 640x480 with 1 Axes>"
      ]
     },
     "metadata": {},
     "output_type": "display_data"
    }
   ],
   "source": [
    "cumulative_conversions_ab = (\n",
    "    cumulative_data_a[['date','conversion']]\n",
    "    .merge(\n",
    "        cumulative_data_b[['date','conversion']], \n",
    "        left_on='date', \n",
    "        right_on='date', \n",
    "        how='left', \n",
    "        suffixes=['_a', '_b']\n",
    "    )\n",
    ")\n",
    "plt.plot(\n",
    "    cumulative_conversions_ab['date'], \n",
    "    cumulative_conversions_ab['conversion_b']/\n",
    "    cumulative_conversions_ab['conversion_a']-1\n",
    ")\n",
    "\n",
    "plt.axhline(y=0, color='black', linestyle='--')\n",
    "plt.title('Относительное изменение конверсии группы B относительно группы A')\n",
    "plt.xticks(rotation=30);"
   ]
  },
  {
   "cell_type": "markdown",
   "metadata": {},
   "source": [
    "После колебаний в начале теста группа В вырвалась вперед. Ее конверсия росла, далее начался медленный спад. Помним, что графики выше сигнализировали о наличии крупных заказов.\n",
    "\n",
    "### Построим точечный график количества заказов по пользователям."
   ]
  },
  {
   "cell_type": "code",
   "execution_count": 29,
   "metadata": {},
   "outputs": [
    {
     "data": {
      "text/plain": [
       "count    1031.000000\n",
       "mean        1.161009\n",
       "std         0.724919\n",
       "min         1.000000\n",
       "25%         1.000000\n",
       "50%         1.000000\n",
       "75%         1.000000\n",
       "max        11.000000\n",
       "Name: orders, dtype: float64"
      ]
     },
     "execution_count": 29,
     "metadata": {},
     "output_type": "execute_result"
    }
   ],
   "source": [
    "orders_by_users = orders.groupby('visitor_id', as_index=False).agg({'transaction_id': 'nunique'})\n",
    "orders_by_users.columns =  ['visitor_id', 'orders']\n",
    "orders_by_users['orders'].describe()"
   ]
  },
  {
   "cell_type": "code",
   "execution_count": 30,
   "metadata": {},
   "outputs": [
    {
     "data": {
      "image/png": "[encoded data removed]",
      "text/plain": [
       "<Figure size 1000x500 with 1 Axes>"
      ]
     },
     "metadata": {},
     "output_type": "display_data"
    }
   ],
   "source": [
    "orders_by_users['orders'].hist(bins=11*2, figsize=(10, 5))\n",
    "plt.title('Распределение количества заказов по пользователям')\n",
    "plt.xlabel('Количество заказов')\n",
    "plt.ylabel('Количество пользователей');"
   ]
  },
  {
   "cell_type": "markdown",
   "metadata": {},
   "source": [
    "Большинство пользователей делают всего 1 заказ, но есть и те, кто успел сделать и 11. Посмотрим на точечном графике:"
   ]
  },
  {
   "cell_type": "code",
   "execution_count": 31,
   "metadata": {},
   "outputs": [
    {
     "data": {
      "image/png": "[encoded data removed]",
      "text/plain": [
       "<Figure size 640x480 with 1 Axes>"
      ]
     },
     "metadata": {},
     "output_type": "display_data"
    }
   ],
   "source": [
    "x_values = pd.Series(range(0,len(orders_by_users)))\n",
    "\n",
    "plt.scatter(x_values, orders_by_users['orders'], color='green', alpha=0.5)\n",
    "plt.title('Распределение количества заказов по пользователям')\n",
    "plt.ylabel('Количество заказов');"
   ]
  },
  {
   "cell_type": "markdown",
   "metadata": {},
   "source": [
    "Много пользователей с 2-3 заказами. Их точная доля не ясна, поэтому сложно понять, что считать выбросами. Поэтому...\n",
    "\n",
    "### Посчитаем 95-й и 99-й перцентили количества заказов на пользователя.\n",
    "... и выберем границу для определения аномальных пользователей."
   ]
  },
  {
   "cell_type": "code",
   "execution_count": 32,
   "metadata": {},
   "outputs": [
    {
     "data": {
      "text/plain": [
       "array([2., 4.])"
      ]
     },
     "execution_count": 32,
     "metadata": {},
     "output_type": "execute_result"
    }
   ],
   "source": [
    "np.percentile(orders_by_users['orders'], [95, 99])"
   ]
  },
  {
   "cell_type": "markdown",
   "metadata": {},
   "source": [
    "Не более 5% пользователей совершали больше 2 покупок, а 4 и более покупок - всего 1% пользователей. За верхнюю границу аномальных пользователей будем считать 4 заказа на одного пользователя.\n",
    "\n",
    "### Построим точечный график стоимостей заказов."
   ]
  },
  {
   "cell_type": "code",
   "execution_count": 33,
   "metadata": {},
   "outputs": [
    {
     "name": "stdout",
     "output_type": "stream",
     "text": [
      "count       1197.000\n",
      "mean        8348.006\n",
      "std        39191.132\n",
      "min           50.000\n",
      "25%         1220.000\n",
      "50%         2978.000\n",
      "75%         8290.000\n",
      "max      1294500.000\n",
      "Name: revenue, dtype: float64\n"
     ]
    },
    {
     "data": {
      "image/png": "[encoded data removed]",
      "text/plain": [
       "<Figure size 1000x500 with 1 Axes>"
      ]
     },
     "metadata": {},
     "output_type": "display_data"
    }
   ],
   "source": [
    "print((orders['revenue'].describe().round(3)))\n",
    "\n",
    "orders['revenue'].hist(bins=10*2, figsize=(10, 5)) \n",
    "plt.title('Распределение стоимости заказов по пользователям')\n",
    "plt.xlabel('Стоимость заказов')\n",
    "plt.ylabel('Количество пользователей');"
   ]
  },
  {
   "cell_type": "markdown",
   "metadata": {},
   "source": [
    "Медианное значение около 3000, среднее 8350, при этом минимально 50, а максимальное почти 1.3 млн.! В нашем интернет-магазине есть товары на любой вкус и кошелёк). Кажется мы видим явный выброс. Что покажет точечный график:"
   ]
  },
  {
   "cell_type": "code",
   "execution_count": 34,
   "metadata": {},
   "outputs": [
    {
     "data": {
      "image/png": "[encoded data removed]",
      "text/plain": [
       "<Figure size 640x480 with 1 Axes>"
      ]
     },
     "metadata": {},
     "output_type": "display_data"
    }
   ],
   "source": [
    "x_values = pd.Series(range(0,len(orders['revenue'])))\n",
    "\n",
    "plt.scatter(x_values, orders['revenue'], color='green', alpha=0.5)\n",
    "plt.title('Распределение стоимости заказов по пользователям')\n",
    "plt.ylabel('Стоимость заказа');"
   ]
  },
  {
   "cell_type": "markdown",
   "metadata": {},
   "source": [
    "Даже линии сетки не нужны, чтобы определить выбросы. Но мы себя обезопасим и...\n",
    "\n",
    "### Посчитаем 95-й и 99-й перцентили стоимости заказов.\n",
    "... чтобы выбрать границу для определения аномальных заказов."
   ]
  },
  {
   "cell_type": "code",
   "execution_count": 35,
   "metadata": {},
   "outputs": [
    {
     "name": "stdout",
     "output_type": "stream",
     "text": [
      "[28000.  58233.2]\n"
     ]
    }
   ],
   "source": [
    "print(np.percentile(orders['revenue'], [95, 99]))"
   ]
  },
  {
   "cell_type": "markdown",
   "metadata": {},
   "source": [
    "До 5% пользователей делают заказы свыше 28000, и меньше 1% - на 58233 и больше. Границей также будем считать наши 99%.\n",
    "\n",
    "### Посчитаем статистическую значимость различий в среднем количестве заказов на посетителя между группами по «сырым» данным.\n",
    "По результатам A/B-теста мы выяснили, что в данных есть выбросы. Потом нашли границу для их определения. Посчитаем статистическую значимость различий между группами по «сырым» данным — без удаления аномальных пользователей.\n",
    "Введем основную и альтернативные гипотезы:\n",
    "- Н0 - различий в среднем количестве заказов на посетителя между группами нет\n",
    "- Н1 - различия в среднем количестве заказов на посетителя между группами есть\n",
    "\n",
    "Начнём с подготовки данных.\n",
    "\n",
    "Так как данные о продажах и средних чеках редко бывают нормально распределены (это классический пример переменных, подверженных выбросам), для проверки гипотез будем использовать непараметрический тест Уилкоксона-Манна-Уитни.\n",
    "Установим стандартный уровень статистической значимости, равный 0.05."
   ]
  },
  {
   "cell_type": "code",
   "execution_count": 36,
   "metadata": {},
   "outputs": [
    {
     "data": {
      "text/html": [
       "<div>\n",
       "<style scoped>\n",
       "    .dataframe tbody tr th:only-of-type {\n",
       "        vertical-align: middle;\n",
       "    }\n",
       "\n",
       "    .dataframe tbody tr th {\n",
       "        vertical-align: top;\n",
       "    }\n",
       "\n",
       "    .dataframe thead th {\n",
       "        text-align: right;\n",
       "    }\n",
       "</style>\n",
       "<table border=\"1\" class=\"dataframe\">\n",
       "  <thead>\n",
       "    <tr style=\"text-align: right;\">\n",
       "      <th></th>\n",
       "      <th>date</th>\n",
       "      <th>orders_daily_a</th>\n",
       "      <th>revenue_per_date_a</th>\n",
       "      <th>orders_daily_b</th>\n",
       "      <th>revenue_per_date_b</th>\n",
       "      <th>orders_cummulative_a</th>\n",
       "      <th>revenue_cummulative_a</th>\n",
       "      <th>orders_cummulative_b</th>\n",
       "      <th>revenue_cummulative_b</th>\n",
       "      <th>visitors_per_date_a</th>\n",
       "      <th>visitors_per_date_b</th>\n",
       "      <th>visitors_cummulative_a</th>\n",
       "      <th>visitors_cummulative_b</th>\n",
       "    </tr>\n",
       "  </thead>\n",
       "  <tbody>\n",
       "    <tr>\n",
       "      <th>0</th>\n",
       "      <td>2019-08-01</td>\n",
       "      <td>24</td>\n",
       "      <td>148579</td>\n",
       "      <td>21</td>\n",
       "      <td>101217</td>\n",
       "      <td>24</td>\n",
       "      <td>148579</td>\n",
       "      <td>21</td>\n",
       "      <td>101217</td>\n",
       "      <td>719</td>\n",
       "      <td>713</td>\n",
       "      <td>719</td>\n",
       "      <td>713</td>\n",
       "    </tr>\n",
       "    <tr>\n",
       "      <th>1</th>\n",
       "      <td>2019-08-02</td>\n",
       "      <td>20</td>\n",
       "      <td>93822</td>\n",
       "      <td>24</td>\n",
       "      <td>165531</td>\n",
       "      <td>44</td>\n",
       "      <td>242401</td>\n",
       "      <td>45</td>\n",
       "      <td>266748</td>\n",
       "      <td>619</td>\n",
       "      <td>581</td>\n",
       "      <td>1338</td>\n",
       "      <td>1294</td>\n",
       "    </tr>\n",
       "    <tr>\n",
       "      <th>2</th>\n",
       "      <td>2019-08-03</td>\n",
       "      <td>24</td>\n",
       "      <td>112473</td>\n",
       "      <td>16</td>\n",
       "      <td>114248</td>\n",
       "      <td>68</td>\n",
       "      <td>354874</td>\n",
       "      <td>61</td>\n",
       "      <td>380996</td>\n",
       "      <td>507</td>\n",
       "      <td>509</td>\n",
       "      <td>1845</td>\n",
       "      <td>1803</td>\n",
       "    </tr>\n",
       "    <tr>\n",
       "      <th>3</th>\n",
       "      <td>2019-08-04</td>\n",
       "      <td>16</td>\n",
       "      <td>70825</td>\n",
       "      <td>17</td>\n",
       "      <td>108571</td>\n",
       "      <td>84</td>\n",
       "      <td>425699</td>\n",
       "      <td>78</td>\n",
       "      <td>489567</td>\n",
       "      <td>717</td>\n",
       "      <td>770</td>\n",
       "      <td>2562</td>\n",
       "      <td>2573</td>\n",
       "    </tr>\n",
       "    <tr>\n",
       "      <th>4</th>\n",
       "      <td>2019-08-05</td>\n",
       "      <td>25</td>\n",
       "      <td>124218</td>\n",
       "      <td>23</td>\n",
       "      <td>92428</td>\n",
       "      <td>109</td>\n",
       "      <td>549917</td>\n",
       "      <td>101</td>\n",
       "      <td>581995</td>\n",
       "      <td>756</td>\n",
       "      <td>707</td>\n",
       "      <td>3318</td>\n",
       "      <td>3280</td>\n",
       "    </tr>\n",
       "    <tr>\n",
       "      <th>5</th>\n",
       "      <td>2019-08-06</td>\n",
       "      <td>18</td>\n",
       "      <td>48484</td>\n",
       "      <td>28</td>\n",
       "      <td>242342</td>\n",
       "      <td>127</td>\n",
       "      <td>598401</td>\n",
       "      <td>129</td>\n",
       "      <td>824337</td>\n",
       "      <td>667</td>\n",
       "      <td>655</td>\n",
       "      <td>3985</td>\n",
       "      <td>3935</td>\n",
       "    </tr>\n",
       "    <tr>\n",
       "      <th>6</th>\n",
       "      <td>2019-08-07</td>\n",
       "      <td>18</td>\n",
       "      <td>142417</td>\n",
       "      <td>24</td>\n",
       "      <td>225334</td>\n",
       "      <td>145</td>\n",
       "      <td>740818</td>\n",
       "      <td>153</td>\n",
       "      <td>1049671</td>\n",
       "      <td>644</td>\n",
       "      <td>709</td>\n",
       "      <td>4629</td>\n",
       "      <td>4644</td>\n",
       "    </tr>\n",
       "    <tr>\n",
       "      <th>7</th>\n",
       "      <td>2019-08-08</td>\n",
       "      <td>16</td>\n",
       "      <td>96279</td>\n",
       "      <td>27</td>\n",
       "      <td>220918</td>\n",
       "      <td>161</td>\n",
       "      <td>837097</td>\n",
       "      <td>180</td>\n",
       "      <td>1270589</td>\n",
       "      <td>610</td>\n",
       "      <td>654</td>\n",
       "      <td>5239</td>\n",
       "      <td>5298</td>\n",
       "    </tr>\n",
       "    <tr>\n",
       "      <th>8</th>\n",
       "      <td>2019-08-09</td>\n",
       "      <td>16</td>\n",
       "      <td>188506</td>\n",
       "      <td>25</td>\n",
       "      <td>160812</td>\n",
       "      <td>177</td>\n",
       "      <td>1025603</td>\n",
       "      <td>205</td>\n",
       "      <td>1431401</td>\n",
       "      <td>617</td>\n",
       "      <td>610</td>\n",
       "      <td>5856</td>\n",
       "      <td>5908</td>\n",
       "    </tr>\n",
       "    <tr>\n",
       "      <th>9</th>\n",
       "      <td>2019-08-10</td>\n",
       "      <td>16</td>\n",
       "      <td>210495</td>\n",
       "      <td>23</td>\n",
       "      <td>107802</td>\n",
       "      <td>193</td>\n",
       "      <td>1236098</td>\n",
       "      <td>228</td>\n",
       "      <td>1539203</td>\n",
       "      <td>406</td>\n",
       "      <td>369</td>\n",
       "      <td>6262</td>\n",
       "      <td>6277</td>\n",
       "    </tr>\n",
       "  </tbody>\n",
       "</table>\n",
       "</div>"
      ],
      "text/plain": [
       "        date  orders_daily_a  revenue_per_date_a  orders_daily_b  \\\n",
       "0 2019-08-01              24              148579              21   \n",
       "1 2019-08-02              20               93822              24   \n",
       "2 2019-08-03              24              112473              16   \n",
       "3 2019-08-04              16               70825              17   \n",
       "4 2019-08-05              25              124218              23   \n",
       "5 2019-08-06              18               48484              28   \n",
       "6 2019-08-07              18              142417              24   \n",
       "7 2019-08-08              16               96279              27   \n",
       "8 2019-08-09              16              188506              25   \n",
       "9 2019-08-10              16              210495              23   \n",
       "\n",
       "   revenue_per_date_b  orders_cummulative_a  revenue_cummulative_a  \\\n",
       "0              101217                    24                 148579   \n",
       "1              165531                    44                 242401   \n",
       "2              114248                    68                 354874   \n",
       "3              108571                    84                 425699   \n",
       "4               92428                   109                 549917   \n",
       "5              242342                   127                 598401   \n",
       "6              225334                   145                 740818   \n",
       "7              220918                   161                 837097   \n",
       "8              160812                   177                1025603   \n",
       "9              107802                   193                1236098   \n",
       "\n",
       "   orders_cummulative_b  revenue_cummulative_b  visitors_per_date_a  \\\n",
       "0                    21                 101217                  719   \n",
       "1                    45                 266748                  619   \n",
       "2                    61                 380996                  507   \n",
       "3                    78                 489567                  717   \n",
       "4                   101                 581995                  756   \n",
       "5                   129                 824337                  667   \n",
       "6                   153                1049671                  644   \n",
       "7                   180                1270589                  610   \n",
       "8                   205                1431401                  617   \n",
       "9                   228                1539203                  406   \n",
       "\n",
       "   visitors_per_date_b  visitors_cummulative_a  visitors_cummulative_b  \n",
       "0                  713                     719                     713  \n",
       "1                  581                    1338                    1294  \n",
       "2                  509                    1845                    1803  \n",
       "3                  770                    2562                    2573  \n",
       "4                  707                    3318                    3280  \n",
       "5                  655                    3985                    3935  \n",
       "6                  709                    4629                    4644  \n",
       "7                  654                    5239                    5298  \n",
       "8                  610                    5856                    5908  \n",
       "9                  369                    6262                    6277  "
      ]
     },
     "execution_count": 36,
     "metadata": {},
     "output_type": "execute_result"
    }
   ],
   "source": [
    "visitors_daily_a = visitors[visitors['group'] == 'A'][['date', 'visitors']]\n",
    "visitors_daily_a.columns = ['date', 'visitors_per_date_a']\n",
    "\n",
    "visitors_cummulative_a = visitors_daily_a.apply(\n",
    "    lambda x: visitors_daily_a[visitors_daily_a['date'] <= x['date']].agg(\n",
    "        {'date': 'max', 'visitors_per_date_a': 'sum'}\n",
    "    ),\n",
    "    axis=1,\n",
    ")\n",
    "visitors_cummulative_a.columns = ['date', 'visitors_cummulative_a']\n",
    "\n",
    "visitors_daily_b = visitors[visitors['group'] == 'B'][['date', 'visitors']]\n",
    "visitors_daily_b.columns = ['date', 'visitors_per_date_b']\n",
    "\n",
    "visitors_cummulative_b = visitors_daily_b.apply(\n",
    "    lambda x: visitors_daily_b[visitors_daily_b['date'] <= x['date']].agg(\n",
    "        {'date': 'max', 'visitors_per_date_b': 'sum'}\n",
    "    ),\n",
    "    axis=1,\n",
    ")\n",
    "visitors_cummulative_b.columns = ['date', 'visitors_cummulative_b']\n",
    "\n",
    "orders_daily_a = (\n",
    "    orders[orders['group'] == 'A'][['date', 'transaction_id', 'visitor_id', 'revenue']]\n",
    "    .groupby('date', as_index=False)\n",
    "    .agg({'transaction_id': pd.Series.nunique, 'revenue': 'sum'})\n",
    ")\n",
    "orders_daily_a.columns = ['date', 'orders_daily_a', 'revenue_per_date_a']\n",
    "\n",
    "orders_cummulative_a = orders_daily_a.apply(\n",
    "    lambda x: orders_daily_a[orders_daily_a['date'] <= x['date']].agg(\n",
    "        {'date': 'max', 'orders_daily_a': 'sum', 'revenue_per_date_a': 'sum'}\n",
    "    ),\n",
    "    axis=1,\n",
    ").sort_values(by=['date'])\n",
    "\n",
    "orders_cummulative_a.columns = ['date','orders_cummulative_a','revenue_cummulative_a']\n",
    "\n",
    "orders_daily_b = (\n",
    "    orders[orders['group'] == 'B'][['date', 'transaction_id', 'visitor_id', 'revenue']]\n",
    "    .groupby('date', as_index=False)\n",
    "    .agg({'transaction_id': pd.Series.nunique, 'revenue': 'sum'})\n",
    ")\n",
    "orders_daily_b.columns = ['date', 'orders_daily_b', 'revenue_per_date_b']\n",
    "\n",
    "orders_cummulative_b = orders_daily_b.apply(\n",
    "    lambda x: orders_daily_b[orders_daily_b['date'] <= x['date']].agg(\n",
    "        {'date': 'max', 'orders_daily_b': 'sum', 'revenue_per_date_b': 'sum'}\n",
    "    ),\n",
    "    axis=1,\n",
    ").sort_values(by=['date'])\n",
    "\n",
    "orders_cummulative_b.columns = ['date','orders_cummulative_b','revenue_cummulative_b']\n",
    "\n",
    "\n",
    "data = (\n",
    "    orders_daily_a.merge(\n",
    "        orders_daily_b, left_on='date', right_on='date', how='left'\n",
    "    )\n",
    "    .merge(orders_cummulative_a, left_on='date', right_on='date', how='left')\n",
    "    .merge(orders_cummulative_b, left_on='date', right_on='date', how='left')\n",
    "    .merge(visitors_daily_a, left_on='date', right_on='date', how='left')\n",
    "    .merge(visitors_daily_b, left_on='date', right_on='date', how='left')\n",
    "    .merge(visitors_cummulative_a, left_on='date', right_on='date', how='left')\n",
    "    .merge(visitors_cummulative_b, left_on='date', right_on='date', how='left')\n",
    ")\n",
    "\n",
    "data.head(10)"
   ]
  },
  {
   "cell_type": "markdown",
   "metadata": {},
   "source": [
    "Получилсь следующая таблица:\n",
    "\n",
    "- date — дата;\n",
    "- orders_daily_a — количество заказов в выбранную дату в группе A;\n",
    "- revenue_per_date_a — суммарная выручка в выбранную дату в группе A;\n",
    "- orders_daily_a — количество заказов в выбранную дату в группе B;\n",
    "- revenue_per_date_a — суммарная выручка в выбранную дату в группе B;\n",
    "- orders_cummulative_a — суммарное число заказов до выбранной даты включительно в группе A;\n",
    "- revenue_cummulative_a — суммарная выручка до выбранной даты включительно в группе A;\n",
    "- orders_cummulative_b — суммарное количество заказов до выбранной даты включительно в группе B;\n",
    "- revenue_cummulative_b — суммарная выручка до выбранной даты включительно в группе B;\n",
    "- visitors_per_date_a — количество пользователей в выбранную дату в группе A;\n",
    "- visitors_per_date_b — количество пользователей в выбранную дату в группе B;\n",
    "- visitors_cummulative_a — количество пользователей до выбранной даты включительно в группе A;\n",
    "- visitors_cummulative_b — количество пользователей до выбранной даты включительно в группе B.\n",
    "\n",
    "Создадим переменные **orders_by_users_a** и **orders_by_users_b** - в них для пользователей, которые заказывали хотя бы 1 раз, укажем число совершённых заказов."
   ]
  },
  {
   "cell_type": "code",
   "execution_count": 37,
   "metadata": {},
   "outputs": [],
   "source": [
    "orders_by_users_a = (\n",
    "    orders[orders['group'] == 'A']\n",
    "    .groupby('visitor_id', as_index=False)\n",
    "    .agg({'transaction_id': pd.Series.nunique})\n",
    ")\n",
    "orders_by_users_a.columns = ['visitor_id', 'orders']\n",
    "\n",
    "orders_by_users_b = (\n",
    "    orders[orders['group'] == 'B']\n",
    "    .groupby('visitor_id', as_index=False)\n",
    "    .agg({'transaction_id': pd.Series.nunique})\n",
    ")\n",
    "orders_by_users_b.columns = ['visitor_id', 'orders']"
   ]
  },
  {
   "cell_type": "markdown",
   "metadata": {},
   "source": [
    "Объявим переменные **sample_a** и **sample_b**, в которых пользователям из разных групп будет соответствовать количество заказов. Тем, кто ничего не заказал, будут соответствовать нули. Это нужно, чтобы подготовить выборки к проверке критерием Манна-Уитни."
   ]
  },
  {
   "cell_type": "code",
   "execution_count": 38,
   "metadata": {},
   "outputs": [],
   "source": [
    "sample_a = pd.concat([orders_by_users_a['orders'],\n",
    "                      pd.Series(\n",
    "                          0, \n",
    "                          index=np.arange(data['visitors_per_date_a'].sum() - \n",
    "                                          len(orders_by_users_a['orders'])), \n",
    "                          name='orders')],axis=0\n",
    "                    )\n",
    "\n",
    "sample_b = pd.concat([orders_by_users_b['orders'],\n",
    "                      pd.Series(\n",
    "                          0, \n",
    "                          index=np.arange(data['visitors_per_date_b'].sum() - \n",
    "                                          len(orders_by_users_b['orders'])), \n",
    "                          name='orders')],axis=0\n",
    "                    )"
   ]
  },
  {
   "cell_type": "markdown",
   "metadata": {},
   "source": [
    "Задаем функцию, в которой:\n",
    "\n",
    "- задаем уровень значимости alpha=0.05,\n",
    "- применим критерий Манна-Уитни,\n",
    "- отформатируем p-value, округлив его до трёх знаков после запятой,\n",
    "- выведем относительный прирост конверсии группы B: конверсия группы B / конверсия группы A - 1, округлив до трёх знаков после запятой."
   ]
  },
  {
   "cell_type": "code",
   "execution_count": 39,
   "metadata": {},
   "outputs": [
    {
     "name": "stdout",
     "output_type": "stream",
     "text": [
      "P-value: 0.017\n",
      "Отвергаем нулевую гипотезу: между группами есть разница\n",
      "Относительный прирост В к А: 13.808%\n"
     ]
    }
   ],
   "source": [
    "def stat_significance(data_a, data_b):\n",
    "    alpha = 0.05\n",
    "    p_value = stats.mannwhitneyu(data_a, data_b)[1]\n",
    "    print(\"P-value: {0:.3f}\".format(p_value))\n",
    "\n",
    "    if (p_value < alpha):\n",
    "        print(\"Отвергаем нулевую гипотезу: между группами есть разница\")\n",
    "    else:\n",
    "        print(\"Не получилось отвергнуть нулевую гипотезу, нет оснований считать группы разными\")\n",
    "    \n",
    "    print(\"Относительный прирост В к А: {0:.3%}\".format(data_b.mean() / data_a.mean()-1))\n",
    "    \n",
    "stat_significance(sample_a, sample_b)"
   ]
  },
  {
   "cell_type": "markdown",
   "metadata": {},
   "source": [
    "По \"сырым\" данным различия в конверсии между группами есть.\n",
    "P-value = 0.017 меньше 0.05. Значит, нулевую гипотезу о том, что статистически значимых различий в конверсии между группами нет, отвергаем. Относительный выигрыш группы B равен 13.81%.\n",
    "\n",
    "### Посчитаем статистическую значимость различий в среднем чеке заказа между группами по «сырым» данным.\n",
    "Введем основную и альтернативные гипотезы:\n",
    "\n",
    "- Н0 - различий в среднем чеке между группами нет\n",
    "- Н1 - различия в среднем чеке между группами есть\n",
    "\n",
    "Уровень значимости также примем 0,05 \n",
    "\n",
    "Чтобы рассчитать статистическую значимость различий в среднем чеке, передадим критерию mannwhitneyu() данные о выручке с заказов. А ещё найдём относительные различия в среднем чеке между группами."
   ]
  },
  {
   "cell_type": "code",
   "execution_count": 40,
   "metadata": {},
   "outputs": [
    {
     "name": "stdout",
     "output_type": "stream",
     "text": [
      "P-value: 0.729\n",
      "Не получилось отвергнуть нулевую гипотезу, нет оснований считать группы разными\n",
      "Относительный прирост В к А: 25.871%\n"
     ]
    }
   ],
   "source": [
    "stat_significance(orders[orders['group']=='A']['revenue'], orders[orders['group']=='B']['revenue'])"
   ]
  },
  {
   "cell_type": "markdown",
   "metadata": {},
   "source": [
    "P-value значительно больше 0.05. Значит, причин отвергать нулевую гипотезу и считать, что в среднем чеке есть различия, нет. Впрочем, средний чек группы B значительно выше среднего чека группы A.\n",
    "\n",
    "### Посчитаем статистическую значимость различий в среднем количестве заказов на посетителя между группами по «очищенным» данным.\n",
    "\n",
    "Примем за аномальных пользователей тех, кто совершил от 5 заказов или совершил заказ дороже 58233. Так мы уберём около 1% пользователей с наибольшим числом заказов и около 1% пользователей с дорогими заказами. Сделаем срезы пользователей с числом заказов больше 4 — **users_with_many_orders** и пользователей, совершивших заказы дороже 58233 — **users_with_expensive_orders**. Объединим их в таблице **abnormal_users**.\n",
    "Узнаем, сколько всего аномальных пользователей методом shape()."
   ]
  },
  {
   "cell_type": "code",
   "execution_count": 41,
   "metadata": {},
   "outputs": [
    {
     "data": {
      "text/plain": [
       "15"
      ]
     },
     "execution_count": 41,
     "metadata": {},
     "output_type": "execute_result"
    }
   ],
   "source": [
    "many_orders = np.percentile(orders_by_users['orders'], 99)\n",
    "expensive_orders = np.percentile(orders['revenue'], 99)\n",
    "\n",
    "\n",
    "users_with_many_orders = pd.concat(\n",
    "    [\n",
    "        orders_by_users_a[orders_by_users_a['orders'] > many_orders]['visitor_id'],\n",
    "        orders_by_users_b[orders_by_users_b['orders'] > many_orders]['visitor_id'],\n",
    "    ],\n",
    "    axis=0,\n",
    ")\n",
    "\n",
    "\n",
    "users_with_expensive_orders = orders[orders['revenue'] > expensive_orders]['visitor_id']\n",
    "\n",
    "\n",
    "abnormal_users = (\n",
    "    pd.concat([users_with_many_orders, users_with_expensive_orders], axis=0)\n",
    "    .drop_duplicates()\n",
    "    .sort_values()\n",
    ")\n",
    "\n",
    "abnormal_users.shape[0]"
   ]
  },
  {
   "cell_type": "markdown",
   "metadata": {},
   "source": [
    "Всего 15 аномальных пользователей. Посмотрим, как они повлияли на результаты теста. Посчитаем статистическую значимость различий в среднем количестве заказов на посетителя между группами теста по очищенным данным. Сначала подготовим выборки количества заказов по пользователям по группам теста."
   ]
  },
  {
   "cell_type": "code",
   "execution_count": 42,
   "metadata": {},
   "outputs": [
    {
     "name": "stdout",
     "output_type": "stream",
     "text": [
      "P-value: 0.014\n",
      "Отвергаем нулевую гипотезу: между группами есть разница\n",
      "Относительный прирост В к А: 15.331%\n"
     ]
    }
   ],
   "source": [
    "sample_a_filtered = pd.concat(\n",
    "    [\n",
    "        orders_by_users_a[\n",
    "            np.logical_not(orders_by_users_a['visitor_id'].isin(abnormal_users))\n",
    "        ]['orders'],\n",
    "        pd.Series(\n",
    "            0,\n",
    "            index=np.arange(\n",
    "                data['visitors_per_date_a'].sum() - len(orders_by_users_a['orders'])\n",
    "            ),\n",
    "            name='orders',\n",
    "        ),\n",
    "    ],\n",
    "    axis=0,\n",
    ")\n",
    "\n",
    "sample_b_filtered = pd.concat(\n",
    "    [\n",
    "        orders_by_users_b[\n",
    "            np.logical_not(orders_by_users_b['visitor_id'].isin(abnormal_users))\n",
    "        ]['orders'],\n",
    "        pd.Series(\n",
    "            0,\n",
    "            index=np.arange(\n",
    "                data['visitors_per_date_b'].sum() - len(orders_by_users_b['orders'])\n",
    "            ),\n",
    "            name='orders',\n",
    "        ),\n",
    "    ],\n",
    "    axis=0,\n",
    ")\n",
    "\n",
    "stat_significance(sample_a_filtered, sample_b_filtered)"
   ]
  },
  {
   "cell_type": "markdown",
   "metadata": {},
   "source": [
    "На очищенных данных разница между группами есть, а относительный прирост конверсии группы В отнистельно группы А увеличился на 15.3%.\n",
    "\n",
    "### Посчитаем статистическую значимость различий в среднем чеке заказа между группами по «очищенным» данным."
   ]
  },
  {
   "cell_type": "code",
   "execution_count": 43,
   "metadata": {},
   "outputs": [
    {
     "name": "stdout",
     "output_type": "stream",
     "text": [
      "P-value: 0.851\n",
      "Не получилось отвергнуть нулевую гипотезу, нет оснований считать группы разными\n",
      "Относительный прирост В к А: -0.575%\n"
     ]
    }
   ],
   "source": [
    "stat_significance(\n",
    "    orders[(orders['group']=='A') & np.logical_not(orders['visitor_id'].isin(abnormal_users))]['revenue'], \n",
    "    orders[(orders['group']=='B') & np.logical_not(orders['visitor_id'].isin(abnormal_users))]['revenue']\n",
    "                  )"
   ]
  },
  {
   "cell_type": "markdown",
   "metadata": {},
   "source": [
    "P-value значительно больше 0.05. Значит, причин отвергать нулевую гипотезу и считать, что в среднем чеке есть различия, нет. По разнице средних чеков групп различий практически нет.\n",
    "\n",
    "### Примем решение по результатам теста.\n",
    "\n",
    "Остановить тест, зафиксировать победу группы В - при схожих средних чеках в \"очищенных\" от аномалий данных посетители в группе В лучше конвертируются в заказчиков (на 13-15%). Проверка в цифрах: количество пользователей, покупок, средняя покупка в группах А и В, соответственно:"
   ]
  },
  {
   "cell_type": "code",
   "execution_count": 44,
   "metadata": {},
   "outputs": [
    {
     "name": "stdout",
     "output_type": "stream",
     "text": [
      "18725\n",
      "18906\n",
      "557\n",
      "640\n",
      "6470.59\n",
      "6592.69\n"
     ]
    }
   ],
   "source": [
    "print(sample_a_filtered.count())\n",
    "print(sample_b_filtered.count())\n",
    "print(orders_by_users_a['orders'].sum())\n",
    "print(orders_by_users_b['orders'].sum())\n",
    "print((orders.loc[((orders['revenue'] < expensive_orders) & (orders['group'] == 'A'))]['revenue'].mean()).round(2))\n",
    "print((orders.loc[((orders['revenue'] < expensive_orders) & (orders['group'] == 'B'))]['revenue'].mean()).round(2))"
   ]
  },
  {
   "cell_type": "markdown",
   "metadata": {},
   "source": [
    "# Вывод\n",
    "На основании входных данных, предоставленных интернет-магазином, был проведено исследование и вынесены рекомендации:\n",
    "\n",
    "1. В части приоритизации гипотез из списка, предоставленных отделом Маркетинга следует в первую очередь обратить внимание на гипотезы:\n",
    "\n",
    "- \"Запустить акцию, дающую скидку на товар в день рождения\",\n",
    "- \"Добавить два новых канала привлечения трафика, что позволит привлекать на 30% больше пользователей\",\n",
    "- \"Добавить форму подписки на все основные страницы, чтобы собрать базу клиентов для email-рассылок\";\n",
    "\n",
    "Если ранжирование гипотез должно включать в себя и охват пользователей интернет-магазина, то необходимо рассмотреть следующие:\n",
    "\n",
    "- \"Добавить форму подписки на все основные страницы, чтобы собрать базу клиентов для email-рассылок\",\n",
    "- \"Добавить блоки рекомендаций товаров на сайт интернет магазина, чтобы повысить конверсию и средний чек заказа\",\n",
    "- \"Добавить два новых канала привлечения трафика, что позволит привлекать на 30% больше пользователей\".\n",
    "- \"Показать на главной странице баннеры с актуальными акциями и распродажами, чтобы увеличить конверсию\".\n",
    "\n",
    "2. В части анализа А/В теста:\n",
    "\n",
    "Есть статистически значимое различие в среднем количестве заказов на посетителя между группами как по «сырым», так и по данным после фильтрации аномалий. Конверсия группы В выше, чем в А, на 13-15%;\n",
    "\n",
    "Нет статистически значимого различия по среднему чеку между группами ни по «сырым», ни по данным после фильтрации аномалий.\n",
    "\n",
    "График относительного изменения кумулятивной конверсии группы B к группе A показывает, что результаты группы В стабильно лучше группы А;\n",
    "\n",
    "На основании вышеизложенного рекомендуем остановить тест, зафиксировав победу группы B (ее конверсия значительно выше конверсии группы А)."
   ]
  }
 ],
 "metadata": {
  "ExecuteTimeLog": [
   {
    "duration": 1440,
    "start_time": "2024-02-29T18:26:13.783Z"
   },
   {
    "duration": 180,
    "start_time": "2024-02-29T18:26:15.225Z"
   },
   {
    "duration": 11,
    "start_time": "2024-02-29T18:28:13.894Z"
   },
   {
    "duration": 14,
    "start_time": "2024-02-29T18:28:32.838Z"
   },
   {
    "duration": 8,
    "start_time": "2024-02-29T18:28:46.458Z"
   },
   {
    "duration": 9,
    "start_time": "2024-02-29T18:31:53.697Z"
   },
   {
    "duration": 8,
    "start_time": "2024-02-29T18:32:31.022Z"
   },
   {
    "duration": 10,
    "start_time": "2024-02-29T18:32:42.497Z"
   },
   {
    "duration": 94,
    "start_time": "2024-02-29T18:34:07.190Z"
   },
   {
    "duration": 10,
    "start_time": "2024-02-29T18:34:42.449Z"
   },
   {
    "duration": 10,
    "start_time": "2024-02-29T18:34:50.331Z"
   },
   {
    "duration": 7,
    "start_time": "2024-02-29T18:43:51.280Z"
   },
   {
    "duration": 10,
    "start_time": "2024-02-29T18:44:06.643Z"
   },
   {
    "duration": 8,
    "start_time": "2024-02-29T18:46:19.351Z"
   },
   {
    "duration": 5,
    "start_time": "2024-02-29T18:51:27.990Z"
   },
   {
    "duration": 5,
    "start_time": "2024-02-29T18:51:54.497Z"
   },
   {
    "duration": 16,
    "start_time": "2024-02-29T18:55:01.788Z"
   },
   {
    "duration": 14,
    "start_time": "2024-02-29T18:55:11.553Z"
   },
   {
    "duration": 6,
    "start_time": "2024-02-29T18:55:16.625Z"
   },
   {
    "duration": 14,
    "start_time": "2024-02-29T20:20:12.191Z"
   },
   {
    "duration": 12,
    "start_time": "2024-02-29T20:20:49.058Z"
   },
   {
    "duration": 14,
    "start_time": "2024-02-29T20:21:30.646Z"
   },
   {
    "duration": 10,
    "start_time": "2024-02-29T20:22:13.376Z"
   },
   {
    "duration": 113,
    "start_time": "2024-02-29T20:24:30.970Z"
   },
   {
    "duration": 7,
    "start_time": "2024-02-29T20:24:35.759Z"
   },
   {
    "duration": 11,
    "start_time": "2024-02-29T20:24:43.260Z"
   },
   {
    "duration": 177,
    "start_time": "2024-02-29T20:24:44.466Z"
   },
   {
    "duration": 17,
    "start_time": "2024-02-29T20:25:50.933Z"
   },
   {
    "duration": 70,
    "start_time": "2024-02-29T20:26:03.433Z"
   },
   {
    "duration": 169,
    "start_time": "2024-02-29T20:26:39.881Z"
   },
   {
    "duration": 273,
    "start_time": "2024-02-29T20:28:08.048Z"
   },
   {
    "duration": 73,
    "start_time": "2024-02-29T20:28:43.171Z"
   },
   {
    "duration": 286,
    "start_time": "2024-02-29T20:28:53.006Z"
   },
   {
    "duration": 276,
    "start_time": "2024-02-29T20:29:18.107Z"
   },
   {
    "duration": 85,
    "start_time": "2024-02-29T20:30:35.827Z"
   },
   {
    "duration": 333,
    "start_time": "2024-02-29T20:30:42.467Z"
   },
   {
    "duration": 332,
    "start_time": "2024-02-29T20:30:53.428Z"
   },
   {
    "duration": 332,
    "start_time": "2024-02-29T20:31:02.339Z"
   },
   {
    "duration": 340,
    "start_time": "2024-02-29T20:32:00.194Z"
   },
   {
    "duration": 300,
    "start_time": "2024-02-29T20:32:08.386Z"
   },
   {
    "duration": 292,
    "start_time": "2024-02-29T20:34:02.667Z"
   },
   {
    "duration": 1131,
    "start_time": "2024-02-29T20:40:52.684Z"
   },
   {
    "duration": 71,
    "start_time": "2024-02-29T20:40:53.816Z"
   },
   {
    "duration": 11,
    "start_time": "2024-02-29T20:40:53.888Z"
   },
   {
    "duration": 10,
    "start_time": "2024-02-29T20:40:53.900Z"
   },
   {
    "duration": 9,
    "start_time": "2024-02-29T20:40:53.911Z"
   },
   {
    "duration": 13,
    "start_time": "2024-02-29T20:40:53.922Z"
   },
   {
    "duration": 8,
    "start_time": "2024-02-29T20:40:53.937Z"
   },
   {
    "duration": 12,
    "start_time": "2024-02-29T20:40:53.947Z"
   },
   {
    "duration": 8,
    "start_time": "2024-02-29T20:40:53.961Z"
   },
   {
    "duration": 4,
    "start_time": "2024-02-29T20:40:53.971Z"
   },
   {
    "duration": 42,
    "start_time": "2024-02-29T20:40:53.976Z"
   },
   {
    "duration": 15,
    "start_time": "2024-02-29T20:40:54.020Z"
   },
   {
    "duration": 272,
    "start_time": "2024-02-29T20:40:54.036Z"
   },
   {
    "duration": 15,
    "start_time": "2024-02-29T20:40:54.317Z"
   },
   {
    "duration": 1137,
    "start_time": "2024-02-29T20:41:22.282Z"
   },
   {
    "duration": 72,
    "start_time": "2024-02-29T20:41:23.422Z"
   },
   {
    "duration": 12,
    "start_time": "2024-02-29T20:41:23.495Z"
   },
   {
    "duration": 10,
    "start_time": "2024-02-29T20:41:23.508Z"
   },
   {
    "duration": 8,
    "start_time": "2024-02-29T20:41:23.520Z"
   },
   {
    "duration": 17,
    "start_time": "2024-02-29T20:41:23.530Z"
   },
   {
    "duration": 13,
    "start_time": "2024-02-29T20:41:23.549Z"
   },
   {
    "duration": 11,
    "start_time": "2024-02-29T20:41:23.563Z"
   },
   {
    "duration": 7,
    "start_time": "2024-02-29T20:41:23.576Z"
   },
   {
    "duration": 5,
    "start_time": "2024-02-29T20:41:23.584Z"
   },
   {
    "duration": 28,
    "start_time": "2024-02-29T20:41:23.590Z"
   },
   {
    "duration": 18,
    "start_time": "2024-02-29T20:41:23.620Z"
   },
   {
    "duration": 307,
    "start_time": "2024-02-29T20:41:23.640Z"
   },
   {
    "duration": 12,
    "start_time": "2024-02-29T20:41:23.950Z"
   },
   {
    "duration": 256,
    "start_time": "2024-02-29T20:45:02.023Z"
   },
   {
    "duration": 289,
    "start_time": "2024-02-29T20:45:54.344Z"
   },
   {
    "duration": 253,
    "start_time": "2024-02-29T20:46:42.895Z"
   },
   {
    "duration": 11,
    "start_time": "2024-02-29T20:51:01.565Z"
   },
   {
    "duration": 167,
    "start_time": "2024-02-29T20:53:33.829Z"
   },
   {
    "duration": 210,
    "start_time": "2024-02-29T20:53:50.318Z"
   },
   {
    "duration": 223,
    "start_time": "2024-02-29T20:53:59.108Z"
   },
   {
    "duration": 162,
    "start_time": "2024-02-29T20:54:17.083Z"
   },
   {
    "duration": 5,
    "start_time": "2024-02-29T20:55:26.370Z"
   },
   {
    "duration": 10,
    "start_time": "2024-02-29T20:55:33.453Z"
   },
   {
    "duration": 234,
    "start_time": "2024-02-29T20:55:36.019Z"
   },
   {
    "duration": 154,
    "start_time": "2024-02-29T20:57:32.689Z"
   },
   {
    "duration": 10,
    "start_time": "2024-02-29T21:03:42.720Z"
   },
   {
    "duration": 109,
    "start_time": "2024-02-29T21:37:33.913Z"
   },
   {
    "duration": 19,
    "start_time": "2024-02-29T21:37:58.417Z"
   },
   {
    "duration": 15,
    "start_time": "2024-02-29T21:38:12.726Z"
   },
   {
    "duration": 30,
    "start_time": "2024-02-29T21:38:35.041Z"
   },
   {
    "duration": 1109,
    "start_time": "2024-02-29T21:38:46.218Z"
   },
   {
    "duration": 72,
    "start_time": "2024-02-29T21:38:47.329Z"
   },
   {
    "duration": 10,
    "start_time": "2024-02-29T21:38:47.402Z"
   },
   {
    "duration": 10,
    "start_time": "2024-02-29T21:38:47.413Z"
   },
   {
    "duration": 7,
    "start_time": "2024-02-29T21:38:47.425Z"
   },
   {
    "duration": 14,
    "start_time": "2024-02-29T21:38:47.434Z"
   },
   {
    "duration": 10,
    "start_time": "2024-02-29T21:38:47.449Z"
   },
   {
    "duration": 12,
    "start_time": "2024-02-29T21:38:47.460Z"
   },
   {
    "duration": 22,
    "start_time": "2024-02-29T21:38:47.473Z"
   },
   {
    "duration": 10,
    "start_time": "2024-02-29T21:38:47.497Z"
   },
   {
    "duration": 6,
    "start_time": "2024-02-29T21:38:47.518Z"
   },
   {
    "duration": 18,
    "start_time": "2024-02-29T21:38:47.525Z"
   },
   {
    "duration": 288,
    "start_time": "2024-02-29T21:38:47.545Z"
   },
   {
    "duration": 11,
    "start_time": "2024-02-29T21:38:47.836Z"
   },
   {
    "duration": 269,
    "start_time": "2024-02-29T21:38:47.849Z"
   },
   {
    "duration": 11,
    "start_time": "2024-02-29T21:38:48.120Z"
   },
   {
    "duration": 187,
    "start_time": "2024-02-29T21:38:48.133Z"
   },
   {
    "duration": 147,
    "start_time": "2024-02-29T21:38:48.322Z"
   },
   {
    "duration": 0,
    "start_time": "2024-02-29T21:38:48.471Z"
   },
   {
    "duration": 17,
    "start_time": "2024-02-29T21:39:09.047Z"
   },
   {
    "duration": 12,
    "start_time": "2024-02-29T21:39:11.496Z"
   },
   {
    "duration": 159,
    "start_time": "2024-02-29T21:43:29.266Z"
   },
   {
    "duration": 180,
    "start_time": "2024-02-29T21:43:53.200Z"
   },
   {
    "duration": 116,
    "start_time": "2024-02-29T21:45:44.510Z"
   },
   {
    "duration": 117,
    "start_time": "2024-02-29T21:45:51.882Z"
   },
   {
    "duration": 16,
    "start_time": "2024-02-29T21:49:27.324Z"
   },
   {
    "duration": 14,
    "start_time": "2024-02-29T21:50:01.366Z"
   },
   {
    "duration": 238,
    "start_time": "2024-02-29T21:52:02.777Z"
   },
   {
    "duration": 156,
    "start_time": "2024-02-29T21:53:35.245Z"
   },
   {
    "duration": 181,
    "start_time": "2024-02-29T21:56:08.646Z"
   },
   {
    "duration": 187,
    "start_time": "2024-02-29T21:56:56.578Z"
   },
   {
    "duration": 278,
    "start_time": "2024-02-29T21:58:13.882Z"
   },
   {
    "duration": 176,
    "start_time": "2024-02-29T22:03:43.299Z"
   },
   {
    "duration": 11,
    "start_time": "2024-02-29T22:08:53.167Z"
   },
   {
    "duration": 278,
    "start_time": "2024-02-29T22:10:05.256Z"
   },
   {
    "duration": 358,
    "start_time": "2024-02-29T22:10:37.308Z"
   },
   {
    "duration": 202,
    "start_time": "2024-02-29T22:16:09.298Z"
   },
   {
    "duration": 296,
    "start_time": "2024-02-29T22:23:54.431Z"
   },
   {
    "duration": 11,
    "start_time": "2024-02-29T22:30:48.703Z"
   },
   {
    "duration": 13,
    "start_time": "2024-02-29T22:31:29.151Z"
   },
   {
    "duration": 18,
    "start_time": "2024-02-29T22:31:42.361Z"
   },
   {
    "duration": 12,
    "start_time": "2024-02-29T22:32:03.360Z"
   },
   {
    "duration": 5,
    "start_time": "2024-02-29T22:32:57.113Z"
   },
   {
    "duration": 139,
    "start_time": "2024-02-29T22:33:35.926Z"
   },
   {
    "duration": 175,
    "start_time": "2024-02-29T22:34:11.558Z"
   },
   {
    "duration": 117,
    "start_time": "2024-02-29T22:37:31.794Z"
   },
   {
    "duration": 115,
    "start_time": "2024-02-29T22:37:47.450Z"
   },
   {
    "duration": 141,
    "start_time": "2024-02-29T22:37:58.794Z"
   },
   {
    "duration": 194,
    "start_time": "2024-02-29T22:38:21.427Z"
   },
   {
    "duration": 126,
    "start_time": "2024-02-29T22:39:01.660Z"
   },
   {
    "duration": 139,
    "start_time": "2024-02-29T22:39:38.446Z"
   },
   {
    "duration": 6,
    "start_time": "2024-02-29T22:43:13.645Z"
   },
   {
    "duration": 180,
    "start_time": "2024-02-29T22:48:55.801Z"
   },
   {
    "duration": 169,
    "start_time": "2024-02-29T22:49:04.400Z"
   },
   {
    "duration": 77,
    "start_time": "2024-02-29T22:49:32.050Z"
   },
   {
    "duration": 197,
    "start_time": "2024-02-29T22:49:38.690Z"
   },
   {
    "duration": 162,
    "start_time": "2024-02-29T22:50:12.248Z"
   },
   {
    "duration": 117,
    "start_time": "2024-02-29T22:54:46.275Z"
   },
   {
    "duration": 113,
    "start_time": "2024-02-29T22:55:52.036Z"
   },
   {
    "duration": 146,
    "start_time": "2024-02-29T22:56:11.614Z"
   },
   {
    "duration": 137,
    "start_time": "2024-02-29T22:56:54.998Z"
   },
   {
    "duration": 5,
    "start_time": "2024-02-29T23:01:25.816Z"
   },
   {
    "duration": 216,
    "start_time": "2024-02-29T23:29:50.959Z"
   },
   {
    "duration": 136,
    "start_time": "2024-02-29T23:33:14.420Z"
   },
   {
    "duration": 5,
    "start_time": "2024-02-29T23:34:22.203Z"
   },
   {
    "duration": 27,
    "start_time": "2024-02-29T23:36:25.717Z"
   },
   {
    "duration": 8,
    "start_time": "2024-02-29T23:44:04.289Z"
   },
   {
    "duration": 11,
    "start_time": "2024-02-29T23:50:28.594Z"
   },
   {
    "duration": 11,
    "start_time": "2024-02-29T23:50:40.529Z"
   },
   {
    "duration": 33,
    "start_time": "2024-02-29T23:53:27.732Z"
   },
   {
    "duration": 9,
    "start_time": "2024-02-29T23:55:49.884Z"
   },
   {
    "duration": 14,
    "start_time": "2024-03-01T00:05:19.122Z"
   },
   {
    "duration": 4,
    "start_time": "2024-03-01T00:05:52.204Z"
   },
   {
    "duration": 4,
    "start_time": "2024-03-01T00:06:19.811Z"
   },
   {
    "duration": 5,
    "start_time": "2024-03-01T00:07:24.069Z"
   },
   {
    "duration": 4,
    "start_time": "2024-03-01T00:08:41.245Z"
   },
   {
    "duration": 4,
    "start_time": "2024-03-01T00:08:58.837Z"
   },
   {
    "duration": 4,
    "start_time": "2024-03-01T00:09:09.068Z"
   },
   {
    "duration": 9,
    "start_time": "2024-03-01T00:10:39.277Z"
   },
   {
    "duration": 7,
    "start_time": "2024-03-01T00:10:50.940Z"
   },
   {
    "duration": 9,
    "start_time": "2024-03-01T00:11:51.357Z"
   },
   {
    "duration": 7,
    "start_time": "2024-03-01T00:12:48.605Z"
   },
   {
    "duration": 7,
    "start_time": "2024-03-01T00:13:02.718Z"
   },
   {
    "duration": 6,
    "start_time": "2024-03-01T00:13:14.925Z"
   },
   {
    "duration": 29,
    "start_time": "2024-03-01T00:14:48.239Z"
   },
   {
    "duration": 1540,
    "start_time": "2024-03-01T00:16:11.058Z"
   },
   {
    "duration": 13,
    "start_time": "2024-03-01T00:17:49.639Z"
   },
   {
    "duration": 5,
    "start_time": "2024-03-01T00:18:30.130Z"
   },
   {
    "duration": 9,
    "start_time": "2024-03-01T00:19:46.995Z"
   },
   {
    "duration": 5,
    "start_time": "2024-03-01T00:20:11.689Z"
   },
   {
    "duration": 7,
    "start_time": "2024-03-01T00:20:22.440Z"
   },
   {
    "duration": 12,
    "start_time": "2024-03-01T00:21:17.948Z"
   },
   {
    "duration": 9,
    "start_time": "2024-03-01T00:21:39.938Z"
   },
   {
    "duration": 11,
    "start_time": "2024-03-01T00:23:46.572Z"
   },
   {
    "duration": 4,
    "start_time": "2024-03-01T00:24:26.499Z"
   },
   {
    "duration": 709,
    "start_time": "2024-03-01T00:24:37.371Z"
   },
   {
    "duration": 555,
    "start_time": "2024-03-01T00:24:46.488Z"
   },
   {
    "duration": 22,
    "start_time": "2024-03-01T00:27:49.842Z"
   },
   {
    "duration": 8,
    "start_time": "2024-03-01T00:28:07.269Z"
   },
   {
    "duration": 10,
    "start_time": "2024-03-01T00:28:23.869Z"
   },
   {
    "duration": 103,
    "start_time": "2024-03-01T00:28:49.280Z"
   },
   {
    "duration": 88,
    "start_time": "2024-03-01T00:29:22.359Z"
   },
   {
    "duration": 10,
    "start_time": "2024-03-01T00:29:32.270Z"
   },
   {
    "duration": 9,
    "start_time": "2024-03-01T00:29:54.966Z"
   },
   {
    "duration": 5,
    "start_time": "2024-03-01T00:36:05.723Z"
   },
   {
    "duration": 8,
    "start_time": "2024-03-01T00:38:33.963Z"
   },
   {
    "duration": 8,
    "start_time": "2024-03-01T00:38:49.035Z"
   },
   {
    "duration": 5,
    "start_time": "2024-03-01T00:39:07.508Z"
   },
   {
    "duration": 10,
    "start_time": "2024-03-01T00:46:59.279Z"
   },
   {
    "duration": 1112,
    "start_time": "2024-03-01T00:48:38.732Z"
   },
   {
    "duration": 72,
    "start_time": "2024-03-01T00:48:39.846Z"
   },
   {
    "duration": 11,
    "start_time": "2024-03-01T00:48:39.920Z"
   },
   {
    "duration": 10,
    "start_time": "2024-03-01T00:48:39.933Z"
   },
   {
    "duration": 37,
    "start_time": "2024-03-01T00:48:39.945Z"
   },
   {
    "duration": 10,
    "start_time": "2024-03-01T00:48:39.984Z"
   },
   {
    "duration": 7,
    "start_time": "2024-03-01T00:48:39.995Z"
   },
   {
    "duration": 16,
    "start_time": "2024-03-01T00:48:40.003Z"
   },
   {
    "duration": 7,
    "start_time": "2024-03-01T00:48:40.021Z"
   },
   {
    "duration": 6,
    "start_time": "2024-03-01T00:48:40.029Z"
   },
   {
    "duration": 8,
    "start_time": "2024-03-01T00:48:40.037Z"
   },
   {
    "duration": 18,
    "start_time": "2024-03-01T00:48:40.047Z"
   },
   {
    "duration": 330,
    "start_time": "2024-03-01T00:48:40.067Z"
   },
   {
    "duration": 10,
    "start_time": "2024-03-01T00:48:40.399Z"
   },
   {
    "duration": 251,
    "start_time": "2024-03-01T00:48:40.418Z"
   },
   {
    "duration": 9,
    "start_time": "2024-03-01T00:48:40.671Z"
   },
   {
    "duration": 159,
    "start_time": "2024-03-01T00:48:40.681Z"
   },
   {
    "duration": 173,
    "start_time": "2024-03-01T00:48:40.841Z"
   },
   {
    "duration": 125,
    "start_time": "2024-03-01T00:48:41.017Z"
   },
   {
    "duration": 14,
    "start_time": "2024-03-01T00:48:41.144Z"
   },
   {
    "duration": 94,
    "start_time": "2024-03-01T00:48:41.159Z"
   },
   {
    "duration": 0,
    "start_time": "2024-03-01T00:48:41.254Z"
   },
   {
    "duration": 0,
    "start_time": "2024-03-01T00:48:41.256Z"
   },
   {
    "duration": 0,
    "start_time": "2024-03-01T00:48:41.257Z"
   },
   {
    "duration": 0,
    "start_time": "2024-03-01T00:48:41.258Z"
   },
   {
    "duration": 0,
    "start_time": "2024-03-01T00:48:41.259Z"
   },
   {
    "duration": 0,
    "start_time": "2024-03-01T00:48:41.260Z"
   },
   {
    "duration": 0,
    "start_time": "2024-03-01T00:48:41.261Z"
   },
   {
    "duration": 0,
    "start_time": "2024-03-01T00:48:41.262Z"
   },
   {
    "duration": 0,
    "start_time": "2024-03-01T00:48:41.263Z"
   },
   {
    "duration": 0,
    "start_time": "2024-03-01T00:48:41.264Z"
   },
   {
    "duration": 0,
    "start_time": "2024-03-01T00:48:41.264Z"
   },
   {
    "duration": 0,
    "start_time": "2024-03-01T00:48:41.266Z"
   },
   {
    "duration": 0,
    "start_time": "2024-03-01T00:48:41.267Z"
   },
   {
    "duration": 0,
    "start_time": "2024-03-01T00:48:41.268Z"
   },
   {
    "duration": 0,
    "start_time": "2024-03-01T00:48:41.269Z"
   },
   {
    "duration": 0,
    "start_time": "2024-03-01T00:48:41.270Z"
   },
   {
    "duration": 0,
    "start_time": "2024-03-01T00:48:41.271Z"
   },
   {
    "duration": 0,
    "start_time": "2024-03-01T00:48:41.272Z"
   },
   {
    "duration": 0,
    "start_time": "2024-03-01T00:48:41.273Z"
   },
   {
    "duration": 0,
    "start_time": "2024-03-01T00:48:41.274Z"
   },
   {
    "duration": 0,
    "start_time": "2024-03-01T00:48:41.275Z"
   },
   {
    "duration": 0,
    "start_time": "2024-03-01T00:48:41.276Z"
   },
   {
    "duration": 1024,
    "start_time": "2024-03-01T00:49:13.076Z"
   },
   {
    "duration": 71,
    "start_time": "2024-03-01T00:49:14.102Z"
   },
   {
    "duration": 10,
    "start_time": "2024-03-01T00:49:14.174Z"
   },
   {
    "duration": 9,
    "start_time": "2024-03-01T00:49:14.186Z"
   },
   {
    "duration": 8,
    "start_time": "2024-03-01T00:49:14.197Z"
   },
   {
    "duration": 10,
    "start_time": "2024-03-01T00:49:14.206Z"
   },
   {
    "duration": 9,
    "start_time": "2024-03-01T00:49:14.218Z"
   },
   {
    "duration": 16,
    "start_time": "2024-03-01T00:49:14.228Z"
   },
   {
    "duration": 20,
    "start_time": "2024-03-01T00:49:14.245Z"
   },
   {
    "duration": 18,
    "start_time": "2024-03-01T00:49:14.266Z"
   },
   {
    "duration": 11,
    "start_time": "2024-03-01T00:49:14.286Z"
   },
   {
    "duration": 18,
    "start_time": "2024-03-01T00:49:14.298Z"
   },
   {
    "duration": 276,
    "start_time": "2024-03-01T00:49:14.317Z"
   },
   {
    "duration": 10,
    "start_time": "2024-03-01T00:49:14.595Z"
   },
   {
    "duration": 254,
    "start_time": "2024-03-01T00:49:14.617Z"
   },
   {
    "duration": 9,
    "start_time": "2024-03-01T00:49:14.872Z"
   },
   {
    "duration": 164,
    "start_time": "2024-03-01T00:49:14.882Z"
   },
   {
    "duration": 172,
    "start_time": "2024-03-01T00:49:15.048Z"
   },
   {
    "duration": 142,
    "start_time": "2024-03-01T00:49:15.222Z"
   },
   {
    "duration": 14,
    "start_time": "2024-03-01T00:49:15.366Z"
   },
   {
    "duration": 253,
    "start_time": "2024-03-01T00:49:15.382Z"
   },
   {
    "duration": 202,
    "start_time": "2024-03-01T00:49:15.638Z"
   },
   {
    "duration": 11,
    "start_time": "2024-03-01T00:49:15.841Z"
   },
   {
    "duration": 287,
    "start_time": "2024-03-01T00:49:15.853Z"
   },
   {
    "duration": 195,
    "start_time": "2024-03-01T00:49:16.141Z"
   },
   {
    "duration": 370,
    "start_time": "2024-03-01T00:49:16.338Z"
   },
   {
    "duration": 18,
    "start_time": "2024-03-01T00:49:16.709Z"
   },
   {
    "duration": 155,
    "start_time": "2024-03-01T00:49:16.728Z"
   },
   {
    "duration": 113,
    "start_time": "2024-03-01T00:49:16.884Z"
   },
   {
    "duration": 4,
    "start_time": "2024-03-01T00:49:16.999Z"
   },
   {
    "duration": 171,
    "start_time": "2024-03-01T00:49:17.005Z"
   },
   {
    "duration": 135,
    "start_time": "2024-03-01T00:49:17.177Z"
   },
   {
    "duration": 4,
    "start_time": "2024-03-01T00:49:17.317Z"
   },
   {
    "duration": 229,
    "start_time": "2024-03-01T00:49:17.323Z"
   },
   {
    "duration": 149,
    "start_time": "2024-03-01T00:49:17.554Z"
   },
   {
    "duration": 16,
    "start_time": "2024-03-01T00:49:17.705Z"
   },
   {
    "duration": 31,
    "start_time": "2024-03-01T00:49:17.722Z"
   },
   {
    "duration": 10,
    "start_time": "2024-03-01T00:49:17.755Z"
   },
   {
    "duration": 9,
    "start_time": "2024-03-01T00:49:17.767Z"
   },
   {
    "duration": 67,
    "start_time": "2024-03-01T00:49:17.778Z"
   },
   {
    "duration": 12,
    "start_time": "2024-03-01T00:49:17.851Z"
   },
   {
    "duration": 9,
    "start_time": "2024-03-01T00:49:17.864Z"
   },
   {
    "duration": 1254,
    "start_time": "2024-03-01T04:45:41.538Z"
   },
   {
    "duration": 184,
    "start_time": "2024-03-01T04:45:42.794Z"
   },
   {
    "duration": 16,
    "start_time": "2024-03-01T04:45:42.980Z"
   },
   {
    "duration": 16,
    "start_time": "2024-03-01T04:45:42.998Z"
   },
   {
    "duration": 12,
    "start_time": "2024-03-01T04:45:43.016Z"
   },
   {
    "duration": 18,
    "start_time": "2024-03-01T04:45:43.029Z"
   },
   {
    "duration": 14,
    "start_time": "2024-03-01T04:45:43.049Z"
   },
   {
    "duration": 23,
    "start_time": "2024-03-01T04:45:43.079Z"
   },
   {
    "duration": 12,
    "start_time": "2024-03-01T04:45:43.104Z"
   },
   {
    "duration": 6,
    "start_time": "2024-03-01T04:45:43.118Z"
   },
   {
    "duration": 9,
    "start_time": "2024-03-01T04:45:43.125Z"
   },
   {
    "duration": 20,
    "start_time": "2024-03-01T04:45:43.136Z"
   },
   {
    "duration": 337,
    "start_time": "2024-03-01T04:45:43.157Z"
   },
   {
    "duration": 12,
    "start_time": "2024-03-01T04:45:43.497Z"
   },
   {
    "duration": 306,
    "start_time": "2024-03-01T04:45:43.511Z"
   },
   {
    "duration": 11,
    "start_time": "2024-03-01T04:45:43.818Z"
   },
   {
    "duration": 187,
    "start_time": "2024-03-01T04:45:43.830Z"
   },
   {
    "duration": 191,
    "start_time": "2024-03-01T04:45:44.019Z"
   },
   {
    "duration": 138,
    "start_time": "2024-03-01T04:45:44.211Z"
   },
   {
    "duration": 16,
    "start_time": "2024-03-01T04:45:44.351Z"
   },
   {
    "duration": 311,
    "start_time": "2024-03-01T04:45:44.369Z"
   },
   {
    "duration": 200,
    "start_time": "2024-03-01T04:45:44.682Z"
   },
   {
    "duration": 11,
    "start_time": "2024-03-01T04:45:44.884Z"
   },
   {
    "duration": 329,
    "start_time": "2024-03-01T04:45:44.897Z"
   },
   {
    "duration": 241,
    "start_time": "2024-03-01T04:45:45.227Z"
   },
   {
    "duration": 411,
    "start_time": "2024-03-01T04:45:45.470Z"
   },
   {
    "duration": 15,
    "start_time": "2024-03-01T04:45:45.883Z"
   },
   {
    "duration": 175,
    "start_time": "2024-03-01T04:45:45.900Z"
   },
   {
    "duration": 142,
    "start_time": "2024-03-01T04:45:46.079Z"
   },
   {
    "duration": 4,
    "start_time": "2024-03-01T04:45:46.223Z"
   },
   {
    "duration": 193,
    "start_time": "2024-03-01T04:45:46.229Z"
   },
   {
    "duration": 173,
    "start_time": "2024-03-01T04:45:46.423Z"
   },
   {
    "duration": 4,
    "start_time": "2024-03-01T04:45:46.598Z"
   },
   {
    "duration": 237,
    "start_time": "2024-03-01T04:45:46.604Z"
   },
   {
    "duration": 140,
    "start_time": "2024-03-01T04:45:46.842Z"
   },
   {
    "duration": 6,
    "start_time": "2024-03-01T04:45:46.984Z"
   },
   {
    "duration": 28,
    "start_time": "2024-03-01T04:45:46.991Z"
   },
   {
    "duration": 8,
    "start_time": "2024-03-01T04:45:47.021Z"
   },
   {
    "duration": 10,
    "start_time": "2024-03-01T04:45:47.030Z"
   },
   {
    "duration": 70,
    "start_time": "2024-03-01T04:45:47.041Z"
   },
   {
    "duration": 9,
    "start_time": "2024-03-01T04:45:47.116Z"
   },
   {
    "duration": 10,
    "start_time": "2024-03-01T04:45:47.127Z"
   },
   {
    "duration": 15,
    "start_time": "2024-03-01T05:15:15.948Z"
   },
   {
    "duration": 1213,
    "start_time": "2024-03-01T05:19:49.900Z"
   },
   {
    "duration": 73,
    "start_time": "2024-03-01T05:19:51.115Z"
   },
   {
    "duration": 12,
    "start_time": "2024-03-01T05:19:51.190Z"
   },
   {
    "duration": 21,
    "start_time": "2024-03-01T05:19:51.204Z"
   },
   {
    "duration": 26,
    "start_time": "2024-03-01T05:19:51.227Z"
   },
   {
    "duration": 10,
    "start_time": "2024-03-01T05:19:51.255Z"
   },
   {
    "duration": 18,
    "start_time": "2024-03-01T05:19:51.267Z"
   },
   {
    "duration": 18,
    "start_time": "2024-03-01T05:19:51.287Z"
   },
   {
    "duration": 31,
    "start_time": "2024-03-01T05:19:51.307Z"
   },
   {
    "duration": 19,
    "start_time": "2024-03-01T05:19:51.340Z"
   },
   {
    "duration": 8,
    "start_time": "2024-03-01T05:19:51.361Z"
   },
   {
    "duration": 17,
    "start_time": "2024-03-01T05:19:51.371Z"
   },
   {
    "duration": 317,
    "start_time": "2024-03-01T05:19:51.389Z"
   },
   {
    "duration": 12,
    "start_time": "2024-03-01T05:19:51.709Z"
   },
   {
    "duration": 299,
    "start_time": "2024-03-01T05:19:51.723Z"
   },
   {
    "duration": 11,
    "start_time": "2024-03-01T05:19:52.023Z"
   },
   {
    "duration": 201,
    "start_time": "2024-03-01T05:19:52.036Z"
   },
   {
    "duration": 186,
    "start_time": "2024-03-01T05:19:52.239Z"
   },
   {
    "duration": 157,
    "start_time": "2024-03-01T05:19:52.427Z"
   },
   {
    "duration": 18,
    "start_time": "2024-03-01T05:19:52.586Z"
   },
   {
    "duration": 300,
    "start_time": "2024-03-01T05:19:52.606Z"
   },
   {
    "duration": 213,
    "start_time": "2024-03-01T05:19:52.908Z"
   },
   {
    "duration": 12,
    "start_time": "2024-03-01T05:19:53.122Z"
   },
   {
    "duration": 304,
    "start_time": "2024-03-01T05:19:53.136Z"
   },
   {
    "duration": 227,
    "start_time": "2024-03-01T05:19:53.441Z"
   },
   {
    "duration": 392,
    "start_time": "2024-03-01T05:19:53.670Z"
   },
   {
    "duration": 19,
    "start_time": "2024-03-01T05:19:54.064Z"
   },
   {
    "duration": 168,
    "start_time": "2024-03-01T05:19:54.084Z"
   },
   {
    "duration": 138,
    "start_time": "2024-03-01T05:19:54.254Z"
   },
   {
    "duration": 4,
    "start_time": "2024-03-01T05:19:54.394Z"
   },
   {
    "duration": 203,
    "start_time": "2024-03-01T05:19:54.400Z"
   },
   {
    "duration": 150,
    "start_time": "2024-03-01T05:19:54.605Z"
   },
   {
    "duration": 10,
    "start_time": "2024-03-01T05:19:54.757Z"
   },
   {
    "duration": 247,
    "start_time": "2024-03-01T05:19:54.769Z"
   },
   {
    "duration": 196,
    "start_time": "2024-03-01T05:19:55.018Z"
   },
   {
    "duration": 6,
    "start_time": "2024-03-01T05:19:55.216Z"
   },
   {
    "duration": 35,
    "start_time": "2024-03-01T05:19:55.223Z"
   },
   {
    "duration": 22,
    "start_time": "2024-03-01T05:19:55.259Z"
   },
   {
    "duration": 12,
    "start_time": "2024-03-01T05:19:55.282Z"
   },
   {
    "duration": 44,
    "start_time": "2024-03-01T05:19:55.296Z"
   },
   {
    "duration": 10,
    "start_time": "2024-03-01T05:19:55.343Z"
   },
   {
    "duration": 8,
    "start_time": "2024-03-01T05:19:55.355Z"
   },
   {
    "duration": 1337,
    "start_time": "2024-03-01T12:59:35.231Z"
   },
   {
    "duration": 183,
    "start_time": "2024-03-01T12:59:36.570Z"
   },
   {
    "duration": 11,
    "start_time": "2024-03-01T12:59:36.754Z"
   },
   {
    "duration": 12,
    "start_time": "2024-03-01T12:59:36.766Z"
   },
   {
    "duration": 14,
    "start_time": "2024-03-01T12:59:36.780Z"
   },
   {
    "duration": 10,
    "start_time": "2024-03-01T12:59:36.796Z"
   },
   {
    "duration": 6,
    "start_time": "2024-03-01T12:59:36.808Z"
   },
   {
    "duration": 9,
    "start_time": "2024-03-01T12:59:36.816Z"
   },
   {
    "duration": 11,
    "start_time": "2024-03-01T12:59:36.826Z"
   },
   {
    "duration": 5,
    "start_time": "2024-03-01T12:59:36.838Z"
   },
   {
    "duration": 9,
    "start_time": "2024-03-01T12:59:36.844Z"
   },
   {
    "duration": 12,
    "start_time": "2024-03-01T12:59:36.854Z"
   },
   {
    "duration": 293,
    "start_time": "2024-03-01T12:59:36.867Z"
   },
   {
    "duration": 10,
    "start_time": "2024-03-01T12:59:37.162Z"
   },
   {
    "duration": 271,
    "start_time": "2024-03-01T12:59:37.174Z"
   },
   {
    "duration": 10,
    "start_time": "2024-03-01T12:59:37.447Z"
   },
   {
    "duration": 177,
    "start_time": "2024-03-01T12:59:37.458Z"
   },
   {
    "duration": 181,
    "start_time": "2024-03-01T12:59:37.636Z"
   },
   {
    "duration": 126,
    "start_time": "2024-03-01T12:59:37.819Z"
   },
   {
    "duration": 14,
    "start_time": "2024-03-01T12:59:37.946Z"
   },
   {
    "duration": 277,
    "start_time": "2024-03-01T12:59:37.962Z"
   },
   {
    "duration": 186,
    "start_time": "2024-03-01T12:59:38.240Z"
   },
   {
    "duration": 11,
    "start_time": "2024-03-01T12:59:38.433Z"
   },
   {
    "duration": 368,
    "start_time": "2024-03-01T12:59:38.445Z"
   },
   {
    "duration": 204,
    "start_time": "2024-03-01T12:59:38.815Z"
   },
   {
    "duration": 339,
    "start_time": "2024-03-01T12:59:39.021Z"
   },
   {
    "duration": 10,
    "start_time": "2024-03-01T12:59:39.362Z"
   },
   {
    "duration": 150,
    "start_time": "2024-03-01T12:59:39.374Z"
   },
   {
    "duration": 126,
    "start_time": "2024-03-01T12:59:39.526Z"
   },
   {
    "duration": 5,
    "start_time": "2024-03-01T12:59:39.654Z"
   },
   {
    "duration": 202,
    "start_time": "2024-03-01T12:59:39.660Z"
   },
   {
    "duration": 148,
    "start_time": "2024-03-01T12:59:39.864Z"
   },
   {
    "duration": 5,
    "start_time": "2024-03-01T12:59:40.013Z"
   },
   {
    "duration": 217,
    "start_time": "2024-03-01T12:59:40.020Z"
   },
   {
    "duration": 129,
    "start_time": "2024-03-01T12:59:40.238Z"
   },
   {
    "duration": 6,
    "start_time": "2024-03-01T12:59:40.368Z"
   },
   {
    "duration": 40,
    "start_time": "2024-03-01T12:59:40.375Z"
   },
   {
    "duration": 7,
    "start_time": "2024-03-01T12:59:40.417Z"
   },
   {
    "duration": 10,
    "start_time": "2024-03-01T12:59:40.432Z"
   },
   {
    "duration": 28,
    "start_time": "2024-03-01T12:59:40.443Z"
   },
   {
    "duration": 8,
    "start_time": "2024-03-01T12:59:40.474Z"
   },
   {
    "duration": 21,
    "start_time": "2024-03-01T12:59:40.484Z"
   },
   {
    "duration": 7,
    "start_time": "2024-03-01T13:03:34.681Z"
   },
   {
    "duration": 8,
    "start_time": "2024-03-01T13:17:35.106Z"
   },
   {
    "duration": 4,
    "start_time": "2024-03-01T13:17:55.429Z"
   },
   {
    "duration": 6,
    "start_time": "2024-03-01T13:24:08.973Z"
   },
   {
    "duration": 14,
    "start_time": "2024-03-01T13:26:16.161Z"
   },
   {
    "duration": 13,
    "start_time": "2024-03-01T13:26:43.873Z"
   },
   {
    "duration": 14,
    "start_time": "2024-03-01T13:27:49.073Z"
   },
   {
    "duration": 14,
    "start_time": "2024-03-01T13:28:01.985Z"
   },
   {
    "duration": 13,
    "start_time": "2024-03-01T13:29:02.738Z"
   },
   {
    "duration": 13,
    "start_time": "2024-03-01T13:30:22.139Z"
   },
   {
    "duration": 13,
    "start_time": "2024-03-01T13:31:29.429Z"
   },
   {
    "duration": 100,
    "start_time": "2024-03-01T13:32:48.012Z"
   },
   {
    "duration": 11,
    "start_time": "2024-03-01T13:33:02.412Z"
   },
   {
    "duration": 14,
    "start_time": "2024-03-01T13:36:55.301Z"
   },
   {
    "duration": 16,
    "start_time": "2024-03-01T13:37:38.101Z"
   },
   {
    "duration": 12,
    "start_time": "2024-03-01T13:38:03.024Z"
   },
   {
    "duration": 16,
    "start_time": "2024-03-01T13:44:10.042Z"
   },
   {
    "duration": 17,
    "start_time": "2024-03-01T13:44:39.849Z"
   },
   {
    "duration": 13,
    "start_time": "2024-03-01T13:44:57.138Z"
   },
   {
    "duration": 11,
    "start_time": "2024-03-01T13:45:12.355Z"
   },
   {
    "duration": 7,
    "start_time": "2024-03-01T13:47:02.539Z"
   },
   {
    "duration": 8,
    "start_time": "2024-03-01T13:49:28.318Z"
   },
   {
    "duration": 7,
    "start_time": "2024-03-01T13:49:38.355Z"
   },
   {
    "duration": 13,
    "start_time": "2024-03-01T13:55:05.497Z"
   },
   {
    "duration": 12,
    "start_time": "2024-03-01T13:55:29.038Z"
   },
   {
    "duration": 14,
    "start_time": "2024-03-01T13:56:25.000Z"
   },
   {
    "duration": 7,
    "start_time": "2024-03-01T14:06:54.869Z"
   },
   {
    "duration": 7,
    "start_time": "2024-03-01T14:07:08.676Z"
   },
   {
    "duration": 15,
    "start_time": "2024-03-01T14:14:04.024Z"
   },
   {
    "duration": 8,
    "start_time": "2024-03-01T14:14:11.970Z"
   },
   {
    "duration": 7,
    "start_time": "2024-03-01T14:14:30.833Z"
   },
   {
    "duration": 7,
    "start_time": "2024-03-01T14:14:41.858Z"
   },
   {
    "duration": 8,
    "start_time": "2024-03-01T14:15:36.761Z"
   },
   {
    "duration": 8,
    "start_time": "2024-03-01T14:15:51.417Z"
   },
   {
    "duration": 7,
    "start_time": "2024-03-01T14:16:36.043Z"
   },
   {
    "duration": 6,
    "start_time": "2024-03-01T14:17:06.259Z"
   },
   {
    "duration": 15,
    "start_time": "2024-03-01T14:27:25.756Z"
   },
   {
    "duration": 78,
    "start_time": "2024-03-01T14:42:55.665Z"
   },
   {
    "duration": 73,
    "start_time": "2024-03-01T14:43:07.064Z"
   },
   {
    "duration": 7,
    "start_time": "2024-03-01T14:43:12.880Z"
   },
   {
    "duration": 83,
    "start_time": "2024-03-01T14:43:44.909Z"
   },
   {
    "duration": 7,
    "start_time": "2024-03-01T14:43:59.040Z"
   },
   {
    "duration": 1156,
    "start_time": "2024-03-01T14:50:05.920Z"
   },
   {
    "duration": 76,
    "start_time": "2024-03-01T14:50:07.079Z"
   },
   {
    "duration": 11,
    "start_time": "2024-03-01T14:50:07.156Z"
   },
   {
    "duration": 72,
    "start_time": "2024-03-01T14:50:07.169Z"
   },
   {
    "duration": 54,
    "start_time": "2024-03-01T14:50:07.244Z"
   },
   {
    "duration": 49,
    "start_time": "2024-03-01T14:50:07.300Z"
   },
   {
    "duration": 59,
    "start_time": "2024-03-01T14:50:07.351Z"
   },
   {
    "duration": 52,
    "start_time": "2024-03-01T14:50:07.412Z"
   },
   {
    "duration": 31,
    "start_time": "2024-03-01T14:50:07.466Z"
   },
   {
    "duration": 43,
    "start_time": "2024-03-01T14:50:07.499Z"
   },
   {
    "duration": 38,
    "start_time": "2024-03-01T14:50:07.544Z"
   },
   {
    "duration": 48,
    "start_time": "2024-03-01T14:50:07.584Z"
   },
   {
    "duration": 68,
    "start_time": "2024-03-01T14:50:07.634Z"
   },
   {
    "duration": 35,
    "start_time": "2024-03-01T14:50:07.704Z"
   },
   {
    "duration": 327,
    "start_time": "2024-03-01T14:50:07.741Z"
   },
   {
    "duration": 11,
    "start_time": "2024-03-01T14:50:08.069Z"
   },
   {
    "duration": 332,
    "start_time": "2024-03-01T14:50:08.081Z"
   },
   {
    "duration": 20,
    "start_time": "2024-03-01T14:50:08.414Z"
   },
   {
    "duration": 233,
    "start_time": "2024-03-01T14:50:08.436Z"
   },
   {
    "duration": 173,
    "start_time": "2024-03-01T14:50:08.670Z"
   },
   {
    "duration": 133,
    "start_time": "2024-03-01T14:50:08.845Z"
   },
   {
    "duration": 17,
    "start_time": "2024-03-01T14:50:08.979Z"
   },
   {
    "duration": 270,
    "start_time": "2024-03-01T14:50:08.997Z"
   },
   {
    "duration": 192,
    "start_time": "2024-03-01T14:50:09.269Z"
   },
   {
    "duration": 11,
    "start_time": "2024-03-01T14:50:09.463Z"
   },
   {
    "duration": 293,
    "start_time": "2024-03-01T14:50:09.475Z"
   },
   {
    "duration": 221,
    "start_time": "2024-03-01T14:50:09.770Z"
   },
   {
    "duration": 342,
    "start_time": "2024-03-01T14:50:09.993Z"
   },
   {
    "duration": 10,
    "start_time": "2024-03-01T14:50:10.336Z"
   },
   {
    "duration": 170,
    "start_time": "2024-03-01T14:50:10.348Z"
   },
   {
    "duration": 126,
    "start_time": "2024-03-01T14:50:10.520Z"
   },
   {
    "duration": 4,
    "start_time": "2024-03-01T14:50:10.648Z"
   },
   {
    "duration": 201,
    "start_time": "2024-03-01T14:50:10.654Z"
   },
   {
    "duration": 146,
    "start_time": "2024-03-01T14:50:10.856Z"
   },
   {
    "duration": 4,
    "start_time": "2024-03-01T14:50:11.003Z"
   },
   {
    "duration": 258,
    "start_time": "2024-03-01T14:50:11.009Z"
   },
   {
    "duration": 174,
    "start_time": "2024-03-01T14:50:11.269Z"
   },
   {
    "duration": 8,
    "start_time": "2024-03-01T14:50:11.445Z"
   },
   {
    "duration": 34,
    "start_time": "2024-03-01T14:50:11.454Z"
   },
   {
    "duration": 8,
    "start_time": "2024-03-01T14:50:11.489Z"
   },
   {
    "duration": 19,
    "start_time": "2024-03-01T14:50:11.500Z"
   },
   {
    "duration": 30,
    "start_time": "2024-03-01T14:50:11.534Z"
   },
   {
    "duration": 10,
    "start_time": "2024-03-01T14:50:11.565Z"
   },
   {
    "duration": 17,
    "start_time": "2024-03-01T14:50:11.576Z"
   },
   {
    "duration": 1229,
    "start_time": "2024-03-02T07:07:07.385Z"
   },
   {
    "duration": 190,
    "start_time": "2024-03-02T07:07:08.616Z"
   },
   {
    "duration": 12,
    "start_time": "2024-03-02T07:07:08.808Z"
   },
   {
    "duration": 11,
    "start_time": "2024-03-02T07:07:08.822Z"
   },
   {
    "duration": 13,
    "start_time": "2024-03-02T07:07:08.835Z"
   },
   {
    "duration": 11,
    "start_time": "2024-03-02T07:07:08.849Z"
   },
   {
    "duration": 22,
    "start_time": "2024-03-02T07:07:08.861Z"
   },
   {
    "duration": 11,
    "start_time": "2024-03-02T07:07:08.884Z"
   },
   {
    "duration": 8,
    "start_time": "2024-03-02T07:07:08.897Z"
   },
   {
    "duration": 6,
    "start_time": "2024-03-02T07:07:08.906Z"
   },
   {
    "duration": 7,
    "start_time": "2024-03-02T07:07:08.913Z"
   },
   {
    "duration": 10,
    "start_time": "2024-03-02T07:07:08.921Z"
   },
   {
    "duration": 48,
    "start_time": "2024-03-02T07:07:08.933Z"
   },
   {
    "duration": 13,
    "start_time": "2024-03-02T07:07:08.984Z"
   },
   {
    "duration": 325,
    "start_time": "2024-03-02T07:07:08.999Z"
   },
   {
    "duration": 12,
    "start_time": "2024-03-02T07:07:09.326Z"
   },
   {
    "duration": 297,
    "start_time": "2024-03-02T07:07:09.340Z"
   },
   {
    "duration": 11,
    "start_time": "2024-03-02T07:07:09.639Z"
   },
   {
    "duration": 189,
    "start_time": "2024-03-02T07:07:09.651Z"
   },
   {
    "duration": 194,
    "start_time": "2024-03-02T07:07:09.841Z"
   },
   {
    "duration": 158,
    "start_time": "2024-03-02T07:07:10.037Z"
   },
   {
    "duration": 21,
    "start_time": "2024-03-02T07:07:10.197Z"
   },
   {
    "duration": 310,
    "start_time": "2024-03-02T07:07:10.220Z"
   },
   {
    "duration": 218,
    "start_time": "2024-03-02T07:07:10.531Z"
   },
   {
    "duration": 12,
    "start_time": "2024-03-02T07:07:10.751Z"
   },
   {
    "duration": 338,
    "start_time": "2024-03-02T07:07:10.764Z"
   },
   {
    "duration": 224,
    "start_time": "2024-03-02T07:07:11.103Z"
   },
   {
    "duration": 382,
    "start_time": "2024-03-02T07:07:11.329Z"
   },
   {
    "duration": 16,
    "start_time": "2024-03-02T07:07:11.713Z"
   },
   {
    "duration": 188,
    "start_time": "2024-03-02T07:07:11.731Z"
   },
   {
    "duration": 143,
    "start_time": "2024-03-02T07:07:11.920Z"
   },
   {
    "duration": 5,
    "start_time": "2024-03-02T07:07:12.064Z"
   },
   {
    "duration": 209,
    "start_time": "2024-03-02T07:07:12.071Z"
   },
   {
    "duration": 148,
    "start_time": "2024-03-02T07:07:12.281Z"
   },
   {
    "duration": 4,
    "start_time": "2024-03-02T07:07:12.431Z"
   },
   {
    "duration": 264,
    "start_time": "2024-03-02T07:07:12.437Z"
   },
   {
    "duration": 166,
    "start_time": "2024-03-02T07:07:12.703Z"
   },
   {
    "duration": 12,
    "start_time": "2024-03-02T07:07:12.871Z"
   },
   {
    "duration": 28,
    "start_time": "2024-03-02T07:07:12.885Z"
   },
   {
    "duration": 11,
    "start_time": "2024-03-02T07:07:12.915Z"
   },
   {
    "duration": 12,
    "start_time": "2024-03-02T07:07:12.931Z"
   },
   {
    "duration": 61,
    "start_time": "2024-03-02T07:07:12.945Z"
   },
   {
    "duration": 9,
    "start_time": "2024-03-02T07:07:13.008Z"
   },
   {
    "duration": 9,
    "start_time": "2024-03-02T07:07:13.020Z"
   }
  ],
  "kernelspec": {
   "display_name": "Python 3 (ipykernel)",
   "language": "python",
   "name": "python3"
  },
  "language_info": {
   "codemirror_mode": {
    "name": "ipython",
    "version": 3
   },
   "file_extension": ".py",
   "mimetype": "text/x-python",
   "name": "python",
   "nbconvert_exporter": "python",
   "pygments_lexer": "ipython3",
   "version": "3.11.7"
  },
  "toc": {
   "base_numbering": 1,
   "nav_menu": {},
   "number_sections": true,
   "sideBar": true,
   "skip_h1_title": true,
   "title_cell": "Table of Contents",
   "title_sidebar": "Contents",
   "toc_cell": false,
   "toc_position": {},
   "toc_section_display": true,
   "toc_window_display": false
  }
 },
 "nbformat": 4,
 "nbformat_minor": 4
}
