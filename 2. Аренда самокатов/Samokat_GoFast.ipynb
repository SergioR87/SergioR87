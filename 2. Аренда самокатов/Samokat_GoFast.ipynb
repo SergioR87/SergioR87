{
 "cells": [
  {
   "cell_type": "markdown",
   "id": "3a3db061",
   "metadata": {},
   "source": [
    "# Исследование данных сервиса аренды самокатов GoFast.\n",
    "\n",
    "**Заказчик** - сервис аренды самокатов GoFast.\n",
    "\n",
    "**Задача** - проанализировать данные и проверить некоторые гипотезы, которые могут помочь бизнесу вырасти.\n",
    "\n",
    "Чтобы совершать поездки по городу, пользователи сервиса GoFast пользуются мобильным приложением. Сервисом можно пользоваться:\n",
    "\n",
    "без подписки\n",
    "- абонентская плата отсутствует;\n",
    "- стоимость одной минуты поездки — 8 рублей;\n",
    "- стоимость старта (начала поездки) — 50 рублей;\n",
    "\n",
    "с подпиской Ultra\n",
    "- абонентская плата — 199 рублей в месяц;\n",
    "- стоимость одной минуты поездки — 6 рублей;\n",
    "- стоимость старта — бесплатно.\n",
    "\n",
    "**План работы**:\n",
    "1. Загрузка и описание данных\n",
    "2. Предобработка данных\n",
    "3. Исследовательский анализ данных\n",
    "4. Объединение данных\n",
    "5. Подсчёт выручки\n",
    "6. Проверка гипотез\n",
    "7. ВЫВОД"
   ]
  },
  {
   "cell_type": "code",
   "execution_count": 1,
   "id": "72576667",
   "metadata": {},
   "outputs": [],
   "source": [
    "import pandas as pd\n",
    "import seaborn as sns\n",
    "import matplotlib.pyplot as plt\n",
    "import numpy as np\n",
    "import scipy.stats as st"
   ]
  },
  {
   "cell_type": "markdown",
   "id": "c42cbe00",
   "metadata": {},
   "source": [
    "\n",
    "# 1. Загрузка и описание данных."
   ]
  },
  {
   "cell_type": "markdown",
   "id": "65ad41e5",
   "metadata": {},
   "source": [
    "У нас имеется 3 датасета: пользователи, поездки и подписки. Откроем их, сохраним в датафреймы и изучим основную информацию:"
   ]
  },
  {
   "cell_type": "code",
   "execution_count": 2,
   "id": "70128eed-5c36-4d6f-b82f-e283a6742627",
   "metadata": {},
   "outputs": [
    {
     "data": {
      "text/html": [
       "<div>\n",
       "<style scoped>\n",
       "    .dataframe tbody tr th:only-of-type {\n",
       "        vertical-align: middle;\n",
       "    }\n",
       "\n",
       "    .dataframe tbody tr th {\n",
       "        vertical-align: top;\n",
       "    }\n",
       "\n",
       "    .dataframe thead th {\n",
       "        text-align: right;\n",
       "    }\n",
       "</style>\n",
       "<table border=\"1\" class=\"dataframe\">\n",
       "  <thead>\n",
       "    <tr style=\"text-align: right;\">\n",
       "      <th></th>\n",
       "      <th>user_id</th>\n",
       "      <th>name</th>\n",
       "      <th>age</th>\n",
       "      <th>city</th>\n",
       "      <th>subscription_type</th>\n",
       "    </tr>\n",
       "  </thead>\n",
       "  <tbody>\n",
       "    <tr>\n",
       "      <th>0</th>\n",
       "      <td>1</td>\n",
       "      <td>Кира</td>\n",
       "      <td>22</td>\n",
       "      <td>Тюмень</td>\n",
       "      <td>ultra</td>\n",
       "    </tr>\n",
       "    <tr>\n",
       "      <th>1</th>\n",
       "      <td>2</td>\n",
       "      <td>Станислав</td>\n",
       "      <td>31</td>\n",
       "      <td>Омск</td>\n",
       "      <td>ultra</td>\n",
       "    </tr>\n",
       "    <tr>\n",
       "      <th>2</th>\n",
       "      <td>3</td>\n",
       "      <td>Алексей</td>\n",
       "      <td>20</td>\n",
       "      <td>Москва</td>\n",
       "      <td>ultra</td>\n",
       "    </tr>\n",
       "    <tr>\n",
       "      <th>3</th>\n",
       "      <td>4</td>\n",
       "      <td>Константин</td>\n",
       "      <td>26</td>\n",
       "      <td>Ростов-на-Дону</td>\n",
       "      <td>ultra</td>\n",
       "    </tr>\n",
       "    <tr>\n",
       "      <th>4</th>\n",
       "      <td>5</td>\n",
       "      <td>Адель</td>\n",
       "      <td>28</td>\n",
       "      <td>Омск</td>\n",
       "      <td>ultra</td>\n",
       "    </tr>\n",
       "    <tr>\n",
       "      <th>5</th>\n",
       "      <td>6</td>\n",
       "      <td>Регина</td>\n",
       "      <td>25</td>\n",
       "      <td>Краснодар</td>\n",
       "      <td>ultra</td>\n",
       "    </tr>\n",
       "    <tr>\n",
       "      <th>6</th>\n",
       "      <td>7</td>\n",
       "      <td>Игорь</td>\n",
       "      <td>23</td>\n",
       "      <td>Омск</td>\n",
       "      <td>ultra</td>\n",
       "    </tr>\n",
       "    <tr>\n",
       "      <th>7</th>\n",
       "      <td>8</td>\n",
       "      <td>Юрий</td>\n",
       "      <td>23</td>\n",
       "      <td>Краснодар</td>\n",
       "      <td>ultra</td>\n",
       "    </tr>\n",
       "    <tr>\n",
       "      <th>8</th>\n",
       "      <td>9</td>\n",
       "      <td>Ян</td>\n",
       "      <td>21</td>\n",
       "      <td>Пятигорск</td>\n",
       "      <td>ultra</td>\n",
       "    </tr>\n",
       "    <tr>\n",
       "      <th>9</th>\n",
       "      <td>10</td>\n",
       "      <td>Валерий</td>\n",
       "      <td>18</td>\n",
       "      <td>Екатеринбург</td>\n",
       "      <td>ultra</td>\n",
       "    </tr>\n",
       "  </tbody>\n",
       "</table>\n",
       "</div>"
      ],
      "text/plain": [
       "   user_id        name  age            city subscription_type\n",
       "0        1        Кира   22          Тюмень             ultra\n",
       "1        2   Станислав   31            Омск             ultra\n",
       "2        3     Алексей   20          Москва             ultra\n",
       "3        4  Константин   26  Ростов-на-Дону             ultra\n",
       "4        5       Адель   28            Омск             ultra\n",
       "5        6      Регина   25       Краснодар             ultra\n",
       "6        7       Игорь   23            Омск             ultra\n",
       "7        8        Юрий   23       Краснодар             ultra\n",
       "8        9          Ян   21       Пятигорск             ultra\n",
       "9       10     Валерий   18    Екатеринбург             ultra"
      ]
     },
     "execution_count": 2,
     "metadata": {},
     "output_type": "execute_result"
    }
   ],
   "source": [
    "users = pd.read_csv('https://code.s3.yandex.net/datasets/users_go.csv')\n",
    "users.head(10)"
   ]
  },
  {
   "cell_type": "code",
   "execution_count": 3,
   "id": "f0863e21",
   "metadata": {},
   "outputs": [
    {
     "name": "stdout",
     "output_type": "stream",
     "text": [
      "<class 'pandas.core.frame.DataFrame'>\n",
      "RangeIndex: 1565 entries, 0 to 1564\n",
      "Data columns (total 5 columns):\n",
      " #   Column             Non-Null Count  Dtype \n",
      "---  ------             --------------  ----- \n",
      " 0   user_id            1565 non-null   int64 \n",
      " 1   name               1565 non-null   object\n",
      " 2   age                1565 non-null   int64 \n",
      " 3   city               1565 non-null   object\n",
      " 4   subscription_type  1565 non-null   object\n",
      "dtypes: int64(2), object(3)\n",
      "memory usage: 61.3+ KB\n"
     ]
    }
   ],
   "source": [
    "users.info()"
   ]
  },
  {
   "cell_type": "markdown",
   "id": "3ddec54f",
   "metadata": {},
   "source": [
    "В датафрейме **users** (пользователи) всего 1565 записей и есть следующая информация:\n",
    "- user_id\t- уникальный идентификатор пользователя\n",
    "- name\t- имя пользователя\n",
    "- age\t- возраст\n",
    "- city\t- город\n",
    "- subscription_type\t- тип подписки (free, ultra)"
   ]
  },
  {
   "cell_type": "code",
   "execution_count": 4,
   "id": "58bb0378-814e-4bbd-a3af-1513aed620de",
   "metadata": {},
   "outputs": [
    {
     "data": {
      "text/html": [
       "<div>\n",
       "<style scoped>\n",
       "    .dataframe tbody tr th:only-of-type {\n",
       "        vertical-align: middle;\n",
       "    }\n",
       "\n",
       "    .dataframe tbody tr th {\n",
       "        vertical-align: top;\n",
       "    }\n",
       "\n",
       "    .dataframe thead th {\n",
       "        text-align: right;\n",
       "    }\n",
       "</style>\n",
       "<table border=\"1\" class=\"dataframe\">\n",
       "  <thead>\n",
       "    <tr style=\"text-align: right;\">\n",
       "      <th></th>\n",
       "      <th>user_id</th>\n",
       "      <th>distance</th>\n",
       "      <th>duration</th>\n",
       "      <th>date</th>\n",
       "    </tr>\n",
       "  </thead>\n",
       "  <tbody>\n",
       "    <tr>\n",
       "      <th>0</th>\n",
       "      <td>1</td>\n",
       "      <td>4409.919140</td>\n",
       "      <td>25.599769</td>\n",
       "      <td>2021-01-01</td>\n",
       "    </tr>\n",
       "    <tr>\n",
       "      <th>1</th>\n",
       "      <td>1</td>\n",
       "      <td>2617.592153</td>\n",
       "      <td>15.816871</td>\n",
       "      <td>2021-01-18</td>\n",
       "    </tr>\n",
       "    <tr>\n",
       "      <th>2</th>\n",
       "      <td>1</td>\n",
       "      <td>754.159807</td>\n",
       "      <td>6.232113</td>\n",
       "      <td>2021-04-20</td>\n",
       "    </tr>\n",
       "    <tr>\n",
       "      <th>3</th>\n",
       "      <td>1</td>\n",
       "      <td>2694.783254</td>\n",
       "      <td>18.511000</td>\n",
       "      <td>2021-08-11</td>\n",
       "    </tr>\n",
       "    <tr>\n",
       "      <th>4</th>\n",
       "      <td>1</td>\n",
       "      <td>4028.687306</td>\n",
       "      <td>26.265803</td>\n",
       "      <td>2021-08-28</td>\n",
       "    </tr>\n",
       "    <tr>\n",
       "      <th>5</th>\n",
       "      <td>1</td>\n",
       "      <td>2770.890808</td>\n",
       "      <td>16.650138</td>\n",
       "      <td>2021-10-09</td>\n",
       "    </tr>\n",
       "    <tr>\n",
       "      <th>6</th>\n",
       "      <td>1</td>\n",
       "      <td>3039.020292</td>\n",
       "      <td>14.927879</td>\n",
       "      <td>2021-10-19</td>\n",
       "    </tr>\n",
       "    <tr>\n",
       "      <th>7</th>\n",
       "      <td>1</td>\n",
       "      <td>2842.118050</td>\n",
       "      <td>23.117468</td>\n",
       "      <td>2021-11-06</td>\n",
       "    </tr>\n",
       "    <tr>\n",
       "      <th>8</th>\n",
       "      <td>1</td>\n",
       "      <td>3412.690668</td>\n",
       "      <td>15.238072</td>\n",
       "      <td>2021-11-14</td>\n",
       "    </tr>\n",
       "    <tr>\n",
       "      <th>9</th>\n",
       "      <td>1</td>\n",
       "      <td>748.690645</td>\n",
       "      <td>15.041884</td>\n",
       "      <td>2021-11-22</td>\n",
       "    </tr>\n",
       "  </tbody>\n",
       "</table>\n",
       "</div>"
      ],
      "text/plain": [
       "   user_id     distance   duration        date\n",
       "0        1  4409.919140  25.599769  2021-01-01\n",
       "1        1  2617.592153  15.816871  2021-01-18\n",
       "2        1   754.159807   6.232113  2021-04-20\n",
       "3        1  2694.783254  18.511000  2021-08-11\n",
       "4        1  4028.687306  26.265803  2021-08-28\n",
       "5        1  2770.890808  16.650138  2021-10-09\n",
       "6        1  3039.020292  14.927879  2021-10-19\n",
       "7        1  2842.118050  23.117468  2021-11-06\n",
       "8        1  3412.690668  15.238072  2021-11-14\n",
       "9        1   748.690645  15.041884  2021-11-22"
      ]
     },
     "execution_count": 4,
     "metadata": {},
     "output_type": "execute_result"
    }
   ],
   "source": [
    "rides = pd.read_csv('https://code.s3.yandex.net/datasets/rides_go.csv')\n",
    "rides.head(10)"
   ]
  },
  {
   "cell_type": "code",
   "execution_count": 5,
   "id": "3909dfda",
   "metadata": {},
   "outputs": [
    {
     "name": "stdout",
     "output_type": "stream",
     "text": [
      "<class 'pandas.core.frame.DataFrame'>\n",
      "RangeIndex: 18068 entries, 0 to 18067\n",
      "Data columns (total 4 columns):\n",
      " #   Column    Non-Null Count  Dtype  \n",
      "---  ------    --------------  -----  \n",
      " 0   user_id   18068 non-null  int64  \n",
      " 1   distance  18068 non-null  float64\n",
      " 2   duration  18068 non-null  float64\n",
      " 3   date      18068 non-null  object \n",
      "dtypes: float64(2), int64(1), object(1)\n",
      "memory usage: 564.8+ KB\n"
     ]
    }
   ],
   "source": [
    "rides.info()"
   ]
  },
  {
   "cell_type": "markdown",
   "id": "db511611",
   "metadata": {},
   "source": [
    "В датафрейме **rides** (поездки) всего 18068 записей и следующая информация:\n",
    "- user_id\t- уникальный идентификатор пользователя\n",
    "- distance\t- расстояние, которое пользователь проехал в текущей сессии (в метрах)\n",
    "- duration\t- продолжительность сессии (в минутах)\n",
    "- date\t- дата совершения поездки"
   ]
  },
  {
   "cell_type": "code",
   "execution_count": 6,
   "id": "1c43269a",
   "metadata": {},
   "outputs": [
    {
     "data": {
      "text/html": [
       "<div>\n",
       "<style scoped>\n",
       "    .dataframe tbody tr th:only-of-type {\n",
       "        vertical-align: middle;\n",
       "    }\n",
       "\n",
       "    .dataframe tbody tr th {\n",
       "        vertical-align: top;\n",
       "    }\n",
       "\n",
       "    .dataframe thead th {\n",
       "        text-align: right;\n",
       "    }\n",
       "</style>\n",
       "<table border=\"1\" class=\"dataframe\">\n",
       "  <thead>\n",
       "    <tr style=\"text-align: right;\">\n",
       "      <th></th>\n",
       "      <th>subscription_type</th>\n",
       "      <th>minute_price</th>\n",
       "      <th>start_ride_price</th>\n",
       "      <th>subscription_fee</th>\n",
       "    </tr>\n",
       "  </thead>\n",
       "  <tbody>\n",
       "    <tr>\n",
       "      <th>0</th>\n",
       "      <td>free</td>\n",
       "      <td>8</td>\n",
       "      <td>50</td>\n",
       "      <td>0</td>\n",
       "    </tr>\n",
       "    <tr>\n",
       "      <th>1</th>\n",
       "      <td>ultra</td>\n",
       "      <td>6</td>\n",
       "      <td>0</td>\n",
       "      <td>199</td>\n",
       "    </tr>\n",
       "  </tbody>\n",
       "</table>\n",
       "</div>"
      ],
      "text/plain": [
       "  subscription_type  minute_price  start_ride_price  subscription_fee\n",
       "0              free             8                50                 0\n",
       "1             ultra             6                 0               199"
      ]
     },
     "execution_count": 6,
     "metadata": {},
     "output_type": "execute_result"
    }
   ],
   "source": [
    "subscriptions = pd.read_csv('https://code.s3.yandex.net/datasets/subscriptions_go.csv')\n",
    "subscriptions"
   ]
  },
  {
   "cell_type": "code",
   "execution_count": 7,
   "id": "5dd767a0",
   "metadata": {},
   "outputs": [
    {
     "name": "stdout",
     "output_type": "stream",
     "text": [
      "<class 'pandas.core.frame.DataFrame'>\n",
      "RangeIndex: 2 entries, 0 to 1\n",
      "Data columns (total 4 columns):\n",
      " #   Column             Non-Null Count  Dtype \n",
      "---  ------             --------------  ----- \n",
      " 0   subscription_type  2 non-null      object\n",
      " 1   minute_price       2 non-null      int64 \n",
      " 2   start_ride_price   2 non-null      int64 \n",
      " 3   subscription_fee   2 non-null      int64 \n",
      "dtypes: int64(3), object(1)\n",
      "memory usage: 196.0+ bytes\n"
     ]
    }
   ],
   "source": [
    "subscriptions.info()"
   ]
  },
  {
   "cell_type": "markdown",
   "id": "8e7f48f2",
   "metadata": {},
   "source": [
    "В датафрейме **subscriptions** (подписки) всего 2 строки и следующая информация:\n",
    "- subscription_type\t- тип подписки\n",
    "- minute_price\t- стоимость одной минуты поездки по данной подписке\n",
    "- start_ride_price\t- стоимость начала поездки\n",
    "- subscription_fee\t- стоимость ежемесячного платежа"
   ]
  },
  {
   "cell_type": "markdown",
   "id": "e95ebca7",
   "metadata": {},
   "source": [
    "# 2. Предобработка данных"
   ]
  },
  {
   "cell_type": "markdown",
   "id": "8d21f551",
   "metadata": {},
   "source": [
    "Для начала проверим все фреймы на наличие пропущенных значений:"
   ]
  },
  {
   "cell_type": "code",
   "execution_count": 8,
   "id": "af6d202c",
   "metadata": {},
   "outputs": [
    {
     "name": "stdout",
     "output_type": "stream",
     "text": [
      "user_id              0\n",
      "name                 0\n",
      "age                  0\n",
      "city                 0\n",
      "subscription_type    0\n",
      "dtype: int64\n",
      "\n",
      "user_id     0\n",
      "distance    0\n",
      "duration    0\n",
      "date        0\n",
      "dtype: int64\n",
      "\n",
      "subscription_type    0\n",
      "minute_price         0\n",
      "start_ride_price     0\n",
      "subscription_fee     0\n",
      "dtype: int64\n"
     ]
    }
   ],
   "source": [
    "print(users.isna().sum())\n",
    "print()\n",
    "print(rides.isna().sum())\n",
    "print()\n",
    "print(subscriptions.isna().sum())"
   ]
  },
  {
   "cell_type": "markdown",
   "id": "b4f61c3c",
   "metadata": {},
   "source": [
    "Пропусков нет, хорошо. Посмотрим на наличие дубликатов:"
   ]
  },
  {
   "cell_type": "code",
   "execution_count": 9,
   "id": "60742207",
   "metadata": {},
   "outputs": [
    {
     "name": "stdout",
     "output_type": "stream",
     "text": [
      "31\n",
      "0\n",
      "0\n"
     ]
    }
   ],
   "source": [
    "print(users.duplicated().sum())\n",
    "print(rides.duplicated().sum())\n",
    "print(subscriptions.duplicated().sum())"
   ]
  },
  {
   "cell_type": "markdown",
   "id": "db06aca3",
   "metadata": {},
   "source": [
    "Явные дубликаты есть только в **Пользователях**, их мы можем удалить"
   ]
  },
  {
   "cell_type": "code",
   "execution_count": 10,
   "id": "e2d8bc37",
   "metadata": {},
   "outputs": [],
   "source": [
    "users = users.drop_duplicates()"
   ]
  },
  {
   "cell_type": "markdown",
   "id": "ce28a12a",
   "metadata": {},
   "source": [
    "В датафрейме **Поездки** приведём столбец date к типу даты pandas и добавим столбец с номером месяца:"
   ]
  },
  {
   "cell_type": "code",
   "execution_count": 11,
   "id": "4fc0fa3d",
   "metadata": {},
   "outputs": [
    {
     "name": "stdout",
     "output_type": "stream",
     "text": [
      "<class 'pandas.core.frame.DataFrame'>\n",
      "RangeIndex: 18068 entries, 0 to 18067\n",
      "Data columns (total 5 columns):\n",
      " #   Column      Non-Null Count  Dtype         \n",
      "---  ------      --------------  -----         \n",
      " 0   user_id     18068 non-null  int64         \n",
      " 1   distance    18068 non-null  float64       \n",
      " 2   duration    18068 non-null  float64       \n",
      " 3   date        18068 non-null  datetime64[ns]\n",
      " 4   date_month  18068 non-null  int32         \n",
      "dtypes: datetime64[ns](1), float64(2), int32(1), int64(1)\n",
      "memory usage: 635.3 KB\n"
     ]
    }
   ],
   "source": [
    "rides['date'] = pd.to_datetime(rides['date'], format='%Y-%m-%d')\n",
    "rides['date_month'] = rides['date'].dt.month\n",
    "rides.info()"
   ]
  },
  {
   "cell_type": "markdown",
   "id": "212593c7",
   "metadata": {},
   "source": [
    "# 3. Исследовательский анализ данных"
   ]
  },
  {
   "cell_type": "markdown",
   "id": "88f403fc",
   "metadata": {},
   "source": [
    "Изучим и визуализируем информацию о пользователях и поездках. Начнём с городов: сколько их в датафрейме, количество пользователей в каждом городе:"
   ]
  },
  {
   "cell_type": "code",
   "execution_count": 12,
   "id": "e3a4274c",
   "metadata": {},
   "outputs": [
    {
     "name": "stdout",
     "output_type": "stream",
     "text": [
      "8\n"
     ]
    },
    {
     "data": {
      "text/plain": [
       "city\n",
       "Пятигорск         219\n",
       "Екатеринбург      204\n",
       "Ростов-на-Дону    198\n",
       "Краснодар         193\n",
       "Сочи              189\n",
       "Омск              183\n",
       "Тюмень            180\n",
       "Москва            168\n",
       "Name: count, dtype: int64"
      ]
     },
     "execution_count": 12,
     "metadata": {},
     "output_type": "execute_result"
    }
   ],
   "source": [
    "print(len(users['city'].unique()))\n",
    "users.value_counts('city')"
   ]
  },
  {
   "cell_type": "code",
   "execution_count": 13,
   "id": "22823028",
   "metadata": {},
   "outputs": [
    {
     "data": {
      "image/png": "[encoded data removed]",
      "text/plain": [
       "<Figure size 1000x400 with 1 Axes>"
      ]
     },
     "metadata": {},
     "output_type": "display_data"
    }
   ],
   "source": [
    "users['city'].value_counts().plot(kind = 'barh', figsize=(10, 4));\n",
    "plt.grid()\n",
    "plt.xlabel('Количество пользователей')\n",
    "plt.ylabel(' ')\n",
    "plt.title('Количество пользователей в разных городах');"
   ]
  },
  {
   "cell_type": "markdown",
   "id": "450b31e4",
   "metadata": {},
   "source": [
    "Разброс не очень большой, больше всего у нас пользователей в Пятигорске, меньше всего в Москве. Посмотрим, сколько пользователей с подпиской и без:"
   ]
  },
  {
   "cell_type": "code",
   "execution_count": 14,
   "id": "1de8f24d",
   "metadata": {},
   "outputs": [
    {
     "data": {
      "text/plain": [
       "subscription_type\n",
       "free     835\n",
       "ultra    699\n",
       "Name: count, dtype: int64"
      ]
     },
     "execution_count": 14,
     "metadata": {},
     "output_type": "execute_result"
    }
   ],
   "source": [
    "users.value_counts('subscription_type')"
   ]
  },
  {
   "cell_type": "code",
   "execution_count": 15,
   "id": "e99300d6",
   "metadata": {},
   "outputs": [
    {
     "data": {
      "image/png": "[encoded data removed]",
      "text/plain": [
       "<Figure size 400x400 with 1 Axes>"
      ]
     },
     "metadata": {},
     "output_type": "display_data"
    }
   ],
   "source": [
    "users['subscription_type'].hist(bins=2*2, figsize=(4, 4));\n",
    "plt.xlabel('Тип подписки')\n",
    "plt.ylabel('Количество пользователей')\n",
    "plt.title('Количество пользователей с подпиской и без');"
   ]
  },
  {
   "cell_type": "markdown",
   "id": "46d60455",
   "metadata": {},
   "source": [
    "Пользователей без подписки чуть больше - 835 против 699. Посмотрим на возраст пользователей:"
   ]
  },
  {
   "cell_type": "code",
   "execution_count": 16,
   "id": "8e4c223e",
   "metadata": {},
   "outputs": [
    {
     "name": "stdout",
     "output_type": "stream",
     "text": [
      "count    1534.000000\n",
      "mean       24.903520\n",
      "std         4.572367\n",
      "min        12.000000\n",
      "25%        22.000000\n",
      "50%        25.000000\n",
      "75%        28.000000\n",
      "max        43.000000\n",
      "Name: age, dtype: float64\n"
     ]
    },
    {
     "data": {
      "text/plain": [
       "age\n",
       "25    145\n",
       "24    132\n",
       "26    131\n",
       "23    129\n",
       "27    119\n",
       "22    119\n",
       "28    112\n",
       "21     93\n",
       "20     71\n",
       "30     68\n",
       "29     68\n",
       "31     48\n",
       "19     47\n",
       "18     46\n",
       "32     41\n",
       "33     39\n",
       "17     26\n",
       "34     19\n",
       "16     19\n",
       "35     15\n",
       "15     13\n",
       "14      9\n",
       "13      8\n",
       "36      6\n",
       "12      4\n",
       "38      3\n",
       "37      2\n",
       "39      1\n",
       "43      1\n",
       "Name: count, dtype: int64"
      ]
     },
     "execution_count": 16,
     "metadata": {},
     "output_type": "execute_result"
    }
   ],
   "source": [
    "print(users['age'].describe())\n",
    "users.value_counts('age')"
   ]
  },
  {
   "cell_type": "code",
   "execution_count": 17,
   "id": "00714255",
   "metadata": {},
   "outputs": [
    {
     "data": {
      "image/png": "[encoded data removed]",
      "text/plain": [
       "<Figure size 1000x400 with 1 Axes>"
      ]
     },
     "metadata": {},
     "output_type": "display_data"
    }
   ],
   "source": [
    "users['age'].hist(bins=44*2, figsize=(10, 4));\n",
    "plt.xlabel('Возраст')\n",
    "plt.ylabel('Количество пользователей')\n",
    "plt.title('Распределение по возрасту пользователей');"
   ]
  },
  {
   "cell_type": "markdown",
   "id": "57445f96",
   "metadata": {},
   "source": [
    "Специфика сервиса вполне ожидаемая, средняя и медианная очень близки (25 лет) - т.к. сервисом самокатов больше всего пользуются люди от 20 до 30 лет (квартили чуть более строги - 22 и 28, соответственно). Самым младшим пользователям 12 лет, самым старшим 36+.\n",
    "\n",
    "Посмотрим на расстоянияния поездок:"
   ]
  },
  {
   "cell_type": "code",
   "execution_count": 18,
   "id": "4dc78afa",
   "metadata": {},
   "outputs": [
    {
     "name": "stdout",
     "output_type": "stream",
     "text": [
      "count    18068.000000\n",
      "mean      3070.659976\n",
      "std       1116.831209\n",
      "min          0.855683\n",
      "25%       2543.226360\n",
      "50%       3133.609994\n",
      "75%       3776.222735\n",
      "max       7211.007745\n",
      "Name: distance, dtype: float64\n"
     ]
    },
    {
     "data": {
      "image/png": "[encoded data removed]",
      "text/plain": [
       "<Figure size 1000x400 with 1 Axes>"
      ]
     },
     "metadata": {},
     "output_type": "display_data"
    }
   ],
   "source": [
    "print(rides['distance'].describe())\n",
    "rides['distance'].hist(bins=150, figsize=(10, 4));\n",
    "plt.xlabel('Расстояние поездки, м')\n",
    "plt.ylabel('Количество поездок')\n",
    "plt.title('Распределение по расстоянию поездок');"
   ]
  },
  {
   "cell_type": "markdown",
   "id": "22c0c381",
   "metadata": {},
   "source": [
    "Средняя 3070,66 м, медианная 3133,61 м. При этом минимальное значение меньше метра, а максимальное 7211. \n",
    "\n",
    "Рассмотрим продолжительность отдной поездки (измеряется в минутах):"
   ]
  },
  {
   "cell_type": "code",
   "execution_count": 19,
   "id": "ef6e2673",
   "metadata": {},
   "outputs": [
    {
     "name": "stdout",
     "output_type": "stream",
     "text": [
      "count    18068.000000\n",
      "mean        17.805011\n",
      "std          6.091051\n",
      "min          0.500000\n",
      "25%         13.597563\n",
      "50%         17.678395\n",
      "75%         21.724800\n",
      "max         40.823963\n",
      "Name: duration, dtype: float64\n"
     ]
    },
    {
     "data": {
      "image/png": "[encoded data removed]",
      "text/plain": [
       "<Figure size 1000x400 with 1 Axes>"
      ]
     },
     "metadata": {},
     "output_type": "display_data"
    }
   ],
   "source": [
    "print(rides['duration'].describe())\n",
    "rides['duration'].hist(bins=150, figsize=(10, 4));\n",
    "plt.xlabel('Продолжительность поездки, мин')\n",
    "plt.ylabel('Количество поездок')\n",
    "plt.title('Распределение по продолжительности поездок');"
   ]
  },
  {
   "cell_type": "code",
   "execution_count": 20,
   "id": "39262391",
   "metadata": {},
   "outputs": [
    {
     "data": {
      "image/png": "[encoded data removed]",
      "text/plain": [
       "<Figure size 400x400 with 1 Axes>"
      ]
     },
     "metadata": {},
     "output_type": "display_data"
    }
   ],
   "source": [
    "rides['duration'].hist(bins=150, range=(0, 1), figsize=(4, 4));\n",
    "plt.xlabel('Продолжительность поездки')\n",
    "plt.ylabel('Количество поездок')\n",
    "plt.title('Продолжительность поездок до 1 мин');"
   ]
  },
  {
   "cell_type": "markdown",
   "id": "59b94092",
   "metadata": {},
   "source": [
    "Средняя 17,81, медианная 17,68. Максимальное значение 40,82, а вот около минимальной (0,5) подозрительный пик. Возможно это тот случай, когда пользователь хотел поехать, но передумал, или это могут быть тестовые запуски после обслуживания, зарядки. Проверим:"
   ]
  },
  {
   "cell_type": "code",
   "execution_count": 21,
   "id": "0a94877e",
   "metadata": {},
   "outputs": [
    {
     "data": {
      "text/html": [
       "<div>\n",
       "<style scoped>\n",
       "    .dataframe tbody tr th:only-of-type {\n",
       "        vertical-align: middle;\n",
       "    }\n",
       "\n",
       "    .dataframe tbody tr th {\n",
       "        vertical-align: top;\n",
       "    }\n",
       "\n",
       "    .dataframe thead th {\n",
       "        text-align: right;\n",
       "    }\n",
       "</style>\n",
       "<table border=\"1\" class=\"dataframe\">\n",
       "  <thead>\n",
       "    <tr style=\"text-align: right;\">\n",
       "      <th></th>\n",
       "      <th>user_id</th>\n",
       "      <th>distance</th>\n",
       "      <th>duration</th>\n",
       "      <th>date</th>\n",
       "      <th>date_month</th>\n",
       "    </tr>\n",
       "  </thead>\n",
       "  <tbody>\n",
       "    <tr>\n",
       "      <th>15132</th>\n",
       "      <td>1325</td>\n",
       "      <td>4030.308008</td>\n",
       "      <td>0.5</td>\n",
       "      <td>2021-12-22</td>\n",
       "      <td>12</td>\n",
       "    </tr>\n",
       "    <tr>\n",
       "      <th>17909</th>\n",
       "      <td>1524</td>\n",
       "      <td>4103.998874</td>\n",
       "      <td>0.5</td>\n",
       "      <td>2021-06-18</td>\n",
       "      <td>6</td>\n",
       "    </tr>\n",
       "    <tr>\n",
       "      <th>10692</th>\n",
       "      <td>1006</td>\n",
       "      <td>4106.278268</td>\n",
       "      <td>0.5</td>\n",
       "      <td>2021-10-31</td>\n",
       "      <td>10</td>\n",
       "    </tr>\n",
       "    <tr>\n",
       "      <th>9698</th>\n",
       "      <td>937</td>\n",
       "      <td>4169.066800</td>\n",
       "      <td>0.5</td>\n",
       "      <td>2021-12-12</td>\n",
       "      <td>12</td>\n",
       "    </tr>\n",
       "    <tr>\n",
       "      <th>14342</th>\n",
       "      <td>1268</td>\n",
       "      <td>4177.139336</td>\n",
       "      <td>0.5</td>\n",
       "      <td>2021-06-09</td>\n",
       "      <td>6</td>\n",
       "    </tr>\n",
       "    <tr>\n",
       "      <th>...</th>\n",
       "      <td>...</td>\n",
       "      <td>...</td>\n",
       "      <td>...</td>\n",
       "      <td>...</td>\n",
       "      <td>...</td>\n",
       "    </tr>\n",
       "    <tr>\n",
       "      <th>14574</th>\n",
       "      <td>1285</td>\n",
       "      <td>6316.574814</td>\n",
       "      <td>0.5</td>\n",
       "      <td>2021-09-25</td>\n",
       "      <td>9</td>\n",
       "    </tr>\n",
       "    <tr>\n",
       "      <th>13701</th>\n",
       "      <td>1224</td>\n",
       "      <td>6414.516026</td>\n",
       "      <td>0.5</td>\n",
       "      <td>2021-07-15</td>\n",
       "      <td>7</td>\n",
       "    </tr>\n",
       "    <tr>\n",
       "      <th>11385</th>\n",
       "      <td>1057</td>\n",
       "      <td>6601.197575</td>\n",
       "      <td>0.5</td>\n",
       "      <td>2021-02-07</td>\n",
       "      <td>2</td>\n",
       "    </tr>\n",
       "    <tr>\n",
       "      <th>17242</th>\n",
       "      <td>1477</td>\n",
       "      <td>6724.932981</td>\n",
       "      <td>0.5</td>\n",
       "      <td>2021-01-12</td>\n",
       "      <td>1</td>\n",
       "    </tr>\n",
       "    <tr>\n",
       "      <th>16309</th>\n",
       "      <td>1411</td>\n",
       "      <td>7211.007745</td>\n",
       "      <td>0.5</td>\n",
       "      <td>2021-04-15</td>\n",
       "      <td>4</td>\n",
       "    </tr>\n",
       "  </tbody>\n",
       "</table>\n",
       "<p>95 rows × 5 columns</p>\n",
       "</div>"
      ],
      "text/plain": [
       "       user_id     distance  duration       date  date_month\n",
       "15132     1325  4030.308008       0.5 2021-12-22          12\n",
       "17909     1524  4103.998874       0.5 2021-06-18           6\n",
       "10692     1006  4106.278268       0.5 2021-10-31          10\n",
       "9698       937  4169.066800       0.5 2021-12-12          12\n",
       "14342     1268  4177.139336       0.5 2021-06-09           6\n",
       "...        ...          ...       ...        ...         ...\n",
       "14574     1285  6316.574814       0.5 2021-09-25           9\n",
       "13701     1224  6414.516026       0.5 2021-07-15           7\n",
       "11385     1057  6601.197575       0.5 2021-02-07           2\n",
       "17242     1477  6724.932981       0.5 2021-01-12           1\n",
       "16309     1411  7211.007745       0.5 2021-04-15           4\n",
       "\n",
       "[95 rows x 5 columns]"
      ]
     },
     "execution_count": 21,
     "metadata": {},
     "output_type": "execute_result"
    }
   ],
   "source": [
    "rides[rides['duration'] < 1].sort_values('distance')"
   ]
  },
  {
   "cell_type": "markdown",
   "id": "cd92ea02",
   "metadata": {},
   "source": [
    "95 записей и все с расстояниями выше средних. Аномальные значения налицо - возможно, сбои в приложении или интернет-соединении.\n",
    "\n",
    "**Вывод** \n",
    "\n",
    "При первичном рассмотрении наших данных мы выснили, рассматриваем 1534 польвователя (45,57% с подпиской, 54,43% без подписки) в 8 городах. Возраст пользователей ожидаемо распределён нормально, от 12 до 43 лёт (с квартилями 22 и 28 лет). На расстояния и времена поездок лучше смотреть раздельно для тарифов, чем мы и займёмся далее, заодно рассмотрев \"природу\" пиков этих графиков."
   ]
  },
  {
   "cell_type": "markdown",
   "id": "4ef51331",
   "metadata": {},
   "source": [
    "# 4. Объединение данных"
   ]
  },
  {
   "cell_type": "markdown",
   "id": "4481677c",
   "metadata": {},
   "source": [
    "Объединим данные о пользователях, поездках и подписках в один датафрейм. Для пользователей и поездок у нас есть общий столбец user_id, а для пользователей и подписок subscription_type:"
   ]
  },
  {
   "cell_type": "code",
   "execution_count": 22,
   "id": "6bf288b5",
   "metadata": {},
   "outputs": [
    {
     "name": "stdout",
     "output_type": "stream",
     "text": [
      "<class 'pandas.core.frame.DataFrame'>\n",
      "RangeIndex: 18068 entries, 0 to 18067\n",
      "Data columns (total 12 columns):\n",
      " #   Column             Non-Null Count  Dtype         \n",
      "---  ------             --------------  -----         \n",
      " 0   user_id            18068 non-null  int64         \n",
      " 1   distance           18068 non-null  float64       \n",
      " 2   duration           18068 non-null  float64       \n",
      " 3   date               18068 non-null  datetime64[ns]\n",
      " 4   date_month         18068 non-null  int32         \n",
      " 5   name               18068 non-null  object        \n",
      " 6   age                18068 non-null  int64         \n",
      " 7   city               18068 non-null  object        \n",
      " 8   subscription_type  18068 non-null  object        \n",
      " 9   minute_price       18068 non-null  int64         \n",
      " 10  start_ride_price   18068 non-null  int64         \n",
      " 11  subscription_fee   18068 non-null  int64         \n",
      "dtypes: datetime64[ns](1), float64(2), int32(1), int64(5), object(3)\n",
      "memory usage: 1.6+ MB\n",
      "None\n"
     ]
    },
    {
     "data": {
      "text/html": [
       "<div>\n",
       "<style scoped>\n",
       "    .dataframe tbody tr th:only-of-type {\n",
       "        vertical-align: middle;\n",
       "    }\n",
       "\n",
       "    .dataframe tbody tr th {\n",
       "        vertical-align: top;\n",
       "    }\n",
       "\n",
       "    .dataframe thead th {\n",
       "        text-align: right;\n",
       "    }\n",
       "</style>\n",
       "<table border=\"1\" class=\"dataframe\">\n",
       "  <thead>\n",
       "    <tr style=\"text-align: right;\">\n",
       "      <th></th>\n",
       "      <th>user_id</th>\n",
       "      <th>distance</th>\n",
       "      <th>duration</th>\n",
       "      <th>date</th>\n",
       "      <th>date_month</th>\n",
       "      <th>name</th>\n",
       "      <th>age</th>\n",
       "      <th>city</th>\n",
       "      <th>subscription_type</th>\n",
       "      <th>minute_price</th>\n",
       "      <th>start_ride_price</th>\n",
       "      <th>subscription_fee</th>\n",
       "    </tr>\n",
       "  </thead>\n",
       "  <tbody>\n",
       "    <tr>\n",
       "      <th>0</th>\n",
       "      <td>1</td>\n",
       "      <td>4409.919140</td>\n",
       "      <td>25.599769</td>\n",
       "      <td>2021-01-01</td>\n",
       "      <td>1</td>\n",
       "      <td>Кира</td>\n",
       "      <td>22</td>\n",
       "      <td>Тюмень</td>\n",
       "      <td>ultra</td>\n",
       "      <td>6</td>\n",
       "      <td>0</td>\n",
       "      <td>199</td>\n",
       "    </tr>\n",
       "    <tr>\n",
       "      <th>1</th>\n",
       "      <td>1</td>\n",
       "      <td>2617.592153</td>\n",
       "      <td>15.816871</td>\n",
       "      <td>2021-01-18</td>\n",
       "      <td>1</td>\n",
       "      <td>Кира</td>\n",
       "      <td>22</td>\n",
       "      <td>Тюмень</td>\n",
       "      <td>ultra</td>\n",
       "      <td>6</td>\n",
       "      <td>0</td>\n",
       "      <td>199</td>\n",
       "    </tr>\n",
       "    <tr>\n",
       "      <th>2</th>\n",
       "      <td>1</td>\n",
       "      <td>754.159807</td>\n",
       "      <td>6.232113</td>\n",
       "      <td>2021-04-20</td>\n",
       "      <td>4</td>\n",
       "      <td>Кира</td>\n",
       "      <td>22</td>\n",
       "      <td>Тюмень</td>\n",
       "      <td>ultra</td>\n",
       "      <td>6</td>\n",
       "      <td>0</td>\n",
       "      <td>199</td>\n",
       "    </tr>\n",
       "    <tr>\n",
       "      <th>3</th>\n",
       "      <td>1</td>\n",
       "      <td>2694.783254</td>\n",
       "      <td>18.511000</td>\n",
       "      <td>2021-08-11</td>\n",
       "      <td>8</td>\n",
       "      <td>Кира</td>\n",
       "      <td>22</td>\n",
       "      <td>Тюмень</td>\n",
       "      <td>ultra</td>\n",
       "      <td>6</td>\n",
       "      <td>0</td>\n",
       "      <td>199</td>\n",
       "    </tr>\n",
       "    <tr>\n",
       "      <th>4</th>\n",
       "      <td>1</td>\n",
       "      <td>4028.687306</td>\n",
       "      <td>26.265803</td>\n",
       "      <td>2021-08-28</td>\n",
       "      <td>8</td>\n",
       "      <td>Кира</td>\n",
       "      <td>22</td>\n",
       "      <td>Тюмень</td>\n",
       "      <td>ultra</td>\n",
       "      <td>6</td>\n",
       "      <td>0</td>\n",
       "      <td>199</td>\n",
       "    </tr>\n",
       "    <tr>\n",
       "      <th>5</th>\n",
       "      <td>1</td>\n",
       "      <td>2770.890808</td>\n",
       "      <td>16.650138</td>\n",
       "      <td>2021-10-09</td>\n",
       "      <td>10</td>\n",
       "      <td>Кира</td>\n",
       "      <td>22</td>\n",
       "      <td>Тюмень</td>\n",
       "      <td>ultra</td>\n",
       "      <td>6</td>\n",
       "      <td>0</td>\n",
       "      <td>199</td>\n",
       "    </tr>\n",
       "    <tr>\n",
       "      <th>6</th>\n",
       "      <td>1</td>\n",
       "      <td>3039.020292</td>\n",
       "      <td>14.927879</td>\n",
       "      <td>2021-10-19</td>\n",
       "      <td>10</td>\n",
       "      <td>Кира</td>\n",
       "      <td>22</td>\n",
       "      <td>Тюмень</td>\n",
       "      <td>ultra</td>\n",
       "      <td>6</td>\n",
       "      <td>0</td>\n",
       "      <td>199</td>\n",
       "    </tr>\n",
       "    <tr>\n",
       "      <th>7</th>\n",
       "      <td>1</td>\n",
       "      <td>2842.118050</td>\n",
       "      <td>23.117468</td>\n",
       "      <td>2021-11-06</td>\n",
       "      <td>11</td>\n",
       "      <td>Кира</td>\n",
       "      <td>22</td>\n",
       "      <td>Тюмень</td>\n",
       "      <td>ultra</td>\n",
       "      <td>6</td>\n",
       "      <td>0</td>\n",
       "      <td>199</td>\n",
       "    </tr>\n",
       "    <tr>\n",
       "      <th>8</th>\n",
       "      <td>1</td>\n",
       "      <td>3412.690668</td>\n",
       "      <td>15.238072</td>\n",
       "      <td>2021-11-14</td>\n",
       "      <td>11</td>\n",
       "      <td>Кира</td>\n",
       "      <td>22</td>\n",
       "      <td>Тюмень</td>\n",
       "      <td>ultra</td>\n",
       "      <td>6</td>\n",
       "      <td>0</td>\n",
       "      <td>199</td>\n",
       "    </tr>\n",
       "    <tr>\n",
       "      <th>9</th>\n",
       "      <td>1</td>\n",
       "      <td>748.690645</td>\n",
       "      <td>15.041884</td>\n",
       "      <td>2021-11-22</td>\n",
       "      <td>11</td>\n",
       "      <td>Кира</td>\n",
       "      <td>22</td>\n",
       "      <td>Тюмень</td>\n",
       "      <td>ultra</td>\n",
       "      <td>6</td>\n",
       "      <td>0</td>\n",
       "      <td>199</td>\n",
       "    </tr>\n",
       "  </tbody>\n",
       "</table>\n",
       "</div>"
      ],
      "text/plain": [
       "   user_id     distance   duration       date  date_month  name  age    city  \\\n",
       "0        1  4409.919140  25.599769 2021-01-01           1  Кира   22  Тюмень   \n",
       "1        1  2617.592153  15.816871 2021-01-18           1  Кира   22  Тюмень   \n",
       "2        1   754.159807   6.232113 2021-04-20           4  Кира   22  Тюмень   \n",
       "3        1  2694.783254  18.511000 2021-08-11           8  Кира   22  Тюмень   \n",
       "4        1  4028.687306  26.265803 2021-08-28           8  Кира   22  Тюмень   \n",
       "5        1  2770.890808  16.650138 2021-10-09          10  Кира   22  Тюмень   \n",
       "6        1  3039.020292  14.927879 2021-10-19          10  Кира   22  Тюмень   \n",
       "7        1  2842.118050  23.117468 2021-11-06          11  Кира   22  Тюмень   \n",
       "8        1  3412.690668  15.238072 2021-11-14          11  Кира   22  Тюмень   \n",
       "9        1   748.690645  15.041884 2021-11-22          11  Кира   22  Тюмень   \n",
       "\n",
       "  subscription_type  minute_price  start_ride_price  subscription_fee  \n",
       "0             ultra             6                 0               199  \n",
       "1             ultra             6                 0               199  \n",
       "2             ultra             6                 0               199  \n",
       "3             ultra             6                 0               199  \n",
       "4             ultra             6                 0               199  \n",
       "5             ultra             6                 0               199  \n",
       "6             ultra             6                 0               199  \n",
       "7             ultra             6                 0               199  \n",
       "8             ultra             6                 0               199  \n",
       "9             ultra             6                 0               199  "
      ]
     },
     "execution_count": 22,
     "metadata": {},
     "output_type": "execute_result"
    }
   ],
   "source": [
    "data = rides.merge(users, on='user_id')\n",
    "data_final = data.merge(subscriptions, on='subscription_type')\n",
    "print(data_final.info())\n",
    "data_final.head(10)"
   ]
  },
  {
   "cell_type": "markdown",
   "id": "d078c4c6",
   "metadata": {},
   "source": [
    "Также, для удобства мы можем создать 2 датафрейма: один для тех у кого есть подписка, второй - у кого нет."
   ]
  },
  {
   "cell_type": "code",
   "execution_count": 23,
   "id": "0f79da4e",
   "metadata": {},
   "outputs": [
    {
     "name": "stdout",
     "output_type": "stream",
     "text": [
      "6500\n"
     ]
    },
    {
     "data": {
      "text/html": [
       "<div>\n",
       "<style scoped>\n",
       "    .dataframe tbody tr th:only-of-type {\n",
       "        vertical-align: middle;\n",
       "    }\n",
       "\n",
       "    .dataframe tbody tr th {\n",
       "        vertical-align: top;\n",
       "    }\n",
       "\n",
       "    .dataframe thead th {\n",
       "        text-align: right;\n",
       "    }\n",
       "</style>\n",
       "<table border=\"1\" class=\"dataframe\">\n",
       "  <thead>\n",
       "    <tr style=\"text-align: right;\">\n",
       "      <th></th>\n",
       "      <th>user_id</th>\n",
       "      <th>distance</th>\n",
       "      <th>duration</th>\n",
       "      <th>date</th>\n",
       "      <th>date_month</th>\n",
       "      <th>name</th>\n",
       "      <th>age</th>\n",
       "      <th>city</th>\n",
       "      <th>subscription_type</th>\n",
       "      <th>minute_price</th>\n",
       "      <th>start_ride_price</th>\n",
       "      <th>subscription_fee</th>\n",
       "    </tr>\n",
       "  </thead>\n",
       "  <tbody>\n",
       "    <tr>\n",
       "      <th>0</th>\n",
       "      <td>1</td>\n",
       "      <td>4409.919140</td>\n",
       "      <td>25.599769</td>\n",
       "      <td>2021-01-01</td>\n",
       "      <td>1</td>\n",
       "      <td>Кира</td>\n",
       "      <td>22</td>\n",
       "      <td>Тюмень</td>\n",
       "      <td>ultra</td>\n",
       "      <td>6</td>\n",
       "      <td>0</td>\n",
       "      <td>199</td>\n",
       "    </tr>\n",
       "    <tr>\n",
       "      <th>1</th>\n",
       "      <td>1</td>\n",
       "      <td>2617.592153</td>\n",
       "      <td>15.816871</td>\n",
       "      <td>2021-01-18</td>\n",
       "      <td>1</td>\n",
       "      <td>Кира</td>\n",
       "      <td>22</td>\n",
       "      <td>Тюмень</td>\n",
       "      <td>ultra</td>\n",
       "      <td>6</td>\n",
       "      <td>0</td>\n",
       "      <td>199</td>\n",
       "    </tr>\n",
       "    <tr>\n",
       "      <th>2</th>\n",
       "      <td>1</td>\n",
       "      <td>754.159807</td>\n",
       "      <td>6.232113</td>\n",
       "      <td>2021-04-20</td>\n",
       "      <td>4</td>\n",
       "      <td>Кира</td>\n",
       "      <td>22</td>\n",
       "      <td>Тюмень</td>\n",
       "      <td>ultra</td>\n",
       "      <td>6</td>\n",
       "      <td>0</td>\n",
       "      <td>199</td>\n",
       "    </tr>\n",
       "    <tr>\n",
       "      <th>3</th>\n",
       "      <td>1</td>\n",
       "      <td>2694.783254</td>\n",
       "      <td>18.511000</td>\n",
       "      <td>2021-08-11</td>\n",
       "      <td>8</td>\n",
       "      <td>Кира</td>\n",
       "      <td>22</td>\n",
       "      <td>Тюмень</td>\n",
       "      <td>ultra</td>\n",
       "      <td>6</td>\n",
       "      <td>0</td>\n",
       "      <td>199</td>\n",
       "    </tr>\n",
       "    <tr>\n",
       "      <th>4</th>\n",
       "      <td>1</td>\n",
       "      <td>4028.687306</td>\n",
       "      <td>26.265803</td>\n",
       "      <td>2021-08-28</td>\n",
       "      <td>8</td>\n",
       "      <td>Кира</td>\n",
       "      <td>22</td>\n",
       "      <td>Тюмень</td>\n",
       "      <td>ultra</td>\n",
       "      <td>6</td>\n",
       "      <td>0</td>\n",
       "      <td>199</td>\n",
       "    </tr>\n",
       "  </tbody>\n",
       "</table>\n",
       "</div>"
      ],
      "text/plain": [
       "   user_id     distance   duration       date  date_month  name  age    city  \\\n",
       "0        1  4409.919140  25.599769 2021-01-01           1  Кира   22  Тюмень   \n",
       "1        1  2617.592153  15.816871 2021-01-18           1  Кира   22  Тюмень   \n",
       "2        1   754.159807   6.232113 2021-04-20           4  Кира   22  Тюмень   \n",
       "3        1  2694.783254  18.511000 2021-08-11           8  Кира   22  Тюмень   \n",
       "4        1  4028.687306  26.265803 2021-08-28           8  Кира   22  Тюмень   \n",
       "\n",
       "  subscription_type  minute_price  start_ride_price  subscription_fee  \n",
       "0             ultra             6                 0               199  \n",
       "1             ultra             6                 0               199  \n",
       "2             ultra             6                 0               199  \n",
       "3             ultra             6                 0               199  \n",
       "4             ultra             6                 0               199  "
      ]
     },
     "execution_count": 23,
     "metadata": {},
     "output_type": "execute_result"
    }
   ],
   "source": [
    "data_ultra = data_final.query('subscription_type == \"ultra\"').reset_index(drop=True)\n",
    "print(data_ultra.shape[0])\n",
    "data_ultra.head()"
   ]
  },
  {
   "cell_type": "code",
   "execution_count": 24,
   "id": "f01ae857",
   "metadata": {},
   "outputs": [
    {
     "name": "stdout",
     "output_type": "stream",
     "text": [
      "11568\n"
     ]
    },
    {
     "data": {
      "text/html": [
       "<div>\n",
       "<style scoped>\n",
       "    .dataframe tbody tr th:only-of-type {\n",
       "        vertical-align: middle;\n",
       "    }\n",
       "\n",
       "    .dataframe tbody tr th {\n",
       "        vertical-align: top;\n",
       "    }\n",
       "\n",
       "    .dataframe thead th {\n",
       "        text-align: right;\n",
       "    }\n",
       "</style>\n",
       "<table border=\"1\" class=\"dataframe\">\n",
       "  <thead>\n",
       "    <tr style=\"text-align: right;\">\n",
       "      <th></th>\n",
       "      <th>user_id</th>\n",
       "      <th>distance</th>\n",
       "      <th>duration</th>\n",
       "      <th>date</th>\n",
       "      <th>date_month</th>\n",
       "      <th>name</th>\n",
       "      <th>age</th>\n",
       "      <th>city</th>\n",
       "      <th>subscription_type</th>\n",
       "      <th>minute_price</th>\n",
       "      <th>start_ride_price</th>\n",
       "      <th>subscription_fee</th>\n",
       "    </tr>\n",
       "  </thead>\n",
       "  <tbody>\n",
       "    <tr>\n",
       "      <th>0</th>\n",
       "      <td>700</td>\n",
       "      <td>2515.690719</td>\n",
       "      <td>14.944286</td>\n",
       "      <td>2021-01-02</td>\n",
       "      <td>1</td>\n",
       "      <td>Айдар</td>\n",
       "      <td>22</td>\n",
       "      <td>Омск</td>\n",
       "      <td>free</td>\n",
       "      <td>8</td>\n",
       "      <td>50</td>\n",
       "      <td>0</td>\n",
       "    </tr>\n",
       "    <tr>\n",
       "      <th>1</th>\n",
       "      <td>700</td>\n",
       "      <td>846.932642</td>\n",
       "      <td>16.234663</td>\n",
       "      <td>2021-02-01</td>\n",
       "      <td>2</td>\n",
       "      <td>Айдар</td>\n",
       "      <td>22</td>\n",
       "      <td>Омск</td>\n",
       "      <td>free</td>\n",
       "      <td>8</td>\n",
       "      <td>50</td>\n",
       "      <td>0</td>\n",
       "    </tr>\n",
       "    <tr>\n",
       "      <th>2</th>\n",
       "      <td>700</td>\n",
       "      <td>4004.434142</td>\n",
       "      <td>20.016628</td>\n",
       "      <td>2021-02-04</td>\n",
       "      <td>2</td>\n",
       "      <td>Айдар</td>\n",
       "      <td>22</td>\n",
       "      <td>Омск</td>\n",
       "      <td>free</td>\n",
       "      <td>8</td>\n",
       "      <td>50</td>\n",
       "      <td>0</td>\n",
       "    </tr>\n",
       "    <tr>\n",
       "      <th>3</th>\n",
       "      <td>700</td>\n",
       "      <td>1205.911290</td>\n",
       "      <td>9.782872</td>\n",
       "      <td>2021-02-10</td>\n",
       "      <td>2</td>\n",
       "      <td>Айдар</td>\n",
       "      <td>22</td>\n",
       "      <td>Омск</td>\n",
       "      <td>free</td>\n",
       "      <td>8</td>\n",
       "      <td>50</td>\n",
       "      <td>0</td>\n",
       "    </tr>\n",
       "    <tr>\n",
       "      <th>4</th>\n",
       "      <td>700</td>\n",
       "      <td>3047.379435</td>\n",
       "      <td>17.427673</td>\n",
       "      <td>2021-02-14</td>\n",
       "      <td>2</td>\n",
       "      <td>Айдар</td>\n",
       "      <td>22</td>\n",
       "      <td>Омск</td>\n",
       "      <td>free</td>\n",
       "      <td>8</td>\n",
       "      <td>50</td>\n",
       "      <td>0</td>\n",
       "    </tr>\n",
       "  </tbody>\n",
       "</table>\n",
       "</div>"
      ],
      "text/plain": [
       "   user_id     distance   duration       date  date_month   name  age  city  \\\n",
       "0      700  2515.690719  14.944286 2021-01-02           1  Айдар   22  Омск   \n",
       "1      700   846.932642  16.234663 2021-02-01           2  Айдар   22  Омск   \n",
       "2      700  4004.434142  20.016628 2021-02-04           2  Айдар   22  Омск   \n",
       "3      700  1205.911290   9.782872 2021-02-10           2  Айдар   22  Омск   \n",
       "4      700  3047.379435  17.427673 2021-02-14           2  Айдар   22  Омск   \n",
       "\n",
       "  subscription_type  minute_price  start_ride_price  subscription_fee  \n",
       "0              free             8                50                 0  \n",
       "1              free             8                50                 0  \n",
       "2              free             8                50                 0  \n",
       "3              free             8                50                 0  \n",
       "4              free             8                50                 0  "
      ]
     },
     "execution_count": 24,
     "metadata": {},
     "output_type": "execute_result"
    }
   ],
   "source": [
    "data_free = data_final.query('subscription_type == \"free\"').reset_index(drop=True)\n",
    "print(data_free.shape[0])\n",
    "data_free.head()"
   ]
  },
  {
   "cell_type": "markdown",
   "id": "75e286a8",
   "metadata": {},
   "source": [
    "Никого не потеряли, при этом можем более подробно анализировать данные по каждой категории. Первый предварительный вывод - поездок без подписки намного больше, чем с подпиской (как и пользователей). Выгоду каждый определяет для себя сам, а мы можем визуализировать информацию о расстоянии и времени поездок для пользователей обеих категорий:"
   ]
  },
  {
   "cell_type": "code",
   "execution_count": 25,
   "id": "80926d88",
   "metadata": {},
   "outputs": [
    {
     "name": "stdout",
     "output_type": "stream",
     "text": [
      "count    6500.000000\n",
      "mean     3115.445388\n",
      "std       836.895330\n",
      "min       244.210438\n",
      "25%      2785.444017\n",
      "50%      3148.637229\n",
      "75%      3560.574425\n",
      "max      5699.769662\n",
      "Name: distance, dtype: float64\n"
     ]
    },
    {
     "data": {
      "image/png": "[encoded data removed]",
      "text/plain": [
       "<Figure size 1000x400 with 1 Axes>"
      ]
     },
     "metadata": {},
     "output_type": "display_data"
    }
   ],
   "source": [
    "print(data_ultra['distance'].describe())\n",
    "data_ultra['distance'].hist(bins=150, figsize=(10, 4));\n",
    "plt.xlabel('Расстояние поездки')\n",
    "plt.ylabel('Количество поездок')\n",
    "plt.title('Расстояния поездок пользователей с подпиской');"
   ]
  },
  {
   "cell_type": "markdown",
   "id": "aacebc8e",
   "metadata": {},
   "source": [
    "Среднее расстояние поездок пользователей с подпиской 3115.45 м, медианное 3148.64 м, минимально 244.21 м, максимально 5699.77 м. При этом по графику видим, что  есть просадки в расстояниях 1500-2200 м."
   ]
  },
  {
   "cell_type": "code",
   "execution_count": 26,
   "id": "b2c7b8c5",
   "metadata": {},
   "outputs": [
    {
     "name": "stdout",
     "output_type": "stream",
     "text": [
      "count    6500.000000\n",
      "mean       18.541985\n",
      "std         5.572048\n",
      "min         3.760353\n",
      "25%        14.524654\n",
      "50%        18.178153\n",
      "75%        21.884129\n",
      "max        40.823963\n",
      "Name: duration, dtype: float64\n"
     ]
    },
    {
     "data": {
      "image/png": "[encoded data removed]",
      "text/plain": [
       "<Figure size 1000x400 with 1 Axes>"
      ]
     },
     "metadata": {},
     "output_type": "display_data"
    }
   ],
   "source": [
    "print(data_ultra['duration'].describe())\n",
    "data_ultra['duration'].hist(bins=150, figsize=(10, 4));\n",
    "plt.xlabel('Продолжительность поездки')\n",
    "plt.ylabel('Количество поездок')\n",
    "plt.title('Время поездок пользователей с подпиской');"
   ]
  },
  {
   "cell_type": "markdown",
   "id": "354ba152",
   "metadata": {},
   "source": [
    "Средняя продолжительность поездок 18.5 минут, медианная 18.2, минимальная 3.8, максимальная 40.8 - самая продолжительная поездка всё-таки совершена пользователем с подпиской."
   ]
  },
  {
   "cell_type": "code",
   "execution_count": 27,
   "id": "92270e2f",
   "metadata": {},
   "outputs": [
    {
     "name": "stdout",
     "output_type": "stream",
     "text": [
      "count    11568.000000\n",
      "mean      3045.495282\n",
      "std       1246.173806\n",
      "min          0.855683\n",
      "25%       2366.562689\n",
      "50%       3114.648465\n",
      "75%       3905.697894\n",
      "max       7211.007745\n",
      "Name: distance, dtype: float64\n"
     ]
    },
    {
     "data": {
      "image/png": "[encoded data removed]",
      "text/plain": [
       "<Figure size 1000x400 with 1 Axes>"
      ]
     },
     "metadata": {},
     "output_type": "display_data"
    }
   ],
   "source": [
    "print(data_free['distance'].describe())\n",
    "data_free['distance'].hist(bins=150, figsize=(10, 4));\n",
    "plt.xlabel('Расстояние поездки')\n",
    "plt.ylabel('Количество поездок')\n",
    "plt.title('Расстояния поездок пользователей без подписки');"
   ]
  },
  {
   "cell_type": "markdown",
   "id": "6efc4031",
   "metadata": {},
   "source": [
    "Среднее (3045.5 м) и медианное (3114.65 м) расстояния близки к тем, что совершают пользователи с подпиской, максимальное же больше - 7211 м, как и меньшее минимальное - 0.86 м. Можем предположить, что  совершать такие поездки (а точнее не совершать) могли новые пользователи сервиса, для которых сервис в новинку или недостаточно денежных средств на карте. Также имеются просадки на расстояниях около 1-2 км."
   ]
  },
  {
   "cell_type": "code",
   "execution_count": 28,
   "id": "0e415cb6",
   "metadata": {},
   "outputs": [
    {
     "name": "stdout",
     "output_type": "stream",
     "text": [
      "count    11568.000000\n",
      "mean        17.390909\n",
      "std          6.326803\n",
      "min          0.500000\n",
      "25%         12.958437\n",
      "50%         17.326890\n",
      "75%         21.594071\n",
      "max         34.948498\n",
      "Name: duration, dtype: float64\n"
     ]
    },
    {
     "data": {
      "image/png": "[encoded data removed]",
      "text/plain": [
       "<Figure size 1000x400 with 1 Axes>"
      ]
     },
     "metadata": {},
     "output_type": "display_data"
    }
   ],
   "source": [
    "print(data_free['duration'].describe())\n",
    "data_free['duration'].hist(bins=150, figsize=(10, 4))\n",
    "plt.xlabel('Продолжительность поездки')\n",
    "plt.ylabel('Количество поездок')\n",
    "plt.title('Время поездок пользователей без подписки');"
   ]
  },
  {
   "cell_type": "markdown",
   "id": "3b638bcf",
   "metadata": {},
   "source": [
    "Средняя продолжительность 17.4 мин, медианная 17.3 - чуть меньше, чем у пользователей с подпиской. А вот те самые минимальные 0.5 минуты как раз у пользователей без подписки (возможно, это подтверждает предположение из предыдущего пункта - то есть возможные сбои подсчёта времени поездки были только у пользователей без подписки). Максимальная же продолжительность - почти 35 минут, как и близкие к ней значения, насчитыевает больше пользователей."
   ]
  },
  {
   "cell_type": "markdown",
   "id": "6077d51c",
   "metadata": {},
   "source": [
    "Для наглядности объединим графики расстояний и времени:"
   ]
  },
  {
   "cell_type": "code",
   "execution_count": 29,
   "id": "8b17a3da",
   "metadata": {},
   "outputs": [
    {
     "data": {
      "image/png": "[encoded data removed]",
      "text/plain": [
       "<Figure size 1000x400 with 1 Axes>"
      ]
     },
     "metadata": {},
     "output_type": "display_data"
    }
   ],
   "source": [
    "plt.subplots(figsize=(10, 4))\n",
    "plt.hist(data_free['distance'], label=\"Без подписки\", bins=150);\n",
    "plt.hist(data_ultra['distance'], label=\"С подпиской\", bins=150);\n",
    "plt.title('Расстояния поездок с подпиской и без')\n",
    "plt.xlabel('Расстояние поездки')\n",
    "plt.ylabel('Количество поездок')\n",
    "plt.legend()\n",
    "plt.grid()"
   ]
  },
  {
   "cell_type": "code",
   "execution_count": 30,
   "id": "bd33293e",
   "metadata": {},
   "outputs": [
    {
     "data": {
      "image/png": "[encoded data removed]",
      "text/plain": [
       "<Figure size 1000x400 with 1 Axes>"
      ]
     },
     "metadata": {},
     "output_type": "display_data"
    }
   ],
   "source": [
    "plt.subplots(figsize=(10, 4))\n",
    "plt.hist(data_free['duration'], label=\"Без подписки\", bins=150);\n",
    "plt.hist(data_ultra['duration'], label=\"С подпиской\", bins=150);\n",
    "plt.title('Продолжительность поездок с подпиской и без')\n",
    "plt.xlabel('Продолжительность поездки')\n",
    "plt.ylabel('Количество поездок')\n",
    "plt.legend()\n",
    "plt.grid()"
   ]
  },
  {
   "cell_type": "markdown",
   "id": "916cb616",
   "metadata": {},
   "source": [
    "На них более отчётливо видно, что поездок пользователей без подписки больше, чем пользователей с подпиской, и то, что распределения их очень схожи - значит схоже и поведение клиентов. С этой точки зрения, привлечение клиентов на оформление подписки выглядит логично, посмотрим по рассчётам - насколько целесообразно:"
   ]
  },
  {
   "cell_type": "markdown",
   "id": "402d620f",
   "metadata": {},
   "source": [
    "# 5. Подсчёт выручки"
   ]
  },
  {
   "cell_type": "markdown",
   "id": "652c965b",
   "metadata": {},
   "source": [
    "Посчитаем суммарную выручку от каждого пользователя. Т.к. по условиям тарифов продолжительность каждой поездки округляется до целого числа (к большему) - округлим столбец по методу \"потолок\", а расстояния округлим до 2 знаков после запятой."
   ]
  },
  {
   "cell_type": "code",
   "execution_count": 31,
   "id": "4841a6eb",
   "metadata": {},
   "outputs": [],
   "source": [
    "data_final['duration'] = np.ceil(data_final['duration'])\n",
    "data_final['distance'] = data_final['distance'].round(2)\n",
    "data_ultra['duration'] = np.ceil(data_ultra['duration'])\n",
    "data_ultra['distance'] = data_ultra['distance'].round(2)\n",
    "data_free['duration'] = np.ceil(data_free['duration'])\n",
    "data_free['distance'] = data_free['distance'].round(2)"
   ]
  },
  {
   "cell_type": "markdown",
   "id": "28cfeb64",
   "metadata": {},
   "source": [
    "Создадим датафрейм с аггрегированными данными о поездках: для каждого пользователя за каждый месяц найдём суммарное расстояние, суммарное время и количество поездок. Также добавим данные тарифов их подписок."
   ]
  },
  {
   "cell_type": "code",
   "execution_count": 32,
   "id": "0a2c7cda",
   "metadata": {},
   "outputs": [
    {
     "data": {
      "text/html": [
       "<div>\n",
       "<style scoped>\n",
       "    .dataframe tbody tr th:only-of-type {\n",
       "        vertical-align: middle;\n",
       "    }\n",
       "\n",
       "    .dataframe tbody tr th {\n",
       "        vertical-align: top;\n",
       "    }\n",
       "\n",
       "    .dataframe thead th {\n",
       "        text-align: right;\n",
       "    }\n",
       "</style>\n",
       "<table border=\"1\" class=\"dataframe\">\n",
       "  <thead>\n",
       "    <tr style=\"text-align: right;\">\n",
       "      <th></th>\n",
       "      <th>user_id</th>\n",
       "      <th>date_month</th>\n",
       "      <th>sum_distance</th>\n",
       "      <th>sum_duration</th>\n",
       "      <th>count_ride</th>\n",
       "      <th>start_price</th>\n",
       "      <th>minute_price</th>\n",
       "      <th>sub_price</th>\n",
       "    </tr>\n",
       "  </thead>\n",
       "  <tbody>\n",
       "    <tr>\n",
       "      <th>0</th>\n",
       "      <td>1</td>\n",
       "      <td>1</td>\n",
       "      <td>7027.51</td>\n",
       "      <td>42.0</td>\n",
       "      <td>2</td>\n",
       "      <td>0</td>\n",
       "      <td>6</td>\n",
       "      <td>199</td>\n",
       "    </tr>\n",
       "    <tr>\n",
       "      <th>1</th>\n",
       "      <td>1</td>\n",
       "      <td>4</td>\n",
       "      <td>754.16</td>\n",
       "      <td>7.0</td>\n",
       "      <td>1</td>\n",
       "      <td>0</td>\n",
       "      <td>6</td>\n",
       "      <td>199</td>\n",
       "    </tr>\n",
       "    <tr>\n",
       "      <th>2</th>\n",
       "      <td>1</td>\n",
       "      <td>8</td>\n",
       "      <td>6723.47</td>\n",
       "      <td>46.0</td>\n",
       "      <td>2</td>\n",
       "      <td>0</td>\n",
       "      <td>6</td>\n",
       "      <td>199</td>\n",
       "    </tr>\n",
       "    <tr>\n",
       "      <th>3</th>\n",
       "      <td>1</td>\n",
       "      <td>10</td>\n",
       "      <td>5809.91</td>\n",
       "      <td>32.0</td>\n",
       "      <td>2</td>\n",
       "      <td>0</td>\n",
       "      <td>6</td>\n",
       "      <td>199</td>\n",
       "    </tr>\n",
       "    <tr>\n",
       "      <th>4</th>\n",
       "      <td>1</td>\n",
       "      <td>11</td>\n",
       "      <td>7003.50</td>\n",
       "      <td>56.0</td>\n",
       "      <td>3</td>\n",
       "      <td>0</td>\n",
       "      <td>6</td>\n",
       "      <td>199</td>\n",
       "    </tr>\n",
       "    <tr>\n",
       "      <th>5</th>\n",
       "      <td>1</td>\n",
       "      <td>12</td>\n",
       "      <td>6751.63</td>\n",
       "      <td>28.0</td>\n",
       "      <td>2</td>\n",
       "      <td>0</td>\n",
       "      <td>6</td>\n",
       "      <td>199</td>\n",
       "    </tr>\n",
       "    <tr>\n",
       "      <th>6</th>\n",
       "      <td>2</td>\n",
       "      <td>3</td>\n",
       "      <td>10187.73</td>\n",
       "      <td>63.0</td>\n",
       "      <td>3</td>\n",
       "      <td>0</td>\n",
       "      <td>6</td>\n",
       "      <td>199</td>\n",
       "    </tr>\n",
       "    <tr>\n",
       "      <th>7</th>\n",
       "      <td>2</td>\n",
       "      <td>4</td>\n",
       "      <td>6164.39</td>\n",
       "      <td>40.0</td>\n",
       "      <td>2</td>\n",
       "      <td>0</td>\n",
       "      <td>6</td>\n",
       "      <td>199</td>\n",
       "    </tr>\n",
       "    <tr>\n",
       "      <th>8</th>\n",
       "      <td>2</td>\n",
       "      <td>6</td>\n",
       "      <td>3255.34</td>\n",
       "      <td>14.0</td>\n",
       "      <td>1</td>\n",
       "      <td>0</td>\n",
       "      <td>6</td>\n",
       "      <td>199</td>\n",
       "    </tr>\n",
       "    <tr>\n",
       "      <th>9</th>\n",
       "      <td>2</td>\n",
       "      <td>7</td>\n",
       "      <td>6780.73</td>\n",
       "      <td>48.0</td>\n",
       "      <td>2</td>\n",
       "      <td>0</td>\n",
       "      <td>6</td>\n",
       "      <td>199</td>\n",
       "    </tr>\n",
       "  </tbody>\n",
       "</table>\n",
       "</div>"
      ],
      "text/plain": [
       "   user_id  date_month  sum_distance  sum_duration  count_ride  start_price  \\\n",
       "0        1           1       7027.51          42.0           2            0   \n",
       "1        1           4        754.16           7.0           1            0   \n",
       "2        1           8       6723.47          46.0           2            0   \n",
       "3        1          10       5809.91          32.0           2            0   \n",
       "4        1          11       7003.50          56.0           3            0   \n",
       "5        1          12       6751.63          28.0           2            0   \n",
       "6        2           3      10187.73          63.0           3            0   \n",
       "7        2           4       6164.39          40.0           2            0   \n",
       "8        2           6       3255.34          14.0           1            0   \n",
       "9        2           7       6780.73          48.0           2            0   \n",
       "\n",
       "   minute_price  sub_price  \n",
       "0             6        199  \n",
       "1             6        199  \n",
       "2             6        199  \n",
       "3             6        199  \n",
       "4             6        199  \n",
       "5             6        199  \n",
       "6             6        199  \n",
       "7             6        199  \n",
       "8             6        199  \n",
       "9             6        199  "
      ]
     },
     "execution_count": 32,
     "metadata": {},
     "output_type": "execute_result"
    }
   ],
   "source": [
    "data_final_aggregated = data_final.groupby(['user_id', 'date_month']).agg({'distance':'sum', 'duration':['sum', 'count'],\n",
    "                                                                           'start_ride_price':'first', 'minute_price':'first',\n",
    "                                                                           'subscription_fee':'first',})\n",
    "data_final_aggregated.columns = ['sum_distance', 'sum_duration', 'count_ride', 'start_price', 'minute_price', 'sub_price']\n",
    "data_final_aggregated.reset_index(inplace=True)\n",
    "data_final_aggregated.head(10)"
   ]
  },
  {
   "cell_type": "markdown",
   "id": "db74482e",
   "metadata": {},
   "source": [
    "Добавим столбец с помесячной выручкой, которую принёс каждый пользователь. Помесячная выручка считается по формуле: стоимость старта поездки × количество поездок + стоимость одной минуты поездки × общая продолжительность всех поездок в минутах + стоимость подписки."
   ]
  },
  {
   "cell_type": "code",
   "execution_count": 33,
   "id": "74673d4c",
   "metadata": {},
   "outputs": [
    {
     "name": "stdout",
     "output_type": "stream",
     "text": [
      "<class 'pandas.core.frame.DataFrame'>\n",
      "RangeIndex: 11331 entries, 0 to 11330\n",
      "Data columns (total 9 columns):\n",
      " #   Column        Non-Null Count  Dtype  \n",
      "---  ------        --------------  -----  \n",
      " 0   user_id       11331 non-null  int64  \n",
      " 1   date_month    11331 non-null  int32  \n",
      " 2   sum_distance  11331 non-null  float64\n",
      " 3   sum_duration  11331 non-null  float64\n",
      " 4   count_ride    11331 non-null  int64  \n",
      " 5   start_price   11331 non-null  int64  \n",
      " 6   minute_price  11331 non-null  int64  \n",
      " 7   sub_price     11331 non-null  int64  \n",
      " 8   revenue       11331 non-null  float64\n",
      "dtypes: float64(3), int32(1), int64(5)\n",
      "memory usage: 752.6 KB\n",
      "None\n"
     ]
    },
    {
     "data": {
      "text/html": [
       "<div>\n",
       "<style scoped>\n",
       "    .dataframe tbody tr th:only-of-type {\n",
       "        vertical-align: middle;\n",
       "    }\n",
       "\n",
       "    .dataframe tbody tr th {\n",
       "        vertical-align: top;\n",
       "    }\n",
       "\n",
       "    .dataframe thead th {\n",
       "        text-align: right;\n",
       "    }\n",
       "</style>\n",
       "<table border=\"1\" class=\"dataframe\">\n",
       "  <thead>\n",
       "    <tr style=\"text-align: right;\">\n",
       "      <th></th>\n",
       "      <th>user_id</th>\n",
       "      <th>date_month</th>\n",
       "      <th>sum_distance</th>\n",
       "      <th>sum_duration</th>\n",
       "      <th>count_ride</th>\n",
       "      <th>start_price</th>\n",
       "      <th>minute_price</th>\n",
       "      <th>sub_price</th>\n",
       "      <th>revenue</th>\n",
       "    </tr>\n",
       "  </thead>\n",
       "  <tbody>\n",
       "    <tr>\n",
       "      <th>0</th>\n",
       "      <td>1</td>\n",
       "      <td>1</td>\n",
       "      <td>7027.51</td>\n",
       "      <td>42.0</td>\n",
       "      <td>2</td>\n",
       "      <td>0</td>\n",
       "      <td>6</td>\n",
       "      <td>199</td>\n",
       "      <td>451.0</td>\n",
       "    </tr>\n",
       "    <tr>\n",
       "      <th>1</th>\n",
       "      <td>1</td>\n",
       "      <td>4</td>\n",
       "      <td>754.16</td>\n",
       "      <td>7.0</td>\n",
       "      <td>1</td>\n",
       "      <td>0</td>\n",
       "      <td>6</td>\n",
       "      <td>199</td>\n",
       "      <td>241.0</td>\n",
       "    </tr>\n",
       "    <tr>\n",
       "      <th>2</th>\n",
       "      <td>1</td>\n",
       "      <td>8</td>\n",
       "      <td>6723.47</td>\n",
       "      <td>46.0</td>\n",
       "      <td>2</td>\n",
       "      <td>0</td>\n",
       "      <td>6</td>\n",
       "      <td>199</td>\n",
       "      <td>475.0</td>\n",
       "    </tr>\n",
       "    <tr>\n",
       "      <th>3</th>\n",
       "      <td>1</td>\n",
       "      <td>10</td>\n",
       "      <td>5809.91</td>\n",
       "      <td>32.0</td>\n",
       "      <td>2</td>\n",
       "      <td>0</td>\n",
       "      <td>6</td>\n",
       "      <td>199</td>\n",
       "      <td>391.0</td>\n",
       "    </tr>\n",
       "    <tr>\n",
       "      <th>4</th>\n",
       "      <td>1</td>\n",
       "      <td>11</td>\n",
       "      <td>7003.50</td>\n",
       "      <td>56.0</td>\n",
       "      <td>3</td>\n",
       "      <td>0</td>\n",
       "      <td>6</td>\n",
       "      <td>199</td>\n",
       "      <td>535.0</td>\n",
       "    </tr>\n",
       "    <tr>\n",
       "      <th>5</th>\n",
       "      <td>1</td>\n",
       "      <td>12</td>\n",
       "      <td>6751.63</td>\n",
       "      <td>28.0</td>\n",
       "      <td>2</td>\n",
       "      <td>0</td>\n",
       "      <td>6</td>\n",
       "      <td>199</td>\n",
       "      <td>367.0</td>\n",
       "    </tr>\n",
       "    <tr>\n",
       "      <th>6</th>\n",
       "      <td>2</td>\n",
       "      <td>3</td>\n",
       "      <td>10187.73</td>\n",
       "      <td>63.0</td>\n",
       "      <td>3</td>\n",
       "      <td>0</td>\n",
       "      <td>6</td>\n",
       "      <td>199</td>\n",
       "      <td>577.0</td>\n",
       "    </tr>\n",
       "    <tr>\n",
       "      <th>7</th>\n",
       "      <td>2</td>\n",
       "      <td>4</td>\n",
       "      <td>6164.39</td>\n",
       "      <td>40.0</td>\n",
       "      <td>2</td>\n",
       "      <td>0</td>\n",
       "      <td>6</td>\n",
       "      <td>199</td>\n",
       "      <td>439.0</td>\n",
       "    </tr>\n",
       "    <tr>\n",
       "      <th>8</th>\n",
       "      <td>2</td>\n",
       "      <td>6</td>\n",
       "      <td>3255.34</td>\n",
       "      <td>14.0</td>\n",
       "      <td>1</td>\n",
       "      <td>0</td>\n",
       "      <td>6</td>\n",
       "      <td>199</td>\n",
       "      <td>283.0</td>\n",
       "    </tr>\n",
       "    <tr>\n",
       "      <th>9</th>\n",
       "      <td>2</td>\n",
       "      <td>7</td>\n",
       "      <td>6780.73</td>\n",
       "      <td>48.0</td>\n",
       "      <td>2</td>\n",
       "      <td>0</td>\n",
       "      <td>6</td>\n",
       "      <td>199</td>\n",
       "      <td>487.0</td>\n",
       "    </tr>\n",
       "  </tbody>\n",
       "</table>\n",
       "</div>"
      ],
      "text/plain": [
       "   user_id  date_month  sum_distance  sum_duration  count_ride  start_price  \\\n",
       "0        1           1       7027.51          42.0           2            0   \n",
       "1        1           4        754.16           7.0           1            0   \n",
       "2        1           8       6723.47          46.0           2            0   \n",
       "3        1          10       5809.91          32.0           2            0   \n",
       "4        1          11       7003.50          56.0           3            0   \n",
       "5        1          12       6751.63          28.0           2            0   \n",
       "6        2           3      10187.73          63.0           3            0   \n",
       "7        2           4       6164.39          40.0           2            0   \n",
       "8        2           6       3255.34          14.0           1            0   \n",
       "9        2           7       6780.73          48.0           2            0   \n",
       "\n",
       "   minute_price  sub_price  revenue  \n",
       "0             6        199    451.0  \n",
       "1             6        199    241.0  \n",
       "2             6        199    475.0  \n",
       "3             6        199    391.0  \n",
       "4             6        199    535.0  \n",
       "5             6        199    367.0  \n",
       "6             6        199    577.0  \n",
       "7             6        199    439.0  \n",
       "8             6        199    283.0  \n",
       "9             6        199    487.0  "
      ]
     },
     "execution_count": 33,
     "metadata": {},
     "output_type": "execute_result"
    }
   ],
   "source": [
    "data_final_aggregated['revenue'] = data_final_aggregated['start_price'] * data_final_aggregated['count_ride'] + \\\n",
    "data_final_aggregated['minute_price'] * data_final_aggregated['sum_duration'] + data_final_aggregated['sub_price']\n",
    "print(data_final_aggregated.info())\n",
    "data_final_aggregated.head(10)"
   ]
  },
  {
   "cell_type": "markdown",
   "id": "76f36fce",
   "metadata": {},
   "source": [
    "Таким образом мы получили датафрейм из 9 столбцов и 11331 строки с аггрегированными основными данными всех пользователей за каждый месяц, в котором они пользовались сервисом,  для дальнейших рассчётов."
   ]
  },
  {
   "cell_type": "markdown",
   "id": "41545ac0",
   "metadata": {},
   "source": [
    "# 6. Проверка гипотез"
   ]
  },
  {
   "cell_type": "markdown",
   "id": "d842eca6",
   "metadata": {},
   "source": [
    "Продакт-менеджеры сервиса хотят увеличить количество пользователей с подпиской. Для этого они будут проводить различные акции, но сначала нужно выяснить несколько важных моментов.\n",
    "\n",
    "## 6.1. Важно понять, тратят ли пользователи с подпиской больше времени на поездки? Если да, то пользователи с подпиской могут быть «выгоднее» для компании. Используем исходные данные о продолжительности каждой сессии — отдельно для подписчиков и тех, у кого нет подписки.\n",
    "\n",
    "- Нулевая гипотеза: средние значения трат времени пользователей из двух групп равны.\n",
    "- Альтернативная гипотеза: среднее значение трат времени пользователей с подпиской больше, чем среднее значение трат времени пользователей без подписки"
   ]
  },
  {
   "cell_type": "code",
   "execution_count": 34,
   "id": "a7b96729",
   "metadata": {},
   "outputs": [
    {
     "name": "stdout",
     "output_type": "stream",
     "text": [
      "p-value: 2.4959453720736625e-34\n",
      "Отвергаем нулевую гипотезу\n"
     ]
    }
   ],
   "source": [
    "ultra = data_ultra['duration']\n",
    "free = data_free['duration']\n",
    "alpha = 0.05\n",
    "results = st.ttest_ind(ultra, free, alternative='greater')\n",
    "1\n",
    "print(f'p-value: {results.pvalue}')\n",
    "\n",
    "if results.pvalue < alpha:\n",
    "    print('Отвергаем нулевую гипотезу')\n",
    "else:\n",
    "    print('Нет оснований отвергнуть нулевую гипотезу')"
   ]
  },
  {
   "cell_type": "markdown",
   "id": "7a53491d",
   "metadata": {},
   "source": [
    "Вполне логично, что пользователи с подпиской тратят больше времени, что мы видели и на графиках выше.\n",
    "\n",
    "## 6.2. Расстояние одной поездки в 3130 метров — оптимальное с точки зрения износа самоката. Можно ли сказать, что среднее расстояние, которое проезжают пользователи с подпиской за одну поездку, не превышает 3130 метров?\n",
    "\n",
    "- Нулевая гипотеза - среднее расстояние пользователя с подпиской больше 3130 метров\n",
    "- Альтернативная гипотеза - среднее расстояние меньше 3130 метров"
   ]
  },
  {
   "cell_type": "code",
   "execution_count": 35,
   "id": "8fc75b6a",
   "metadata": {},
   "outputs": [
    {
     "name": "stdout",
     "output_type": "stream",
     "text": [
      "p-значение: 0.9195362605842414\n",
      "Отвергаем нулевую гипотезу\n"
     ]
    }
   ],
   "source": [
    "interested_value = 3130\n",
    "ultra_di = data_ultra['distance']\n",
    "alpha = 0.05 \n",
    "\n",
    "results = st.ttest_1samp(ultra_di, interested_value, alternative='greater')\n",
    "\n",
    "print('p-значение:', results.pvalue) \n",
    "\n",
    "if (results.pvalue < interested_value): \n",
    "    print('Отвергаем нулевую гипотезу')\n",
    "else:\n",
    "    print('Не получилось отвергнуть нулевую гипотезу')"
   ]
  },
  {
   "cell_type": "markdown",
   "id": "bf34b3d3",
   "metadata": {},
   "source": [
    "Рассчёт подтвердил, что среднее расстояние за одну поездку у пользователей с подпиской меньше 3130 метров, то есть износ оптимальный. Как мы помним из графика и рассчёта выше, среднее 3115,45 м, а вот медианное было чуть больше - 3148,64 м. Пользователи с подпиской достаточно бережно используют прокатные самокаты.\n",
    "\n",
    "## 6.3. Проверим гипотезу о том, будет ли помесячная выручка от пользователей с подпиской по месяцам выше, чем выручка от пользователей без подписки.\n",
    "\n",
    "- Нулевая гипотеза - средняя выручка от пользователей с подпиской равна или меньше, чем от пользователей без подписки\n",
    "- Альтернативная гипотеза - средняя выручка от пользователей с подпиской выше, чем от пользователей без подписки"
   ]
  },
  {
   "cell_type": "code",
   "execution_count": 36,
   "id": "30ef50fd",
   "metadata": {},
   "outputs": [
    {
     "name": "stdout",
     "output_type": "stream",
     "text": [
      "p-value: 1.8850394384715216e-31\n",
      "Отвергаем нулевую гипотезу\n"
     ]
    }
   ],
   "source": [
    "ultra_rev = data_final_aggregated[data_final_aggregated['sub_price'] == 199]['revenue']\n",
    "free_rev = data_final_aggregated[data_final_aggregated['sub_price'] == 0]['revenue']\n",
    "alpha = 0.05\n",
    "results = st.ttest_ind(ultra_rev, free_rev, alternative='greater')\n",
    "\n",
    "print(f'p-value: {results.pvalue}')\n",
    "\n",
    "if results.pvalue < alpha:\n",
    "    print('Отвергаем нулевую гипотезу')\n",
    "else:\n",
    "    print('Нет оснований отвергнуть нулевую гипотезу')"
   ]
  },
  {
   "cell_type": "markdown",
   "id": "da6f0a5b",
   "metadata": {},
   "source": [
    "Пользователи с подпиской ежемесячно приносят сервису больше прибыли, чем пользователи без подписки, не смотря даже на то, что их самих меньше, и поездок они совершают меньше.\n",
    "\n",
    "## 6.4. Представим такую ситуацию: техническая команда сервиса обновила сервера, с которыми взаимодействует мобильное приложение. Она надеется, что из-за этого количество обращений в техподдержку значимо снизилось. Некоторый файл содержит для каждого пользователя данные о количестве обращений до обновления и после него. Какой тест нам понадобился бы для проверки этой гипотезы?\n",
    "\n",
    "Здесь речь идёт об анализе одной генеральной совокупности, с которой произошли некоторые изменения. В этом случае нужно проверять, равны ли средние совокупности до и после этого изменения. Гипотезы выглядели бы так:\n",
    "- Нулевая - средние значения до обновления равны средним значениям после обновления\n",
    "- Альтернативная - средние значения до обновления не равны средним значениям после обновления\n",
    "\n",
    "Измеряемые значения количества обращений в этом случае будут зависимыми, парными - измеряется дважды для одних и тех же объектов. Методу scipy.stats.ttest_rel() передаются два параметра: наборы данных до и после. Оба набора должны быть одинаковыми по размеру: каждое измерение должно быть проведено до и после изменения.\n",
    "\n",
    "## 6.5. Ради интереса проверим ещё пару гипотез:\n",
    "- Проезжают ли пользователи с подпиской большие расстояния\n",
    "- Оптимально ли используют самокаты клиенты без подписки"
   ]
  },
  {
   "cell_type": "code",
   "execution_count": 37,
   "id": "25c39f23",
   "metadata": {},
   "outputs": [
    {
     "name": "stdout",
     "output_type": "stream",
     "text": [
      "p-value: 2.6587464744280608e-05\n",
      "Пользователи с подпиской проезжают большие расстояния\n"
     ]
    }
   ],
   "source": [
    "free_di = data_free['distance']\n",
    "alpha = 0.05\n",
    "results = st.ttest_ind(ultra_di, free_di, alternative='greater')\n",
    "\n",
    "print(f'p-value: {results.pvalue}')\n",
    "\n",
    "if results.pvalue < alpha:\n",
    "    print('Пользователи с подпиской проезжают большие расстояния')\n",
    "else:\n",
    "    print('Средние расстояния примерно равны')"
   ]
  },
  {
   "cell_type": "code",
   "execution_count": 38,
   "id": "259ae564",
   "metadata": {},
   "outputs": [
    {
     "name": "stdout",
     "output_type": "stream",
     "text": [
      "p-значение: 1.6095168660822524e-13\n",
      "Пользователи без подписки используют оптимально\n"
     ]
    }
   ],
   "source": [
    "interested_value = 3130\n",
    "free_di = data_free['distance']\n",
    "alpha = 0.05 \n",
    "\n",
    "results = st.ttest_1samp(free_di, interested_value, alternative='less')\n",
    "\n",
    "print('p-значение:', results.pvalue) \n",
    "\n",
    "if (results.pvalue < interested_value): \n",
    "    print('Пользователи без подписки используют оптимально')\n",
    "else:\n",
    "    print('Без подписки износ выше')"
   ]
  },
  {
   "cell_type": "markdown",
   "id": "43686635",
   "metadata": {},
   "source": [
    "# **ВЫВОД** \n",
    "\n",
    "Подписка является выгодной как для пользователей, так и для самого сервиса. Пользователи с подпиской тратят больше времени на поездки, используют самокаты оптимально с точки зрения износа, и при этом приносят прибыли в среднем больше по месяцам, чем пользователи без подписки.\n",
    "\n",
    "Продакт-менеджеры правильно полагают, что увеличение количества пользователей с подпиской увеличит прибыль сервиса, т.к. \"подписчики\" в среднем проезжают и большие расстояния, что не удивительно. А пользователи без подписок, не смотря на то, что их больше и совершают поездок они тоже больше, не \"изнашивают\" парк самокатов (по установленным компаниям рамкам износа от одной поездки). Проводя акции, в рамках которых пользователи без подписки (коих сейчас 54,43%, то есть аудитория вполне лояльная) будут переходить на \"подписочный режим\" сервис может получить больше прибыли при сохранении уровня издержек на обслуживание парка самокатов."
   ]
  }
 ],
 "metadata": {
  "ExecuteTimeLog": [
   {
    "duration": 1308,
    "start_time": "2023-12-03T17:11:50.824Z"
   },
   {
    "duration": 2,
    "start_time": "2023-12-03T17:19:31.832Z"
   },
   {
    "duration": 83,
    "start_time": "2023-12-03T17:19:33.369Z"
   },
   {
    "duration": 12,
    "start_time": "2023-12-03T17:20:26.726Z"
   },
   {
    "duration": 89,
    "start_time": "2023-12-03T17:25:56.245Z"
   },
   {
    "duration": 14,
    "start_time": "2023-12-03T17:26:27.793Z"
   },
   {
    "duration": 65,
    "start_time": "2023-12-03T17:30:38.359Z"
   },
   {
    "duration": 29,
    "start_time": "2023-12-03T17:31:00.071Z"
   },
   {
    "duration": 11,
    "start_time": "2023-12-03T17:31:38.466Z"
   },
   {
    "duration": 1160,
    "start_time": "2023-12-03T17:35:10.345Z"
   },
   {
    "duration": 38,
    "start_time": "2023-12-03T17:35:11.507Z"
   },
   {
    "duration": 11,
    "start_time": "2023-12-03T17:35:11.546Z"
   },
   {
    "duration": 35,
    "start_time": "2023-12-03T17:35:11.559Z"
   },
   {
    "duration": 11,
    "start_time": "2023-12-03T17:35:11.596Z"
   },
   {
    "duration": 24,
    "start_time": "2023-12-03T17:35:11.609Z"
   },
   {
    "duration": 11,
    "start_time": "2023-12-03T17:35:11.635Z"
   },
   {
    "duration": 8,
    "start_time": "2023-12-03T17:41:07.202Z"
   },
   {
    "duration": 11,
    "start_time": "2023-12-03T17:41:43.963Z"
   },
   {
    "duration": 13,
    "start_time": "2023-12-03T17:42:09.255Z"
   },
   {
    "duration": 10,
    "start_time": "2023-12-03T17:42:37.960Z"
   },
   {
    "duration": 14,
    "start_time": "2023-12-03T17:43:15.509Z"
   },
   {
    "duration": 431,
    "start_time": "2023-12-03T17:44:06.512Z"
   },
   {
    "duration": 239,
    "start_time": "2023-12-03T17:44:21.049Z"
   },
   {
    "duration": 281,
    "start_time": "2023-12-03T17:44:28.825Z"
   },
   {
    "duration": 10,
    "start_time": "2023-12-03T17:47:00.790Z"
   },
   {
    "duration": 1123,
    "start_time": "2023-12-03T17:47:14.829Z"
   },
   {
    "duration": 37,
    "start_time": "2023-12-03T17:47:15.953Z"
   },
   {
    "duration": 10,
    "start_time": "2023-12-03T17:47:15.992Z"
   },
   {
    "duration": 41,
    "start_time": "2023-12-03T17:47:16.003Z"
   },
   {
    "duration": 10,
    "start_time": "2023-12-03T17:47:16.045Z"
   },
   {
    "duration": 18,
    "start_time": "2023-12-03T17:47:16.056Z"
   },
   {
    "duration": 9,
    "start_time": "2023-12-03T17:47:16.075Z"
   },
   {
    "duration": 7,
    "start_time": "2023-12-03T17:47:16.085Z"
   },
   {
    "duration": 26,
    "start_time": "2023-12-03T17:47:16.093Z"
   },
   {
    "duration": 11,
    "start_time": "2023-12-03T18:10:24.601Z"
   },
   {
    "duration": 10,
    "start_time": "2023-12-03T18:10:41.492Z"
   },
   {
    "duration": 9,
    "start_time": "2023-12-03T18:10:49.449Z"
   },
   {
    "duration": 5,
    "start_time": "2023-12-03T18:12:56.765Z"
   },
   {
    "duration": 9,
    "start_time": "2023-12-03T18:13:20.624Z"
   },
   {
    "duration": 5,
    "start_time": "2023-12-03T18:13:28.726Z"
   },
   {
    "duration": 8,
    "start_time": "2023-12-03T18:19:31.721Z"
   },
   {
    "duration": 18,
    "start_time": "2023-12-03T18:20:18.216Z"
   },
   {
    "duration": 29,
    "start_time": "2023-12-03T18:20:27.532Z"
   },
   {
    "duration": 24,
    "start_time": "2023-12-03T18:20:47.793Z"
   },
   {
    "duration": 30,
    "start_time": "2023-12-03T18:23:26.637Z"
   },
   {
    "duration": 25,
    "start_time": "2023-12-03T18:23:47.216Z"
   },
   {
    "duration": 22,
    "start_time": "2023-12-03T18:24:02.674Z"
   },
   {
    "duration": 1140,
    "start_time": "2023-12-03T18:24:37.705Z"
   },
   {
    "duration": 37,
    "start_time": "2023-12-03T18:24:38.847Z"
   },
   {
    "duration": 12,
    "start_time": "2023-12-03T18:24:38.886Z"
   },
   {
    "duration": 34,
    "start_time": "2023-12-03T18:24:38.899Z"
   },
   {
    "duration": 11,
    "start_time": "2023-12-03T18:24:38.935Z"
   },
   {
    "duration": 20,
    "start_time": "2023-12-03T18:24:38.948Z"
   },
   {
    "duration": 10,
    "start_time": "2023-12-03T18:24:38.970Z"
   },
   {
    "duration": 15,
    "start_time": "2023-12-03T18:24:38.981Z"
   },
   {
    "duration": 22,
    "start_time": "2023-12-03T18:24:38.998Z"
   },
   {
    "duration": 4,
    "start_time": "2023-12-03T18:24:39.021Z"
   },
   {
    "duration": 26,
    "start_time": "2023-12-03T18:24:39.026Z"
   },
   {
    "duration": 5,
    "start_time": "2023-12-03T19:02:22.369Z"
   },
   {
    "duration": 108,
    "start_time": "2023-12-03T19:04:03.449Z"
   },
   {
    "duration": 18,
    "start_time": "2023-12-03T19:04:08.864Z"
   },
   {
    "duration": 12,
    "start_time": "2023-12-03T19:05:09.832Z"
   },
   {
    "duration": 148,
    "start_time": "2023-12-03T19:05:44.410Z"
   },
   {
    "duration": 138,
    "start_time": "2023-12-03T19:05:58.681Z"
   },
   {
    "duration": 140,
    "start_time": "2023-12-03T19:06:07.347Z"
   },
   {
    "duration": 9,
    "start_time": "2023-12-03T19:11:09.599Z"
   },
   {
    "duration": 1164,
    "start_time": "2023-12-03T19:13:38.960Z"
   },
   {
    "duration": 38,
    "start_time": "2023-12-03T19:13:40.127Z"
   },
   {
    "duration": 11,
    "start_time": "2023-12-03T19:13:40.166Z"
   },
   {
    "duration": 38,
    "start_time": "2023-12-03T19:13:40.179Z"
   },
   {
    "duration": 15,
    "start_time": "2023-12-03T19:13:40.220Z"
   },
   {
    "duration": 18,
    "start_time": "2023-12-03T19:13:40.237Z"
   },
   {
    "duration": 9,
    "start_time": "2023-12-03T19:13:40.256Z"
   },
   {
    "duration": 9,
    "start_time": "2023-12-03T19:13:40.267Z"
   },
   {
    "duration": 37,
    "start_time": "2023-12-03T19:13:40.277Z"
   },
   {
    "duration": 8,
    "start_time": "2023-12-03T19:13:40.319Z"
   },
   {
    "duration": 20,
    "start_time": "2023-12-03T19:13:40.329Z"
   },
   {
    "duration": 8,
    "start_time": "2023-12-03T19:13:40.350Z"
   },
   {
    "duration": 21993,
    "start_time": "2023-12-03T19:13:40.359Z"
   },
   {
    "duration": 255,
    "start_time": "2023-12-03T19:15:39.935Z"
   },
   {
    "duration": 153,
    "start_time": "2023-12-03T19:15:55.575Z"
   },
   {
    "duration": 17,
    "start_time": "2023-12-03T19:21:07.306Z"
   },
   {
    "duration": 642,
    "start_time": "2023-12-03T19:23:04.258Z"
   },
   {
    "duration": 141,
    "start_time": "2023-12-03T19:23:18.988Z"
   },
   {
    "duration": 137,
    "start_time": "2023-12-03T19:23:24.363Z"
   },
   {
    "duration": 9,
    "start_time": "2023-12-03T19:31:12.024Z"
   },
   {
    "duration": 15,
    "start_time": "2023-12-03T19:32:44.713Z"
   },
   {
    "duration": 104,
    "start_time": "2023-12-03T19:33:26.593Z"
   },
   {
    "duration": 105,
    "start_time": "2023-12-03T19:34:28.258Z"
   },
   {
    "duration": 94,
    "start_time": "2023-12-03T19:34:34.252Z"
   },
   {
    "duration": 88,
    "start_time": "2023-12-03T19:34:44.868Z"
   },
   {
    "duration": 90,
    "start_time": "2023-12-03T19:35:38.941Z"
   },
   {
    "duration": 91,
    "start_time": "2023-12-03T19:35:43.595Z"
   },
   {
    "duration": 7,
    "start_time": "2023-12-03T19:37:00.299Z"
   },
   {
    "duration": 6,
    "start_time": "2023-12-03T19:37:15.957Z"
   },
   {
    "duration": 290,
    "start_time": "2023-12-03T19:39:06.341Z"
   },
   {
    "duration": 361,
    "start_time": "2023-12-03T19:39:11.350Z"
   },
   {
    "duration": 9,
    "start_time": "2023-12-03T19:40:20.368Z"
   },
   {
    "duration": 180,
    "start_time": "2023-12-03T19:40:28.654Z"
   },
   {
    "duration": 211,
    "start_time": "2023-12-03T19:40:34.085Z"
   },
   {
    "duration": 208,
    "start_time": "2023-12-03T19:40:57.397Z"
   },
   {
    "duration": 15,
    "start_time": "2023-12-03T19:41:29.575Z"
   },
   {
    "duration": 209,
    "start_time": "2023-12-03T19:42:04.760Z"
   },
   {
    "duration": 212,
    "start_time": "2023-12-03T19:42:13.319Z"
   },
   {
    "duration": 1212,
    "start_time": "2023-12-03T19:55:40.151Z"
   },
   {
    "duration": 359,
    "start_time": "2023-12-03T19:56:00.905Z"
   },
   {
    "duration": 239,
    "start_time": "2023-12-03T19:57:09.120Z"
   },
   {
    "duration": 295,
    "start_time": "2023-12-03T20:05:57.679Z"
   },
   {
    "duration": 311,
    "start_time": "2023-12-03T20:09:52.376Z"
   },
   {
    "duration": 366,
    "start_time": "2023-12-03T20:18:03.339Z"
   },
   {
    "duration": 123,
    "start_time": "2023-12-03T20:19:11.373Z"
   },
   {
    "duration": 220,
    "start_time": "2023-12-03T20:19:16.403Z"
   },
   {
    "duration": 1129,
    "start_time": "2023-12-03T20:22:56.817Z"
   },
   {
    "duration": 37,
    "start_time": "2023-12-03T20:22:57.948Z"
   },
   {
    "duration": 11,
    "start_time": "2023-12-03T20:22:57.986Z"
   },
   {
    "duration": 35,
    "start_time": "2023-12-03T20:22:57.998Z"
   },
   {
    "duration": 11,
    "start_time": "2023-12-03T20:22:58.035Z"
   },
   {
    "duration": 19,
    "start_time": "2023-12-03T20:22:58.047Z"
   },
   {
    "duration": 9,
    "start_time": "2023-12-03T20:22:58.067Z"
   },
   {
    "duration": 8,
    "start_time": "2023-12-03T20:22:58.077Z"
   },
   {
    "duration": 9,
    "start_time": "2023-12-03T20:22:58.087Z"
   },
   {
    "duration": 17,
    "start_time": "2023-12-03T20:22:58.097Z"
   },
   {
    "duration": 15,
    "start_time": "2023-12-03T20:22:58.115Z"
   },
   {
    "duration": 6,
    "start_time": "2023-12-03T20:22:58.131Z"
   },
   {
    "duration": 174,
    "start_time": "2023-12-03T20:22:58.139Z"
   },
   {
    "duration": 6,
    "start_time": "2023-12-03T20:22:58.315Z"
   },
   {
    "duration": 110,
    "start_time": "2023-12-03T20:22:58.323Z"
   },
   {
    "duration": 10,
    "start_time": "2023-12-03T20:22:58.434Z"
   },
   {
    "duration": 261,
    "start_time": "2023-12-03T20:22:58.445Z"
   },
   {
    "duration": 311,
    "start_time": "2023-12-03T20:22:58.708Z"
   },
   {
    "duration": 373,
    "start_time": "2023-12-03T20:22:59.020Z"
   },
   {
    "duration": 214,
    "start_time": "2023-12-03T20:22:59.395Z"
   },
   {
    "duration": 8,
    "start_time": "2023-12-03T20:33:45.510Z"
   },
   {
    "duration": 8,
    "start_time": "2023-12-03T20:33:54.565Z"
   },
   {
    "duration": 9,
    "start_time": "2023-12-03T20:35:36.988Z"
   },
   {
    "duration": 9,
    "start_time": "2023-12-03T20:35:58.893Z"
   },
   {
    "duration": 7,
    "start_time": "2023-12-03T20:36:19.653Z"
   },
   {
    "duration": 136,
    "start_time": "2023-12-03T20:36:21.654Z"
   },
   {
    "duration": 129,
    "start_time": "2023-12-03T20:36:50.975Z"
   },
   {
    "duration": 6,
    "start_time": "2023-12-03T20:37:00.846Z"
   },
   {
    "duration": 6,
    "start_time": "2023-12-03T20:37:24.749Z"
   },
   {
    "duration": 9,
    "start_time": "2023-12-03T20:37:55.800Z"
   },
   {
    "duration": 1083,
    "start_time": "2023-12-03T20:38:42.333Z"
   },
   {
    "duration": 37,
    "start_time": "2023-12-03T20:38:43.418Z"
   },
   {
    "duration": 10,
    "start_time": "2023-12-03T20:38:43.456Z"
   },
   {
    "duration": 33,
    "start_time": "2023-12-03T20:38:43.468Z"
   },
   {
    "duration": 10,
    "start_time": "2023-12-03T20:38:43.502Z"
   },
   {
    "duration": 18,
    "start_time": "2023-12-03T20:38:43.513Z"
   },
   {
    "duration": 9,
    "start_time": "2023-12-03T20:38:43.532Z"
   },
   {
    "duration": 10,
    "start_time": "2023-12-03T20:38:43.542Z"
   },
   {
    "duration": 10,
    "start_time": "2023-12-03T20:38:43.553Z"
   },
   {
    "duration": 5,
    "start_time": "2023-12-03T20:38:43.565Z"
   },
   {
    "duration": 15,
    "start_time": "2023-12-03T20:38:43.571Z"
   },
   {
    "duration": 7,
    "start_time": "2023-12-03T20:38:43.610Z"
   },
   {
    "duration": 152,
    "start_time": "2023-12-03T20:38:43.618Z"
   },
   {
    "duration": 5,
    "start_time": "2023-12-03T20:38:43.772Z"
   },
   {
    "duration": 105,
    "start_time": "2023-12-03T20:38:43.779Z"
   },
   {
    "duration": 9,
    "start_time": "2023-12-03T20:38:43.885Z"
   },
   {
    "duration": 245,
    "start_time": "2023-12-03T20:38:43.895Z"
   },
   {
    "duration": 275,
    "start_time": "2023-12-03T20:38:44.142Z"
   },
   {
    "duration": 365,
    "start_time": "2023-12-03T20:38:44.419Z"
   },
   {
    "duration": 204,
    "start_time": "2023-12-03T20:38:44.785Z"
   },
   {
    "duration": 21,
    "start_time": "2023-12-03T22:10:34.506Z"
   },
   {
    "duration": 26,
    "start_time": "2023-12-03T22:11:06.687Z"
   },
   {
    "duration": 24,
    "start_time": "2023-12-03T22:12:46.042Z"
   },
   {
    "duration": 26,
    "start_time": "2023-12-03T22:13:03.746Z"
   },
   {
    "duration": 36,
    "start_time": "2023-12-03T22:15:47.915Z"
   },
   {
    "duration": 35,
    "start_time": "2023-12-03T22:17:30.698Z"
   },
   {
    "duration": 116,
    "start_time": "2023-12-03T22:22:57.018Z"
   },
   {
    "duration": 35,
    "start_time": "2023-12-03T22:23:02.289Z"
   },
   {
    "duration": 11,
    "start_time": "2023-12-03T22:23:45.025Z"
   },
   {
    "duration": 15,
    "start_time": "2023-12-03T22:24:08.365Z"
   },
   {
    "duration": 14,
    "start_time": "2023-12-03T22:24:26.800Z"
   },
   {
    "duration": 14,
    "start_time": "2023-12-03T22:25:30.346Z"
   },
   {
    "duration": 8,
    "start_time": "2023-12-03T22:26:55.602Z"
   },
   {
    "duration": 7,
    "start_time": "2023-12-03T22:27:11.379Z"
   },
   {
    "duration": 8,
    "start_time": "2023-12-03T22:28:29.843Z"
   },
   {
    "duration": 7,
    "start_time": "2023-12-03T22:29:11.532Z"
   },
   {
    "duration": 16,
    "start_time": "2023-12-03T22:29:27.467Z"
   },
   {
    "duration": 7,
    "start_time": "2023-12-03T22:29:42.684Z"
   },
   {
    "duration": 10,
    "start_time": "2023-12-03T22:30:12.317Z"
   },
   {
    "duration": 16,
    "start_time": "2023-12-03T22:30:20.285Z"
   },
   {
    "duration": 7,
    "start_time": "2023-12-03T22:30:34.757Z"
   },
   {
    "duration": 13,
    "start_time": "2023-12-03T22:30:40.934Z"
   },
   {
    "duration": 8,
    "start_time": "2023-12-03T22:31:03.701Z"
   },
   {
    "duration": 16,
    "start_time": "2023-12-03T22:31:28.853Z"
   },
   {
    "duration": 23,
    "start_time": "2023-12-03T22:31:54.341Z"
   },
   {
    "duration": 23,
    "start_time": "2023-12-03T22:32:05.924Z"
   },
   {
    "duration": 14,
    "start_time": "2023-12-03T22:32:19.024Z"
   },
   {
    "duration": 18,
    "start_time": "2023-12-03T22:32:26.616Z"
   },
   {
    "duration": 1226,
    "start_time": "2023-12-03T22:32:46.602Z"
   },
   {
    "duration": 38,
    "start_time": "2023-12-03T22:32:47.830Z"
   },
   {
    "duration": 10,
    "start_time": "2023-12-03T22:32:47.869Z"
   },
   {
    "duration": 40,
    "start_time": "2023-12-03T22:32:47.881Z"
   },
   {
    "duration": 12,
    "start_time": "2023-12-03T22:32:47.924Z"
   },
   {
    "duration": 21,
    "start_time": "2023-12-03T22:32:47.937Z"
   },
   {
    "duration": 9,
    "start_time": "2023-12-03T22:32:47.959Z"
   },
   {
    "duration": 22,
    "start_time": "2023-12-03T22:32:47.970Z"
   },
   {
    "duration": 10,
    "start_time": "2023-12-03T22:32:47.994Z"
   },
   {
    "duration": 10,
    "start_time": "2023-12-03T22:32:48.015Z"
   },
   {
    "duration": 18,
    "start_time": "2023-12-03T22:32:48.027Z"
   },
   {
    "duration": 11,
    "start_time": "2023-12-03T22:32:48.047Z"
   },
   {
    "duration": 166,
    "start_time": "2023-12-03T22:32:48.060Z"
   },
   {
    "duration": 5,
    "start_time": "2023-12-03T22:32:48.228Z"
   },
   {
    "duration": 116,
    "start_time": "2023-12-03T22:32:48.234Z"
   },
   {
    "duration": 9,
    "start_time": "2023-12-03T22:32:48.351Z"
   },
   {
    "duration": 246,
    "start_time": "2023-12-03T22:32:48.361Z"
   },
   {
    "duration": 327,
    "start_time": "2023-12-03T22:32:48.615Z"
   },
   {
    "duration": 412,
    "start_time": "2023-12-03T22:32:48.944Z"
   },
   {
    "duration": 238,
    "start_time": "2023-12-03T22:32:49.357Z"
   },
   {
    "duration": 50,
    "start_time": "2023-12-03T22:32:49.596Z"
   },
   {
    "duration": 17,
    "start_time": "2023-12-03T22:32:49.648Z"
   },
   {
    "duration": 17,
    "start_time": "2023-12-03T22:32:49.667Z"
   },
   {
    "duration": 305,
    "start_time": "2023-12-03T22:42:30.691Z"
   },
   {
    "duration": 307,
    "start_time": "2023-12-03T22:42:34.813Z"
   },
   {
    "duration": 392,
    "start_time": "2023-12-03T22:44:57.358Z"
   },
   {
    "duration": 384,
    "start_time": "2023-12-03T22:45:09.437Z"
   },
   {
    "duration": 305,
    "start_time": "2023-12-03T22:45:29.921Z"
   },
   {
    "duration": 306,
    "start_time": "2023-12-03T22:48:41.600Z"
   },
   {
    "duration": 308,
    "start_time": "2023-12-03T22:48:57.922Z"
   },
   {
    "duration": 426,
    "start_time": "2023-12-03T22:49:06.904Z"
   },
   {
    "duration": 306,
    "start_time": "2023-12-03T22:50:17.347Z"
   },
   {
    "duration": 143,
    "start_time": "2023-12-03T22:50:54.753Z"
   },
   {
    "duration": 102,
    "start_time": "2023-12-03T22:51:33.170Z"
   },
   {
    "duration": 220,
    "start_time": "2023-12-03T22:52:09.972Z"
   },
   {
    "duration": 294,
    "start_time": "2023-12-03T22:52:31.083Z"
   },
   {
    "duration": 394,
    "start_time": "2023-12-03T22:53:07.410Z"
   },
   {
    "duration": 332,
    "start_time": "2023-12-03T22:53:43.106Z"
   },
   {
    "duration": 1293,
    "start_time": "2023-12-05T20:52:56.851Z"
   },
   {
    "duration": 84,
    "start_time": "2023-12-05T20:52:58.146Z"
   },
   {
    "duration": 12,
    "start_time": "2023-12-05T20:52:58.231Z"
   },
   {
    "duration": 74,
    "start_time": "2023-12-05T20:52:58.245Z"
   },
   {
    "duration": 10,
    "start_time": "2023-12-05T20:52:58.320Z"
   },
   {
    "duration": 56,
    "start_time": "2023-12-05T20:52:58.332Z"
   },
   {
    "duration": 9,
    "start_time": "2023-12-05T20:52:58.390Z"
   },
   {
    "duration": 9,
    "start_time": "2023-12-05T20:52:58.401Z"
   },
   {
    "duration": 11,
    "start_time": "2023-12-05T20:52:58.411Z"
   },
   {
    "duration": 5,
    "start_time": "2023-12-05T20:52:58.424Z"
   },
   {
    "duration": 15,
    "start_time": "2023-12-05T20:52:58.430Z"
   },
   {
    "duration": 6,
    "start_time": "2023-12-05T20:52:58.447Z"
   },
   {
    "duration": 170,
    "start_time": "2023-12-05T20:52:58.455Z"
   },
   {
    "duration": 6,
    "start_time": "2023-12-05T20:52:58.626Z"
   },
   {
    "duration": 119,
    "start_time": "2023-12-05T20:52:58.633Z"
   },
   {
    "duration": 10,
    "start_time": "2023-12-05T20:52:58.753Z"
   },
   {
    "duration": 243,
    "start_time": "2023-12-05T20:52:58.764Z"
   },
   {
    "duration": 339,
    "start_time": "2023-12-05T20:52:59.009Z"
   },
   {
    "duration": 406,
    "start_time": "2023-12-05T20:52:59.352Z"
   },
   {
    "duration": 229,
    "start_time": "2023-12-05T20:52:59.759Z"
   },
   {
    "duration": 61,
    "start_time": "2023-12-05T20:52:59.994Z"
   },
   {
    "duration": 20,
    "start_time": "2023-12-05T20:53:00.057Z"
   },
   {
    "duration": 34,
    "start_time": "2023-12-05T20:53:00.078Z"
   },
   {
    "duration": 348,
    "start_time": "2023-12-05T20:53:00.114Z"
   },
   {
    "duration": 306,
    "start_time": "2023-12-05T20:54:38.514Z"
   },
   {
    "duration": 297,
    "start_time": "2023-12-05T20:55:36.508Z"
   },
   {
    "duration": 381,
    "start_time": "2023-12-05T20:55:39.612Z"
   },
   {
    "duration": 309,
    "start_time": "2023-12-05T20:56:23.570Z"
   },
   {
    "duration": 315,
    "start_time": "2023-12-05T21:03:36.528Z"
   },
   {
    "duration": 317,
    "start_time": "2023-12-05T21:03:56.153Z"
   },
   {
    "duration": 416,
    "start_time": "2023-12-05T21:04:05.521Z"
   },
   {
    "duration": 309,
    "start_time": "2023-12-05T21:14:51.823Z"
   },
   {
    "duration": 295,
    "start_time": "2023-12-05T21:18:33.206Z"
   },
   {
    "duration": 304,
    "start_time": "2023-12-05T21:26:42.692Z"
   },
   {
    "duration": 104,
    "start_time": "2023-12-05T21:37:08.489Z"
   },
   {
    "duration": 13,
    "start_time": "2023-12-05T22:13:59.527Z"
   },
   {
    "duration": 5,
    "start_time": "2023-12-05T22:17:01.695Z"
   },
   {
    "duration": 14,
    "start_time": "2023-12-05T22:48:08.279Z"
   },
   {
    "duration": 17,
    "start_time": "2023-12-05T22:48:35.712Z"
   },
   {
    "duration": 32,
    "start_time": "2023-12-05T22:56:00.411Z"
   },
   {
    "duration": 117,
    "start_time": "2023-12-05T22:58:20.863Z"
   },
   {
    "duration": 1336,
    "start_time": "2023-12-06T15:33:25.257Z"
   },
   {
    "duration": 86,
    "start_time": "2023-12-06T15:33:26.595Z"
   },
   {
    "duration": 11,
    "start_time": "2023-12-06T15:33:26.683Z"
   },
   {
    "duration": 90,
    "start_time": "2023-12-06T15:33:26.696Z"
   },
   {
    "duration": 12,
    "start_time": "2023-12-06T15:33:26.788Z"
   },
   {
    "duration": 74,
    "start_time": "2023-12-06T15:33:26.802Z"
   },
   {
    "duration": 11,
    "start_time": "2023-12-06T15:33:26.878Z"
   },
   {
    "duration": 23,
    "start_time": "2023-12-06T15:33:26.890Z"
   },
   {
    "duration": 29,
    "start_time": "2023-12-06T15:33:26.915Z"
   },
   {
    "duration": 6,
    "start_time": "2023-12-06T15:33:26.947Z"
   },
   {
    "duration": 34,
    "start_time": "2023-12-06T15:33:26.954Z"
   },
   {
    "duration": 22,
    "start_time": "2023-12-06T15:33:26.990Z"
   },
   {
    "duration": 193,
    "start_time": "2023-12-06T15:33:27.013Z"
   },
   {
    "duration": 6,
    "start_time": "2023-12-06T15:33:27.208Z"
   },
   {
    "duration": 153,
    "start_time": "2023-12-06T15:33:27.215Z"
   },
   {
    "duration": 10,
    "start_time": "2023-12-06T15:33:27.369Z"
   },
   {
    "duration": 264,
    "start_time": "2023-12-06T15:33:27.380Z"
   },
   {
    "duration": 333,
    "start_time": "2023-12-06T15:33:27.646Z"
   },
   {
    "duration": 438,
    "start_time": "2023-12-06T15:33:27.981Z"
   },
   {
    "duration": 242,
    "start_time": "2023-12-06T15:33:28.421Z"
   },
   {
    "duration": 36,
    "start_time": "2023-12-06T15:33:28.664Z"
   },
   {
    "duration": 18,
    "start_time": "2023-12-06T15:33:28.702Z"
   },
   {
    "duration": 36,
    "start_time": "2023-12-06T15:33:28.722Z"
   },
   {
    "duration": 339,
    "start_time": "2023-12-06T15:33:28.760Z"
   },
   {
    "duration": 348,
    "start_time": "2023-12-06T15:33:29.100Z"
   },
   {
    "duration": 335,
    "start_time": "2023-12-06T15:33:29.449Z"
   },
   {
    "duration": 450,
    "start_time": "2023-12-06T15:33:29.785Z"
   },
   {
    "duration": 4,
    "start_time": "2023-12-06T15:33:30.242Z"
   },
   {
    "duration": 57,
    "start_time": "2023-12-06T15:33:30.247Z"
   },
   {
    "duration": 29,
    "start_time": "2023-12-06T15:38:35.380Z"
   },
   {
    "duration": 105,
    "start_time": "2023-12-06T15:39:27.590Z"
   },
   {
    "duration": 94,
    "start_time": "2023-12-06T15:39:56.796Z"
   },
   {
    "duration": 34,
    "start_time": "2023-12-06T15:40:07.716Z"
   },
   {
    "duration": 23,
    "start_time": "2023-12-06T16:38:27.186Z"
   },
   {
    "duration": 33,
    "start_time": "2023-12-06T16:38:43.042Z"
   },
   {
    "duration": 32,
    "start_time": "2023-12-06T16:39:23.627Z"
   },
   {
    "duration": 30,
    "start_time": "2023-12-06T16:39:41.906Z"
   },
   {
    "duration": 33,
    "start_time": "2023-12-06T16:41:00.803Z"
   },
   {
    "duration": 28,
    "start_time": "2023-12-06T16:41:13.235Z"
   },
   {
    "duration": 29,
    "start_time": "2023-12-06T16:41:24.762Z"
   },
   {
    "duration": 1260,
    "start_time": "2023-12-06T16:45:35.740Z"
   },
   {
    "duration": 1249,
    "start_time": "2023-12-06T16:48:46.869Z"
   },
   {
    "duration": 28,
    "start_time": "2023-12-06T16:48:55.662Z"
   },
   {
    "duration": 28,
    "start_time": "2023-12-06T16:49:31.380Z"
   },
   {
    "duration": 29,
    "start_time": "2023-12-06T16:49:42.607Z"
   },
   {
    "duration": 28,
    "start_time": "2023-12-06T16:49:47.880Z"
   },
   {
    "duration": 29,
    "start_time": "2023-12-06T16:50:04.590Z"
   },
   {
    "duration": 71,
    "start_time": "2023-12-06T18:04:56.718Z"
   },
   {
    "duration": 1176,
    "start_time": "2023-12-06T18:05:06.704Z"
   },
   {
    "duration": 20,
    "start_time": "2023-12-06T18:05:16.832Z"
   },
   {
    "duration": 17,
    "start_time": "2023-12-06T18:07:32.433Z"
   },
   {
    "duration": 16,
    "start_time": "2023-12-06T18:07:50.090Z"
   },
   {
    "duration": 80,
    "start_time": "2023-12-06T18:07:59.777Z"
   },
   {
    "duration": 73,
    "start_time": "2023-12-06T18:08:08.730Z"
   },
   {
    "duration": 18,
    "start_time": "2023-12-06T18:08:15.881Z"
   },
   {
    "duration": 32,
    "start_time": "2023-12-06T18:09:15.849Z"
   },
   {
    "duration": 29,
    "start_time": "2023-12-06T18:09:23.514Z"
   },
   {
    "duration": 28,
    "start_time": "2023-12-06T18:09:34.425Z"
   },
   {
    "duration": 30,
    "start_time": "2023-12-06T18:09:41.986Z"
   },
   {
    "duration": 35,
    "start_time": "2023-12-06T18:09:49.626Z"
   },
   {
    "duration": 107,
    "start_time": "2023-12-06T18:10:28.730Z"
   },
   {
    "duration": 17,
    "start_time": "2023-12-06T18:10:39.451Z"
   },
   {
    "duration": 13,
    "start_time": "2023-12-06T18:11:46.619Z"
   },
   {
    "duration": 14,
    "start_time": "2023-12-06T18:12:50.250Z"
   },
   {
    "duration": 13,
    "start_time": "2023-12-06T18:13:15.275Z"
   },
   {
    "duration": 17,
    "start_time": "2023-12-06T18:13:24.571Z"
   },
   {
    "duration": 15,
    "start_time": "2023-12-06T18:13:51.764Z"
   },
   {
    "duration": 14,
    "start_time": "2023-12-06T18:14:18.699Z"
   },
   {
    "duration": 1156,
    "start_time": "2023-12-06T18:16:46.639Z"
   },
   {
    "duration": 37,
    "start_time": "2023-12-06T18:16:47.797Z"
   },
   {
    "duration": 11,
    "start_time": "2023-12-06T18:16:47.836Z"
   },
   {
    "duration": 37,
    "start_time": "2023-12-06T18:16:47.849Z"
   },
   {
    "duration": 11,
    "start_time": "2023-12-06T18:16:47.888Z"
   },
   {
    "duration": 21,
    "start_time": "2023-12-06T18:16:47.901Z"
   },
   {
    "duration": 10,
    "start_time": "2023-12-06T18:16:47.923Z"
   },
   {
    "duration": 13,
    "start_time": "2023-12-06T18:16:47.934Z"
   },
   {
    "duration": 12,
    "start_time": "2023-12-06T18:16:47.948Z"
   },
   {
    "duration": 4,
    "start_time": "2023-12-06T18:16:47.963Z"
   },
   {
    "duration": 19,
    "start_time": "2023-12-06T18:16:47.968Z"
   },
   {
    "duration": 7,
    "start_time": "2023-12-06T18:16:47.989Z"
   },
   {
    "duration": 215,
    "start_time": "2023-12-06T18:16:47.997Z"
   },
   {
    "duration": 6,
    "start_time": "2023-12-06T18:16:48.214Z"
   },
   {
    "duration": 126,
    "start_time": "2023-12-06T18:16:48.221Z"
   },
   {
    "duration": 10,
    "start_time": "2023-12-06T18:16:48.349Z"
   },
   {
    "duration": 264,
    "start_time": "2023-12-06T18:16:48.360Z"
   },
   {
    "duration": 318,
    "start_time": "2023-12-06T18:16:48.626Z"
   },
   {
    "duration": 416,
    "start_time": "2023-12-06T18:16:48.945Z"
   },
   {
    "duration": 239,
    "start_time": "2023-12-06T18:16:49.362Z"
   },
   {
    "duration": 44,
    "start_time": "2023-12-06T18:16:49.602Z"
   },
   {
    "duration": 18,
    "start_time": "2023-12-06T18:16:49.648Z"
   },
   {
    "duration": 17,
    "start_time": "2023-12-06T18:16:49.668Z"
   },
   {
    "duration": 362,
    "start_time": "2023-12-06T18:16:49.686Z"
   },
   {
    "duration": 339,
    "start_time": "2023-12-06T18:16:50.049Z"
   },
   {
    "duration": 331,
    "start_time": "2023-12-06T18:16:50.389Z"
   },
   {
    "duration": 430,
    "start_time": "2023-12-06T18:16:50.722Z"
   },
   {
    "duration": 5,
    "start_time": "2023-12-06T18:16:51.155Z"
   },
   {
    "duration": 38,
    "start_time": "2023-12-06T18:16:51.162Z"
   },
   {
    "duration": 14,
    "start_time": "2023-12-06T18:16:51.202Z"
   },
   {
    "duration": 1120,
    "start_time": "2023-12-06T18:21:18.564Z"
   },
   {
    "duration": 37,
    "start_time": "2023-12-06T18:21:19.686Z"
   },
   {
    "duration": 10,
    "start_time": "2023-12-06T18:21:19.725Z"
   },
   {
    "duration": 43,
    "start_time": "2023-12-06T18:21:19.737Z"
   },
   {
    "duration": 11,
    "start_time": "2023-12-06T18:21:19.782Z"
   },
   {
    "duration": 20,
    "start_time": "2023-12-06T18:21:19.794Z"
   },
   {
    "duration": 9,
    "start_time": "2023-12-06T18:21:19.816Z"
   },
   {
    "duration": 8,
    "start_time": "2023-12-06T18:21:19.827Z"
   },
   {
    "duration": 14,
    "start_time": "2023-12-06T18:21:19.837Z"
   },
   {
    "duration": 5,
    "start_time": "2023-12-06T18:21:19.853Z"
   },
   {
    "duration": 23,
    "start_time": "2023-12-06T18:21:19.859Z"
   },
   {
    "duration": 7,
    "start_time": "2023-12-06T18:21:19.884Z"
   },
   {
    "duration": 185,
    "start_time": "2023-12-06T18:21:19.892Z"
   },
   {
    "duration": 6,
    "start_time": "2023-12-06T18:21:20.078Z"
   },
   {
    "duration": 112,
    "start_time": "2023-12-06T18:21:20.085Z"
   },
   {
    "duration": 9,
    "start_time": "2023-12-06T18:21:20.198Z"
   },
   {
    "duration": 253,
    "start_time": "2023-12-06T18:21:20.209Z"
   },
   {
    "duration": 315,
    "start_time": "2023-12-06T18:21:20.463Z"
   },
   {
    "duration": 408,
    "start_time": "2023-12-06T18:21:20.780Z"
   },
   {
    "duration": 253,
    "start_time": "2023-12-06T18:21:21.189Z"
   },
   {
    "duration": 35,
    "start_time": "2023-12-06T18:21:21.444Z"
   },
   {
    "duration": 16,
    "start_time": "2023-12-06T18:21:21.481Z"
   },
   {
    "duration": 16,
    "start_time": "2023-12-06T18:21:21.499Z"
   },
   {
    "duration": 353,
    "start_time": "2023-12-06T18:21:21.517Z"
   },
   {
    "duration": 338,
    "start_time": "2023-12-06T18:21:21.872Z"
   },
   {
    "duration": 307,
    "start_time": "2023-12-06T18:21:22.212Z"
   },
   {
    "duration": 470,
    "start_time": "2023-12-06T18:21:22.521Z"
   },
   {
    "duration": 1252,
    "start_time": "2023-12-06T18:21:22.994Z"
   },
   {
    "duration": 0,
    "start_time": "2023-12-06T18:21:24.247Z"
   },
   {
    "duration": 0,
    "start_time": "2023-12-06T18:21:24.248Z"
   },
   {
    "duration": 1158,
    "start_time": "2023-12-06T18:22:37.328Z"
   },
   {
    "duration": 38,
    "start_time": "2023-12-06T18:22:38.487Z"
   },
   {
    "duration": 11,
    "start_time": "2023-12-06T18:22:38.527Z"
   },
   {
    "duration": 36,
    "start_time": "2023-12-06T18:22:38.541Z"
   },
   {
    "duration": 12,
    "start_time": "2023-12-06T18:22:38.579Z"
   },
   {
    "duration": 28,
    "start_time": "2023-12-06T18:22:38.593Z"
   },
   {
    "duration": 10,
    "start_time": "2023-12-06T18:22:38.623Z"
   },
   {
    "duration": 10,
    "start_time": "2023-12-06T18:22:38.635Z"
   },
   {
    "duration": 11,
    "start_time": "2023-12-06T18:22:38.647Z"
   },
   {
    "duration": 5,
    "start_time": "2023-12-06T18:22:38.661Z"
   },
   {
    "duration": 20,
    "start_time": "2023-12-06T18:22:38.668Z"
   },
   {
    "duration": 8,
    "start_time": "2023-12-06T18:22:38.690Z"
   },
   {
    "duration": 201,
    "start_time": "2023-12-06T18:22:38.699Z"
   },
   {
    "duration": 6,
    "start_time": "2023-12-06T18:22:38.901Z"
   },
   {
    "duration": 121,
    "start_time": "2023-12-06T18:22:38.909Z"
   },
   {
    "duration": 14,
    "start_time": "2023-12-06T18:22:39.032Z"
   },
   {
    "duration": 246,
    "start_time": "2023-12-06T18:22:39.048Z"
   },
   {
    "duration": 319,
    "start_time": "2023-12-06T18:22:39.296Z"
   },
   {
    "duration": 421,
    "start_time": "2023-12-06T18:22:39.617Z"
   },
   {
    "duration": 244,
    "start_time": "2023-12-06T18:22:40.041Z"
   },
   {
    "duration": 35,
    "start_time": "2023-12-06T18:22:40.287Z"
   },
   {
    "duration": 33,
    "start_time": "2023-12-06T18:22:40.324Z"
   },
   {
    "duration": 15,
    "start_time": "2023-12-06T18:22:40.359Z"
   },
   {
    "duration": 336,
    "start_time": "2023-12-06T18:22:40.376Z"
   },
   {
    "duration": 338,
    "start_time": "2023-12-06T18:22:40.714Z"
   },
   {
    "duration": 369,
    "start_time": "2023-12-06T18:22:41.053Z"
   },
   {
    "duration": 450,
    "start_time": "2023-12-06T18:22:41.424Z"
   },
   {
    "duration": 7,
    "start_time": "2023-12-06T18:22:41.877Z"
   },
   {
    "duration": 49,
    "start_time": "2023-12-06T18:22:41.885Z"
   },
   {
    "duration": 13,
    "start_time": "2023-12-06T18:22:41.936Z"
   },
   {
    "duration": 22,
    "start_time": "2023-12-06T18:24:53.663Z"
   },
   {
    "duration": 22,
    "start_time": "2023-12-06T18:25:33.296Z"
   },
   {
    "duration": 22,
    "start_time": "2023-12-06T18:25:42.424Z"
   },
   {
    "duration": 6,
    "start_time": "2023-12-06T18:27:31.834Z"
   },
   {
    "duration": 29,
    "start_time": "2023-12-06T18:27:45.184Z"
   },
   {
    "duration": 12,
    "start_time": "2023-12-06T18:27:54.090Z"
   },
   {
    "duration": 18,
    "start_time": "2023-12-06T18:27:59.609Z"
   },
   {
    "duration": 13,
    "start_time": "2023-12-06T18:29:23.281Z"
   },
   {
    "duration": 1149,
    "start_time": "2023-12-06T18:29:28.637Z"
   },
   {
    "duration": 38,
    "start_time": "2023-12-06T18:29:29.788Z"
   },
   {
    "duration": 10,
    "start_time": "2023-12-06T18:29:29.827Z"
   },
   {
    "duration": 38,
    "start_time": "2023-12-06T18:29:29.839Z"
   },
   {
    "duration": 10,
    "start_time": "2023-12-06T18:29:29.880Z"
   },
   {
    "duration": 18,
    "start_time": "2023-12-06T18:29:29.892Z"
   },
   {
    "duration": 9,
    "start_time": "2023-12-06T18:29:29.911Z"
   },
   {
    "duration": 14,
    "start_time": "2023-12-06T18:29:29.922Z"
   },
   {
    "duration": 17,
    "start_time": "2023-12-06T18:29:29.938Z"
   },
   {
    "duration": 5,
    "start_time": "2023-12-06T18:29:29.957Z"
   },
   {
    "duration": 18,
    "start_time": "2023-12-06T18:29:29.964Z"
   },
   {
    "duration": 7,
    "start_time": "2023-12-06T18:29:29.984Z"
   },
   {
    "duration": 206,
    "start_time": "2023-12-06T18:29:29.992Z"
   },
   {
    "duration": 6,
    "start_time": "2023-12-06T18:29:30.201Z"
   },
   {
    "duration": 126,
    "start_time": "2023-12-06T18:29:30.208Z"
   },
   {
    "duration": 11,
    "start_time": "2023-12-06T18:29:30.335Z"
   },
   {
    "duration": 266,
    "start_time": "2023-12-06T18:29:30.348Z"
   },
   {
    "duration": 332,
    "start_time": "2023-12-06T18:29:30.615Z"
   },
   {
    "duration": 458,
    "start_time": "2023-12-06T18:29:30.949Z"
   },
   {
    "duration": 242,
    "start_time": "2023-12-06T18:29:31.409Z"
   },
   {
    "duration": 35,
    "start_time": "2023-12-06T18:29:31.653Z"
   },
   {
    "duration": 37,
    "start_time": "2023-12-06T18:29:31.690Z"
   },
   {
    "duration": 40,
    "start_time": "2023-12-06T18:29:31.728Z"
   },
   {
    "duration": 356,
    "start_time": "2023-12-06T18:29:31.771Z"
   },
   {
    "duration": 341,
    "start_time": "2023-12-06T18:29:32.129Z"
   },
   {
    "duration": 325,
    "start_time": "2023-12-06T18:29:32.472Z"
   },
   {
    "duration": 429,
    "start_time": "2023-12-06T18:29:32.799Z"
   },
   {
    "duration": 16,
    "start_time": "2023-12-06T18:29:33.230Z"
   },
   {
    "duration": 120,
    "start_time": "2023-12-06T18:29:33.247Z"
   },
   {
    "duration": 14,
    "start_time": "2023-12-06T18:29:33.368Z"
   },
   {
    "duration": 137,
    "start_time": "2023-12-06T19:01:24.390Z"
   },
   {
    "duration": 3,
    "start_time": "2023-12-06T19:02:16.908Z"
   },
   {
    "duration": 1127,
    "start_time": "2023-12-06T19:02:21.961Z"
   },
   {
    "duration": 36,
    "start_time": "2023-12-06T19:02:23.090Z"
   },
   {
    "duration": 9,
    "start_time": "2023-12-06T19:02:23.128Z"
   },
   {
    "duration": 55,
    "start_time": "2023-12-06T19:02:23.139Z"
   },
   {
    "duration": 11,
    "start_time": "2023-12-06T19:02:23.196Z"
   },
   {
    "duration": 74,
    "start_time": "2023-12-06T19:02:23.208Z"
   },
   {
    "duration": 50,
    "start_time": "2023-12-06T19:02:23.283Z"
   },
   {
    "duration": 31,
    "start_time": "2023-12-06T19:02:23.334Z"
   },
   {
    "duration": 33,
    "start_time": "2023-12-06T19:02:23.366Z"
   },
   {
    "duration": 18,
    "start_time": "2023-12-06T19:02:23.400Z"
   },
   {
    "duration": 48,
    "start_time": "2023-12-06T19:02:23.419Z"
   },
   {
    "duration": 31,
    "start_time": "2023-12-06T19:02:23.469Z"
   },
   {
    "duration": 168,
    "start_time": "2023-12-06T19:02:23.501Z"
   },
   {
    "duration": 7,
    "start_time": "2023-12-06T19:02:23.672Z"
   },
   {
    "duration": 138,
    "start_time": "2023-12-06T19:02:23.680Z"
   },
   {
    "duration": 10,
    "start_time": "2023-12-06T19:02:23.819Z"
   },
   {
    "duration": 255,
    "start_time": "2023-12-06T19:02:23.830Z"
   },
   {
    "duration": 338,
    "start_time": "2023-12-06T19:02:24.087Z"
   },
   {
    "duration": 423,
    "start_time": "2023-12-06T19:02:24.427Z"
   },
   {
    "duration": 35,
    "start_time": "2023-12-06T19:02:24.852Z"
   },
   {
    "duration": 24,
    "start_time": "2023-12-06T19:02:24.889Z"
   },
   {
    "duration": 45,
    "start_time": "2023-12-06T19:02:24.915Z"
   },
   {
    "duration": 335,
    "start_time": "2023-12-06T19:02:24.961Z"
   },
   {
    "duration": 347,
    "start_time": "2023-12-06T19:02:25.297Z"
   },
   {
    "duration": 350,
    "start_time": "2023-12-06T19:02:25.645Z"
   },
   {
    "duration": 433,
    "start_time": "2023-12-06T19:02:25.997Z"
   },
   {
    "duration": 11,
    "start_time": "2023-12-06T19:02:26.431Z"
   },
   {
    "duration": 29,
    "start_time": "2023-12-06T19:02:26.443Z"
   },
   {
    "duration": 13,
    "start_time": "2023-12-06T19:02:26.473Z"
   },
   {
    "duration": 7,
    "start_time": "2023-12-06T19:02:26.488Z"
   },
   {
    "duration": 6,
    "start_time": "2023-12-06T19:38:51.984Z"
   },
   {
    "duration": 402,
    "start_time": "2023-12-06T19:51:57.939Z"
   },
   {
    "duration": 1209,
    "start_time": "2023-12-06T19:52:41.235Z"
   },
   {
    "duration": 38,
    "start_time": "2023-12-06T19:52:42.446Z"
   },
   {
    "duration": 10,
    "start_time": "2023-12-06T19:52:42.486Z"
   },
   {
    "duration": 66,
    "start_time": "2023-12-06T19:52:42.498Z"
   },
   {
    "duration": 10,
    "start_time": "2023-12-06T19:52:42.566Z"
   },
   {
    "duration": 30,
    "start_time": "2023-12-06T19:52:42.577Z"
   },
   {
    "duration": 9,
    "start_time": "2023-12-06T19:52:42.609Z"
   },
   {
    "duration": 30,
    "start_time": "2023-12-06T19:52:42.619Z"
   },
   {
    "duration": 24,
    "start_time": "2023-12-06T19:52:42.651Z"
   },
   {
    "duration": 17,
    "start_time": "2023-12-06T19:52:42.678Z"
   },
   {
    "duration": 35,
    "start_time": "2023-12-06T19:52:42.696Z"
   },
   {
    "duration": 14,
    "start_time": "2023-12-06T19:52:42.733Z"
   },
   {
    "duration": 246,
    "start_time": "2023-12-06T19:52:42.748Z"
   },
   {
    "duration": 5,
    "start_time": "2023-12-06T19:52:42.996Z"
   },
   {
    "duration": 135,
    "start_time": "2023-12-06T19:52:43.003Z"
   },
   {
    "duration": 9,
    "start_time": "2023-12-06T19:52:43.139Z"
   },
   {
    "duration": 241,
    "start_time": "2023-12-06T19:52:43.149Z"
   },
   {
    "duration": 315,
    "start_time": "2023-12-06T19:52:43.391Z"
   },
   {
    "duration": 414,
    "start_time": "2023-12-06T19:52:43.707Z"
   },
   {
    "duration": 41,
    "start_time": "2023-12-06T19:52:44.122Z"
   },
   {
    "duration": 17,
    "start_time": "2023-12-06T19:52:44.165Z"
   },
   {
    "duration": 25,
    "start_time": "2023-12-06T19:52:44.183Z"
   },
   {
    "duration": 346,
    "start_time": "2023-12-06T19:52:44.209Z"
   },
   {
    "duration": 336,
    "start_time": "2023-12-06T19:52:44.557Z"
   },
   {
    "duration": 335,
    "start_time": "2023-12-06T19:52:44.895Z"
   },
   {
    "duration": 435,
    "start_time": "2023-12-06T19:52:45.231Z"
   },
   {
    "duration": 7,
    "start_time": "2023-12-06T19:52:45.668Z"
   },
   {
    "duration": 56,
    "start_time": "2023-12-06T19:52:45.679Z"
   },
   {
    "duration": 27,
    "start_time": "2023-12-06T19:52:45.737Z"
   },
   {
    "duration": 14,
    "start_time": "2023-12-06T19:52:45.765Z"
   },
   {
    "duration": 43,
    "start_time": "2023-12-06T19:52:45.780Z"
   },
   {
    "duration": 38,
    "start_time": "2023-12-06T19:52:45.825Z"
   },
   {
    "duration": 94,
    "start_time": "2023-12-06T19:55:48.920Z"
   },
   {
    "duration": 16,
    "start_time": "2023-12-06T19:56:29.490Z"
   },
   {
    "duration": 17,
    "start_time": "2023-12-06T19:56:37.514Z"
   },
   {
    "duration": 8,
    "start_time": "2023-12-06T19:57:40.306Z"
   },
   {
    "duration": 7,
    "start_time": "2023-12-06T19:58:03.290Z"
   },
   {
    "duration": 6,
    "start_time": "2023-12-06T19:59:25.267Z"
   },
   {
    "duration": 5,
    "start_time": "2023-12-06T19:59:44.219Z"
   },
   {
    "duration": 5,
    "start_time": "2023-12-06T19:59:48.619Z"
   },
   {
    "duration": 18,
    "start_time": "2023-12-06T20:03:15.926Z"
   },
   {
    "duration": 12,
    "start_time": "2023-12-06T20:03:51.887Z"
   },
   {
    "duration": 8,
    "start_time": "2023-12-06T20:04:48.832Z"
   },
   {
    "duration": 8,
    "start_time": "2023-12-06T20:05:23.464Z"
   },
   {
    "duration": 6,
    "start_time": "2023-12-06T21:31:22.344Z"
   },
   {
    "duration": 1156,
    "start_time": "2023-12-06T21:33:20.339Z"
   },
   {
    "duration": 38,
    "start_time": "2023-12-06T21:33:21.497Z"
   },
   {
    "duration": 11,
    "start_time": "2023-12-06T21:33:21.536Z"
   },
   {
    "duration": 40,
    "start_time": "2023-12-06T21:33:21.548Z"
   },
   {
    "duration": 11,
    "start_time": "2023-12-06T21:33:21.590Z"
   },
   {
    "duration": 19,
    "start_time": "2023-12-06T21:33:21.603Z"
   },
   {
    "duration": 10,
    "start_time": "2023-12-06T21:33:21.623Z"
   },
   {
    "duration": 13,
    "start_time": "2023-12-06T21:33:21.634Z"
   },
   {
    "duration": 10,
    "start_time": "2023-12-06T21:33:21.648Z"
   },
   {
    "duration": 4,
    "start_time": "2023-12-06T21:33:21.660Z"
   },
   {
    "duration": 17,
    "start_time": "2023-12-06T21:33:21.665Z"
   },
   {
    "duration": 7,
    "start_time": "2023-12-06T21:33:21.684Z"
   },
   {
    "duration": 207,
    "start_time": "2023-12-06T21:33:21.693Z"
   },
   {
    "duration": 6,
    "start_time": "2023-12-06T21:33:21.903Z"
   },
   {
    "duration": 125,
    "start_time": "2023-12-06T21:33:21.911Z"
   },
   {
    "duration": 11,
    "start_time": "2023-12-06T21:33:22.042Z"
   },
   {
    "duration": 257,
    "start_time": "2023-12-06T21:33:22.054Z"
   },
   {
    "duration": 317,
    "start_time": "2023-12-06T21:33:22.312Z"
   },
   {
    "duration": 416,
    "start_time": "2023-12-06T21:33:22.630Z"
   },
   {
    "duration": 35,
    "start_time": "2023-12-06T21:33:23.047Z"
   },
   {
    "duration": 17,
    "start_time": "2023-12-06T21:33:23.084Z"
   },
   {
    "duration": 41,
    "start_time": "2023-12-06T21:33:23.102Z"
   },
   {
    "duration": 334,
    "start_time": "2023-12-06T21:33:23.145Z"
   },
   {
    "duration": 339,
    "start_time": "2023-12-06T21:33:23.480Z"
   },
   {
    "duration": 326,
    "start_time": "2023-12-06T21:33:23.820Z"
   },
   {
    "duration": 444,
    "start_time": "2023-12-06T21:33:24.148Z"
   },
   {
    "duration": 7,
    "start_time": "2023-12-06T21:33:24.594Z"
   },
   {
    "duration": 41,
    "start_time": "2023-12-06T21:33:24.602Z"
   },
   {
    "duration": 13,
    "start_time": "2023-12-06T21:33:24.646Z"
   },
   {
    "duration": 12,
    "start_time": "2023-12-06T21:33:24.661Z"
   },
   {
    "duration": 6,
    "start_time": "2023-12-06T21:33:24.675Z"
   },
   {
    "duration": 8,
    "start_time": "2023-12-06T21:33:24.683Z"
   },
   {
    "duration": 6,
    "start_time": "2023-12-06T21:38:22.598Z"
   },
   {
    "duration": 5,
    "start_time": "2023-12-06T21:41:30.799Z"
   },
   {
    "duration": 6,
    "start_time": "2023-12-06T21:42:03.446Z"
   },
   {
    "duration": 5,
    "start_time": "2023-12-06T21:43:24.575Z"
   },
   {
    "duration": 5,
    "start_time": "2023-12-06T21:43:40.026Z"
   },
   {
    "duration": 6,
    "start_time": "2023-12-06T21:46:32.499Z"
   },
   {
    "duration": 1161,
    "start_time": "2023-12-06T21:48:00.951Z"
   },
   {
    "duration": 39,
    "start_time": "2023-12-06T21:48:02.114Z"
   },
   {
    "duration": 14,
    "start_time": "2023-12-06T21:48:02.154Z"
   },
   {
    "duration": 52,
    "start_time": "2023-12-06T21:48:02.169Z"
   },
   {
    "duration": 12,
    "start_time": "2023-12-06T21:48:02.223Z"
   },
   {
    "duration": 38,
    "start_time": "2023-12-06T21:48:02.237Z"
   },
   {
    "duration": 10,
    "start_time": "2023-12-06T21:48:02.277Z"
   },
   {
    "duration": 15,
    "start_time": "2023-12-06T21:48:02.289Z"
   },
   {
    "duration": 11,
    "start_time": "2023-12-06T21:48:02.305Z"
   },
   {
    "duration": 5,
    "start_time": "2023-12-06T21:48:02.318Z"
   },
   {
    "duration": 20,
    "start_time": "2023-12-06T21:48:02.324Z"
   },
   {
    "duration": 7,
    "start_time": "2023-12-06T21:48:02.346Z"
   },
   {
    "duration": 193,
    "start_time": "2023-12-06T21:48:02.355Z"
   },
   {
    "duration": 6,
    "start_time": "2023-12-06T21:48:02.550Z"
   },
   {
    "duration": 134,
    "start_time": "2023-12-06T21:48:02.558Z"
   },
   {
    "duration": 9,
    "start_time": "2023-12-06T21:48:02.694Z"
   },
   {
    "duration": 285,
    "start_time": "2023-12-06T21:48:02.705Z"
   },
   {
    "duration": 322,
    "start_time": "2023-12-06T21:48:02.993Z"
   },
   {
    "duration": 411,
    "start_time": "2023-12-06T21:48:03.316Z"
   },
   {
    "duration": 48,
    "start_time": "2023-12-06T21:48:03.729Z"
   },
   {
    "duration": 19,
    "start_time": "2023-12-06T21:48:03.779Z"
   },
   {
    "duration": 25,
    "start_time": "2023-12-06T21:48:03.800Z"
   },
   {
    "duration": 342,
    "start_time": "2023-12-06T21:48:03.843Z"
   },
   {
    "duration": 339,
    "start_time": "2023-12-06T21:48:04.187Z"
   },
   {
    "duration": 338,
    "start_time": "2023-12-06T21:48:04.527Z"
   },
   {
    "duration": 441,
    "start_time": "2023-12-06T21:48:04.867Z"
   },
   {
    "duration": 7,
    "start_time": "2023-12-06T21:48:05.310Z"
   },
   {
    "duration": 42,
    "start_time": "2023-12-06T21:48:05.319Z"
   },
   {
    "duration": 13,
    "start_time": "2023-12-06T21:48:05.362Z"
   },
   {
    "duration": 6,
    "start_time": "2023-12-06T21:48:05.377Z"
   },
   {
    "duration": 5,
    "start_time": "2023-12-06T21:48:05.384Z"
   },
   {
    "duration": 8,
    "start_time": "2023-12-06T21:48:05.391Z"
   },
   {
    "duration": 41,
    "start_time": "2023-12-06T21:48:05.401Z"
   },
   {
    "duration": 6,
    "start_time": "2023-12-06T21:48:05.444Z"
   },
   {
    "duration": 1167,
    "start_time": "2023-12-06T22:11:43.336Z"
   },
   {
    "duration": 37,
    "start_time": "2023-12-06T22:11:44.504Z"
   },
   {
    "duration": 10,
    "start_time": "2023-12-06T22:11:44.542Z"
   },
   {
    "duration": 39,
    "start_time": "2023-12-06T22:11:44.555Z"
   },
   {
    "duration": 11,
    "start_time": "2023-12-06T22:11:44.596Z"
   },
   {
    "duration": 18,
    "start_time": "2023-12-06T22:11:44.609Z"
   },
   {
    "duration": 15,
    "start_time": "2023-12-06T22:11:44.629Z"
   },
   {
    "duration": 10,
    "start_time": "2023-12-06T22:11:44.646Z"
   },
   {
    "duration": 10,
    "start_time": "2023-12-06T22:11:44.658Z"
   },
   {
    "duration": 5,
    "start_time": "2023-12-06T22:11:44.670Z"
   },
   {
    "duration": 15,
    "start_time": "2023-12-06T22:11:44.676Z"
   },
   {
    "duration": 6,
    "start_time": "2023-12-06T22:11:44.693Z"
   },
   {
    "duration": 231,
    "start_time": "2023-12-06T22:11:44.701Z"
   },
   {
    "duration": 12,
    "start_time": "2023-12-06T22:11:44.933Z"
   },
   {
    "duration": 117,
    "start_time": "2023-12-06T22:11:44.946Z"
   },
   {
    "duration": 11,
    "start_time": "2023-12-06T22:11:45.064Z"
   },
   {
    "duration": 262,
    "start_time": "2023-12-06T22:11:45.076Z"
   },
   {
    "duration": 335,
    "start_time": "2023-12-06T22:11:45.342Z"
   },
   {
    "duration": 453,
    "start_time": "2023-12-06T22:11:45.679Z"
   },
   {
    "duration": 35,
    "start_time": "2023-12-06T22:11:46.134Z"
   },
   {
    "duration": 17,
    "start_time": "2023-12-06T22:11:46.170Z"
   },
   {
    "duration": 16,
    "start_time": "2023-12-06T22:11:46.188Z"
   },
   {
    "duration": 346,
    "start_time": "2023-12-06T22:11:46.205Z"
   },
   {
    "duration": 327,
    "start_time": "2023-12-06T22:11:46.553Z"
   },
   {
    "duration": 337,
    "start_time": "2023-12-06T22:11:46.882Z"
   },
   {
    "duration": 414,
    "start_time": "2023-12-06T22:11:47.221Z"
   },
   {
    "duration": 11,
    "start_time": "2023-12-06T22:11:47.637Z"
   },
   {
    "duration": 34,
    "start_time": "2023-12-06T22:11:47.651Z"
   },
   {
    "duration": 14,
    "start_time": "2023-12-06T22:11:47.687Z"
   },
   {
    "duration": 6,
    "start_time": "2023-12-06T22:11:47.702Z"
   },
   {
    "duration": 34,
    "start_time": "2023-12-06T22:11:47.710Z"
   },
   {
    "duration": 10,
    "start_time": "2023-12-06T22:11:47.746Z"
   },
   {
    "duration": 6,
    "start_time": "2023-12-06T22:11:47.758Z"
   },
   {
    "duration": 7,
    "start_time": "2023-12-06T22:11:47.766Z"
   },
   {
    "duration": 1189,
    "start_time": "2023-12-07T09:37:27.874Z"
   },
   {
    "duration": 43,
    "start_time": "2023-12-07T09:37:29.064Z"
   },
   {
    "duration": 12,
    "start_time": "2023-12-07T09:37:29.110Z"
   },
   {
    "duration": 39,
    "start_time": "2023-12-07T09:37:29.124Z"
   },
   {
    "duration": 11,
    "start_time": "2023-12-07T09:37:29.165Z"
   },
   {
    "duration": 20,
    "start_time": "2023-12-07T09:37:29.177Z"
   },
   {
    "duration": 14,
    "start_time": "2023-12-07T09:37:29.199Z"
   },
   {
    "duration": 16,
    "start_time": "2023-12-07T09:37:29.215Z"
   },
   {
    "duration": 22,
    "start_time": "2023-12-07T09:37:29.232Z"
   },
   {
    "duration": 8,
    "start_time": "2023-12-07T09:37:29.256Z"
   },
   {
    "duration": 26,
    "start_time": "2023-12-07T09:37:29.265Z"
   },
   {
    "duration": 13,
    "start_time": "2023-12-07T09:37:29.292Z"
   },
   {
    "duration": 183,
    "start_time": "2023-12-07T09:37:29.307Z"
   },
   {
    "duration": 15,
    "start_time": "2023-12-07T09:37:29.492Z"
   },
   {
    "duration": 130,
    "start_time": "2023-12-07T09:37:29.510Z"
   },
   {
    "duration": 10,
    "start_time": "2023-12-07T09:37:29.642Z"
   },
   {
    "duration": 273,
    "start_time": "2023-12-07T09:37:29.653Z"
   },
   {
    "duration": 349,
    "start_time": "2023-12-07T09:37:29.928Z"
   },
   {
    "duration": 454,
    "start_time": "2023-12-07T09:37:30.278Z"
   },
   {
    "duration": 37,
    "start_time": "2023-12-07T09:37:30.734Z"
   },
   {
    "duration": 44,
    "start_time": "2023-12-07T09:37:30.773Z"
   },
   {
    "duration": 39,
    "start_time": "2023-12-07T09:37:30.818Z"
   },
   {
    "duration": 385,
    "start_time": "2023-12-07T09:37:30.859Z"
   },
   {
    "duration": 342,
    "start_time": "2023-12-07T09:37:31.245Z"
   },
   {
    "duration": 354,
    "start_time": "2023-12-07T09:37:31.589Z"
   },
   {
    "duration": 439,
    "start_time": "2023-12-07T09:37:31.944Z"
   },
   {
    "duration": 7,
    "start_time": "2023-12-07T09:37:32.385Z"
   },
   {
    "duration": 31,
    "start_time": "2023-12-07T09:37:32.409Z"
   },
   {
    "duration": 14,
    "start_time": "2023-12-07T09:37:32.441Z"
   },
   {
    "duration": 16,
    "start_time": "2023-12-07T09:37:32.457Z"
   },
   {
    "duration": 1399,
    "start_time": "2023-12-07T12:16:35.291Z"
   },
   {
    "duration": 97,
    "start_time": "2023-12-07T12:16:36.692Z"
   },
   {
    "duration": 12,
    "start_time": "2023-12-07T12:16:36.791Z"
   },
   {
    "duration": 173,
    "start_time": "2023-12-07T12:16:36.805Z"
   },
   {
    "duration": 11,
    "start_time": "2023-12-07T12:16:36.980Z"
   },
   {
    "duration": 60,
    "start_time": "2023-12-07T12:16:36.992Z"
   },
   {
    "duration": 10,
    "start_time": "2023-12-07T12:16:37.054Z"
   },
   {
    "duration": 25,
    "start_time": "2023-12-07T12:16:37.065Z"
   },
   {
    "duration": 14,
    "start_time": "2023-12-07T12:16:37.091Z"
   },
   {
    "duration": 6,
    "start_time": "2023-12-07T12:16:37.107Z"
   },
   {
    "duration": 17,
    "start_time": "2023-12-07T12:16:37.116Z"
   },
   {
    "duration": 7,
    "start_time": "2023-12-07T12:16:37.134Z"
   },
   {
    "duration": 220,
    "start_time": "2023-12-07T12:16:37.142Z"
   },
   {
    "duration": 6,
    "start_time": "2023-12-07T12:16:37.364Z"
   },
   {
    "duration": 128,
    "start_time": "2023-12-07T12:16:37.371Z"
   },
   {
    "duration": 18,
    "start_time": "2023-12-07T12:16:37.501Z"
   },
   {
    "duration": 278,
    "start_time": "2023-12-07T12:16:37.521Z"
   },
   {
    "duration": 336,
    "start_time": "2023-12-07T12:16:37.801Z"
   },
   {
    "duration": 426,
    "start_time": "2023-12-07T12:16:38.139Z"
   },
   {
    "duration": 50,
    "start_time": "2023-12-07T12:16:38.567Z"
   },
   {
    "duration": 19,
    "start_time": "2023-12-07T12:16:38.619Z"
   },
   {
    "duration": 17,
    "start_time": "2023-12-07T12:16:38.640Z"
   },
   {
    "duration": 379,
    "start_time": "2023-12-07T12:16:38.659Z"
   },
   {
    "duration": 337,
    "start_time": "2023-12-07T12:16:39.039Z"
   },
   {
    "duration": 330,
    "start_time": "2023-12-07T12:16:39.378Z"
   },
   {
    "duration": 449,
    "start_time": "2023-12-07T12:16:39.711Z"
   },
   {
    "duration": 8,
    "start_time": "2023-12-07T12:16:40.162Z"
   },
   {
    "duration": 53,
    "start_time": "2023-12-07T12:16:40.172Z"
   },
   {
    "duration": 12,
    "start_time": "2023-12-07T12:16:40.227Z"
   },
   {
    "duration": 6,
    "start_time": "2023-12-07T12:16:40.241Z"
   },
   {
    "duration": 5,
    "start_time": "2023-12-07T12:16:40.248Z"
   },
   {
    "duration": 7,
    "start_time": "2023-12-07T12:16:40.254Z"
   },
   {
    "duration": 5,
    "start_time": "2023-12-07T12:16:40.263Z"
   },
   {
    "duration": 32,
    "start_time": "2023-12-07T12:16:40.269Z"
   },
   {
    "duration": 160,
    "start_time": "2023-12-07T14:20:04.065Z"
   },
   {
    "duration": 147,
    "start_time": "2023-12-07T14:20:21.064Z"
   },
   {
    "duration": 143,
    "start_time": "2023-12-07T14:20:33.728Z"
   },
   {
    "duration": 147,
    "start_time": "2023-12-07T14:20:40.313Z"
   },
   {
    "duration": 240,
    "start_time": "2023-12-07T14:21:44.826Z"
   },
   {
    "duration": 147,
    "start_time": "2023-12-07T14:22:16.876Z"
   },
   {
    "duration": 1181,
    "start_time": "2023-12-07T14:22:29.586Z"
   },
   {
    "duration": 40,
    "start_time": "2023-12-07T14:22:30.769Z"
   },
   {
    "duration": 13,
    "start_time": "2023-12-07T14:22:30.811Z"
   },
   {
    "duration": 79,
    "start_time": "2023-12-07T14:22:30.826Z"
   },
   {
    "duration": 99,
    "start_time": "2023-12-07T14:22:30.907Z"
   },
   {
    "duration": 128,
    "start_time": "2023-12-07T14:22:31.008Z"
   },
   {
    "duration": 20,
    "start_time": "2023-12-07T14:22:31.137Z"
   },
   {
    "duration": 87,
    "start_time": "2023-12-07T14:22:31.159Z"
   },
   {
    "duration": 91,
    "start_time": "2023-12-07T14:22:31.247Z"
   },
   {
    "duration": 99,
    "start_time": "2023-12-07T14:22:31.341Z"
   },
   {
    "duration": 36,
    "start_time": "2023-12-07T14:22:31.441Z"
   },
   {
    "duration": 46,
    "start_time": "2023-12-07T14:22:31.479Z"
   },
   {
    "duration": 291,
    "start_time": "2023-12-07T14:22:31.526Z"
   },
   {
    "duration": 0,
    "start_time": "2023-12-07T14:22:31.819Z"
   },
   {
    "duration": 0,
    "start_time": "2023-12-07T14:22:31.820Z"
   },
   {
    "duration": 0,
    "start_time": "2023-12-07T14:22:31.822Z"
   },
   {
    "duration": 0,
    "start_time": "2023-12-07T14:22:31.822Z"
   },
   {
    "duration": 0,
    "start_time": "2023-12-07T14:22:31.824Z"
   },
   {
    "duration": 0,
    "start_time": "2023-12-07T14:22:31.825Z"
   },
   {
    "duration": 0,
    "start_time": "2023-12-07T14:22:31.825Z"
   },
   {
    "duration": 0,
    "start_time": "2023-12-07T14:22:31.826Z"
   },
   {
    "duration": 0,
    "start_time": "2023-12-07T14:22:31.827Z"
   },
   {
    "duration": 0,
    "start_time": "2023-12-07T14:22:31.828Z"
   },
   {
    "duration": 0,
    "start_time": "2023-12-07T14:22:31.829Z"
   },
   {
    "duration": 0,
    "start_time": "2023-12-07T14:22:31.830Z"
   },
   {
    "duration": 0,
    "start_time": "2023-12-07T14:22:31.831Z"
   },
   {
    "duration": 0,
    "start_time": "2023-12-07T14:22:31.832Z"
   },
   {
    "duration": 0,
    "start_time": "2023-12-07T14:22:31.832Z"
   },
   {
    "duration": 0,
    "start_time": "2023-12-07T14:22:31.833Z"
   },
   {
    "duration": 0,
    "start_time": "2023-12-07T14:22:31.834Z"
   },
   {
    "duration": 0,
    "start_time": "2023-12-07T14:22:31.835Z"
   },
   {
    "duration": 0,
    "start_time": "2023-12-07T14:22:31.836Z"
   },
   {
    "duration": 0,
    "start_time": "2023-12-07T14:22:31.837Z"
   },
   {
    "duration": 0,
    "start_time": "2023-12-07T14:22:31.838Z"
   },
   {
    "duration": 1117,
    "start_time": "2023-12-07T14:22:56.209Z"
   },
   {
    "duration": 38,
    "start_time": "2023-12-07T14:22:57.328Z"
   },
   {
    "duration": 11,
    "start_time": "2023-12-07T14:22:57.368Z"
   },
   {
    "duration": 38,
    "start_time": "2023-12-07T14:22:57.382Z"
   },
   {
    "duration": 12,
    "start_time": "2023-12-07T14:22:57.421Z"
   },
   {
    "duration": 20,
    "start_time": "2023-12-07T14:22:57.435Z"
   },
   {
    "duration": 9,
    "start_time": "2023-12-07T14:22:57.457Z"
   },
   {
    "duration": 17,
    "start_time": "2023-12-07T14:22:57.468Z"
   },
   {
    "duration": 22,
    "start_time": "2023-12-07T14:22:57.487Z"
   },
   {
    "duration": 5,
    "start_time": "2023-12-07T14:22:57.512Z"
   },
   {
    "duration": 17,
    "start_time": "2023-12-07T14:22:57.518Z"
   },
   {
    "duration": 7,
    "start_time": "2023-12-07T14:22:57.536Z"
   },
   {
    "duration": 216,
    "start_time": "2023-12-07T14:22:57.545Z"
   },
   {
    "duration": 5,
    "start_time": "2023-12-07T14:22:57.762Z"
   },
   {
    "duration": 109,
    "start_time": "2023-12-07T14:22:57.769Z"
   },
   {
    "duration": 9,
    "start_time": "2023-12-07T14:22:57.880Z"
   },
   {
    "duration": 233,
    "start_time": "2023-12-07T14:22:57.899Z"
   },
   {
    "duration": 302,
    "start_time": "2023-12-07T14:22:58.134Z"
   },
   {
    "duration": 395,
    "start_time": "2023-12-07T14:22:58.438Z"
   },
   {
    "duration": 33,
    "start_time": "2023-12-07T14:22:58.834Z"
   },
   {
    "duration": 32,
    "start_time": "2023-12-07T14:22:58.869Z"
   },
   {
    "duration": 17,
    "start_time": "2023-12-07T14:22:58.902Z"
   },
   {
    "duration": 324,
    "start_time": "2023-12-07T14:22:58.920Z"
   },
   {
    "duration": 310,
    "start_time": "2023-12-07T14:22:59.246Z"
   },
   {
    "duration": 320,
    "start_time": "2023-12-07T14:22:59.557Z"
   },
   {
    "duration": 423,
    "start_time": "2023-12-07T14:22:59.878Z"
   },
   {
    "duration": 7,
    "start_time": "2023-12-07T14:23:00.303Z"
   },
   {
    "duration": 61,
    "start_time": "2023-12-07T14:23:00.313Z"
   },
   {
    "duration": 37,
    "start_time": "2023-12-07T14:23:00.375Z"
   },
   {
    "duration": 50,
    "start_time": "2023-12-07T14:23:00.414Z"
   },
   {
    "duration": 50,
    "start_time": "2023-12-07T14:23:00.465Z"
   },
   {
    "duration": 29,
    "start_time": "2023-12-07T14:23:00.517Z"
   },
   {
    "duration": 62,
    "start_time": "2023-12-07T14:23:00.548Z"
   },
   {
    "duration": 42,
    "start_time": "2023-12-07T14:23:00.612Z"
   },
   {
    "duration": 193,
    "start_time": "2023-12-07T14:24:05.329Z"
   },
   {
    "duration": 153,
    "start_time": "2023-12-07T14:24:38.088Z"
   },
   {
    "duration": 128,
    "start_time": "2023-12-07T14:25:08.705Z"
   },
   {
    "duration": 255,
    "start_time": "2023-12-07T14:25:40.554Z"
   },
   {
    "duration": 359,
    "start_time": "2023-12-07T14:26:20.693Z"
   },
   {
    "duration": 342,
    "start_time": "2023-12-07T14:26:56.533Z"
   },
   {
    "duration": 448,
    "start_time": "2023-12-07T14:28:37.501Z"
   },
   {
    "duration": 336,
    "start_time": "2023-12-07T14:29:13.752Z"
   },
   {
    "duration": 382,
    "start_time": "2023-12-07T14:29:45.292Z"
   },
   {
    "duration": 333,
    "start_time": "2023-12-07T14:30:21.027Z"
   },
   {
    "duration": 468,
    "start_time": "2023-12-07T14:30:33.347Z"
   },
   {
    "duration": 1127,
    "start_time": "2023-12-07T14:31:33.845Z"
   },
   {
    "duration": 45,
    "start_time": "2023-12-07T14:31:34.974Z"
   },
   {
    "duration": 11,
    "start_time": "2023-12-07T14:31:35.020Z"
   },
   {
    "duration": 57,
    "start_time": "2023-12-07T14:31:35.033Z"
   },
   {
    "duration": 10,
    "start_time": "2023-12-07T14:31:35.092Z"
   },
   {
    "duration": 34,
    "start_time": "2023-12-07T14:31:35.103Z"
   },
   {
    "duration": 12,
    "start_time": "2023-12-07T14:31:35.139Z"
   },
   {
    "duration": 33,
    "start_time": "2023-12-07T14:31:35.152Z"
   },
   {
    "duration": 38,
    "start_time": "2023-12-07T14:31:35.187Z"
   },
   {
    "duration": 19,
    "start_time": "2023-12-07T14:31:35.227Z"
   },
   {
    "duration": 22,
    "start_time": "2023-12-07T14:31:35.247Z"
   },
   {
    "duration": 6,
    "start_time": "2023-12-07T14:31:35.271Z"
   },
   {
    "duration": 228,
    "start_time": "2023-12-07T14:31:35.279Z"
   },
   {
    "duration": 8,
    "start_time": "2023-12-07T14:31:35.510Z"
   },
   {
    "duration": 145,
    "start_time": "2023-12-07T14:31:35.521Z"
   },
   {
    "duration": 11,
    "start_time": "2023-12-07T14:31:35.667Z"
   },
   {
    "duration": 302,
    "start_time": "2023-12-07T14:31:35.680Z"
   },
   {
    "duration": 352,
    "start_time": "2023-12-07T14:31:35.984Z"
   },
   {
    "duration": 443,
    "start_time": "2023-12-07T14:31:36.337Z"
   },
   {
    "duration": 52,
    "start_time": "2023-12-07T14:31:36.782Z"
   },
   {
    "duration": 16,
    "start_time": "2023-12-07T14:31:36.836Z"
   },
   {
    "duration": 26,
    "start_time": "2023-12-07T14:31:36.854Z"
   },
   {
    "duration": 350,
    "start_time": "2023-12-07T14:31:36.881Z"
   },
   {
    "duration": 368,
    "start_time": "2023-12-07T14:31:37.233Z"
   },
   {
    "duration": 365,
    "start_time": "2023-12-07T14:31:37.602Z"
   },
   {
    "duration": 463,
    "start_time": "2023-12-07T14:31:37.969Z"
   },
   {
    "duration": 8,
    "start_time": "2023-12-07T14:31:38.433Z"
   },
   {
    "duration": 51,
    "start_time": "2023-12-07T14:31:38.444Z"
   },
   {
    "duration": 19,
    "start_time": "2023-12-07T14:31:38.497Z"
   },
   {
    "duration": 6,
    "start_time": "2023-12-07T14:31:38.517Z"
   },
   {
    "duration": 16,
    "start_time": "2023-12-07T14:31:38.524Z"
   },
   {
    "duration": 29,
    "start_time": "2023-12-07T14:31:38.542Z"
   },
   {
    "duration": 27,
    "start_time": "2023-12-07T14:31:38.572Z"
   },
   {
    "duration": 20,
    "start_time": "2023-12-07T14:31:38.602Z"
   },
   {
    "duration": 106,
    "start_time": "2023-12-07T14:32:20.119Z"
   },
   {
    "duration": 186,
    "start_time": "2023-12-07T14:32:33.596Z"
   },
   {
    "duration": 324,
    "start_time": "2023-12-07T14:33:54.634Z"
   },
   {
    "duration": 340,
    "start_time": "2023-12-07T14:34:16.445Z"
   },
   {
    "duration": 13,
    "start_time": "2023-12-07T14:38:34.069Z"
   },
   {
    "duration": 11,
    "start_time": "2023-12-07T14:41:36.154Z"
   },
   {
    "duration": 9,
    "start_time": "2023-12-07T14:41:51.515Z"
   },
   {
    "duration": 14,
    "start_time": "2023-12-07T14:42:07.284Z"
   },
   {
    "duration": 178,
    "start_time": "2023-12-07T14:45:26.762Z"
   },
   {
    "duration": 13,
    "start_time": "2023-12-07T14:46:31.565Z"
   },
   {
    "duration": 11,
    "start_time": "2023-12-07T14:47:36.913Z"
   },
   {
    "duration": 173,
    "start_time": "2023-12-07T14:47:43.671Z"
   },
   {
    "duration": 164,
    "start_time": "2023-12-07T14:48:28.216Z"
   },
   {
    "duration": 265,
    "start_time": "2023-12-07T14:48:56.695Z"
   },
   {
    "duration": 141,
    "start_time": "2023-12-07T14:49:03.339Z"
   },
   {
    "duration": 139,
    "start_time": "2023-12-07T14:49:20.028Z"
   },
   {
    "duration": 178,
    "start_time": "2023-12-07T14:49:33.237Z"
   },
   {
    "duration": 183,
    "start_time": "2023-12-07T14:50:07.235Z"
   },
   {
    "duration": 188,
    "start_time": "2023-12-07T14:50:36.726Z"
   },
   {
    "duration": 170,
    "start_time": "2023-12-07T14:50:50.551Z"
   },
   {
    "duration": 169,
    "start_time": "2023-12-07T14:51:35.504Z"
   },
   {
    "duration": 166,
    "start_time": "2023-12-07T14:51:43.799Z"
   },
   {
    "duration": 12,
    "start_time": "2023-12-07T14:53:37.159Z"
   },
   {
    "duration": 21,
    "start_time": "2023-12-07T14:53:57.534Z"
   },
   {
    "duration": 1138,
    "start_time": "2023-12-07T14:55:30.737Z"
   },
   {
    "duration": 45,
    "start_time": "2023-12-07T14:55:31.877Z"
   },
   {
    "duration": 21,
    "start_time": "2023-12-07T14:55:31.924Z"
   },
   {
    "duration": 94,
    "start_time": "2023-12-07T14:55:31.948Z"
   },
   {
    "duration": 73,
    "start_time": "2023-12-07T14:55:32.044Z"
   },
   {
    "duration": 59,
    "start_time": "2023-12-07T14:55:32.118Z"
   },
   {
    "duration": 29,
    "start_time": "2023-12-07T14:55:32.179Z"
   },
   {
    "duration": 41,
    "start_time": "2023-12-07T14:55:32.211Z"
   },
   {
    "duration": 58,
    "start_time": "2023-12-07T14:55:32.254Z"
   },
   {
    "duration": 30,
    "start_time": "2023-12-07T14:55:32.315Z"
   },
   {
    "duration": 42,
    "start_time": "2023-12-07T14:55:32.347Z"
   },
   {
    "duration": 27,
    "start_time": "2023-12-07T14:55:32.391Z"
   },
   {
    "duration": 211,
    "start_time": "2023-12-07T14:55:32.419Z"
   },
   {
    "duration": 7,
    "start_time": "2023-12-07T14:55:32.631Z"
   },
   {
    "duration": 158,
    "start_time": "2023-12-07T14:55:32.640Z"
   },
   {
    "duration": 20,
    "start_time": "2023-12-07T14:55:32.800Z"
   },
   {
    "duration": 289,
    "start_time": "2023-12-07T14:55:32.821Z"
   },
   {
    "duration": 366,
    "start_time": "2023-12-07T14:55:33.113Z"
   },
   {
    "duration": 474,
    "start_time": "2023-12-07T14:55:33.481Z"
   },
   {
    "duration": 308,
    "start_time": "2023-12-07T14:55:33.956Z"
   },
   {
    "duration": 16,
    "start_time": "2023-12-07T14:55:34.266Z"
   },
   {
    "duration": 55,
    "start_time": "2023-12-07T14:55:34.283Z"
   },
   {
    "duration": 18,
    "start_time": "2023-12-07T14:55:34.340Z"
   },
   {
    "duration": 17,
    "start_time": "2023-12-07T14:55:34.360Z"
   },
   {
    "duration": 351,
    "start_time": "2023-12-07T14:55:34.400Z"
   },
   {
    "duration": 352,
    "start_time": "2023-12-07T14:55:34.752Z"
   },
   {
    "duration": 472,
    "start_time": "2023-12-07T14:55:35.106Z"
   },
   {
    "duration": 358,
    "start_time": "2023-12-07T14:55:35.581Z"
   },
   {
    "duration": 6,
    "start_time": "2023-12-07T14:55:35.941Z"
   },
   {
    "duration": 36,
    "start_time": "2023-12-07T14:55:35.949Z"
   },
   {
    "duration": 70,
    "start_time": "2023-12-07T14:55:35.986Z"
   },
   {
    "duration": 6,
    "start_time": "2023-12-07T14:55:36.057Z"
   },
   {
    "duration": 9,
    "start_time": "2023-12-07T14:55:36.064Z"
   },
   {
    "duration": 12,
    "start_time": "2023-12-07T14:55:36.075Z"
   },
   {
    "duration": 23,
    "start_time": "2023-12-07T14:55:36.089Z"
   },
   {
    "duration": 21,
    "start_time": "2023-12-07T14:55:36.114Z"
   },
   {
    "duration": 49,
    "start_time": "2023-12-07T15:23:00.290Z"
   },
   {
    "duration": 69,
    "start_time": "2023-12-07T15:23:07.766Z"
   },
   {
    "duration": 7,
    "start_time": "2023-12-07T15:55:02.143Z"
   },
   {
    "duration": 1148,
    "start_time": "2023-12-07T16:00:15.398Z"
   },
   {
    "duration": 39,
    "start_time": "2023-12-07T16:00:16.547Z"
   },
   {
    "duration": 11,
    "start_time": "2023-12-07T16:00:16.587Z"
   },
   {
    "duration": 43,
    "start_time": "2023-12-07T16:00:16.600Z"
   },
   {
    "duration": 16,
    "start_time": "2023-12-07T16:00:16.644Z"
   },
   {
    "duration": 42,
    "start_time": "2023-12-07T16:00:16.661Z"
   },
   {
    "duration": 41,
    "start_time": "2023-12-07T16:00:16.704Z"
   },
   {
    "duration": 26,
    "start_time": "2023-12-07T16:00:16.747Z"
   },
   {
    "duration": 31,
    "start_time": "2023-12-07T16:00:16.774Z"
   },
   {
    "duration": 16,
    "start_time": "2023-12-07T16:00:16.808Z"
   },
   {
    "duration": 30,
    "start_time": "2023-12-07T16:00:16.825Z"
   },
   {
    "duration": 7,
    "start_time": "2023-12-07T16:00:16.857Z"
   },
   {
    "duration": 173,
    "start_time": "2023-12-07T16:00:16.865Z"
   },
   {
    "duration": 6,
    "start_time": "2023-12-07T16:00:17.040Z"
   },
   {
    "duration": 119,
    "start_time": "2023-12-07T16:00:17.047Z"
   },
   {
    "duration": 10,
    "start_time": "2023-12-07T16:00:17.167Z"
   },
   {
    "duration": 253,
    "start_time": "2023-12-07T16:00:17.178Z"
   },
   {
    "duration": 326,
    "start_time": "2023-12-07T16:00:17.433Z"
   },
   {
    "duration": 413,
    "start_time": "2023-12-07T16:00:17.760Z"
   },
   {
    "duration": 278,
    "start_time": "2023-12-07T16:00:18.175Z"
   },
   {
    "duration": 15,
    "start_time": "2023-12-07T16:00:18.455Z"
   },
   {
    "duration": 53,
    "start_time": "2023-12-07T16:00:18.472Z"
   },
   {
    "duration": 20,
    "start_time": "2023-12-07T16:00:18.526Z"
   },
   {
    "duration": 19,
    "start_time": "2023-12-07T16:00:18.548Z"
   },
   {
    "duration": 348,
    "start_time": "2023-12-07T16:00:18.600Z"
   },
   {
    "duration": 321,
    "start_time": "2023-12-07T16:00:18.950Z"
   },
   {
    "duration": 421,
    "start_time": "2023-12-07T16:00:19.273Z"
   },
   {
    "duration": 348,
    "start_time": "2023-12-07T16:00:19.698Z"
   },
   {
    "duration": 6,
    "start_time": "2023-12-07T16:00:20.048Z"
   },
   {
    "duration": 53,
    "start_time": "2023-12-07T16:00:20.055Z"
   },
   {
    "duration": 24,
    "start_time": "2023-12-07T16:00:20.110Z"
   },
   {
    "duration": 6,
    "start_time": "2023-12-07T16:00:20.135Z"
   },
   {
    "duration": 8,
    "start_time": "2023-12-07T16:00:20.142Z"
   },
   {
    "duration": 30,
    "start_time": "2023-12-07T16:00:20.152Z"
   },
   {
    "duration": 23,
    "start_time": "2023-12-07T16:00:20.184Z"
   },
   {
    "duration": 8,
    "start_time": "2023-12-07T16:00:20.209Z"
   },
   {
    "duration": 4,
    "start_time": "2023-12-07T16:09:03.263Z"
   },
   {
    "duration": 460,
    "start_time": "2023-12-07T16:09:12.478Z"
   },
   {
    "duration": 543,
    "start_time": "2023-12-07T16:09:25.483Z"
   },
   {
    "duration": 539,
    "start_time": "2023-12-07T16:09:53.029Z"
   },
   {
    "duration": 436,
    "start_time": "2023-12-07T16:10:34.092Z"
   },
   {
    "duration": 566,
    "start_time": "2023-12-07T16:12:23.558Z"
   },
   {
    "duration": 418,
    "start_time": "2023-12-07T16:12:36.356Z"
   },
   {
    "duration": 451,
    "start_time": "2023-12-07T16:12:58.167Z"
   },
   {
    "duration": 579,
    "start_time": "2023-12-07T16:13:10.762Z"
   },
   {
    "duration": 548,
    "start_time": "2023-12-07T16:13:40.459Z"
   },
   {
    "duration": 636,
    "start_time": "2023-12-07T16:14:03.808Z"
   },
   {
    "duration": 444,
    "start_time": "2023-12-07T16:14:14.558Z"
   },
   {
    "duration": 477,
    "start_time": "2023-12-07T16:14:32.948Z"
   },
   {
    "duration": 589,
    "start_time": "2023-12-07T16:15:14.157Z"
   },
   {
    "duration": 589,
    "start_time": "2023-12-07T16:15:32.690Z"
   },
   {
    "duration": 702,
    "start_time": "2023-12-07T16:16:25.428Z"
   },
   {
    "duration": 462,
    "start_time": "2023-12-07T16:16:32.287Z"
   },
   {
    "duration": 532,
    "start_time": "2023-12-07T16:16:51.642Z"
   },
   {
    "duration": 644,
    "start_time": "2023-12-07T16:16:59.425Z"
   },
   {
    "duration": 448,
    "start_time": "2023-12-07T16:18:42.390Z"
   },
   {
    "duration": 1295,
    "start_time": "2023-12-07T18:37:08.770Z"
   },
   {
    "duration": 83,
    "start_time": "2023-12-07T18:37:10.067Z"
   },
   {
    "duration": 12,
    "start_time": "2023-12-07T18:37:10.152Z"
   },
   {
    "duration": 77,
    "start_time": "2023-12-07T18:37:10.166Z"
   },
   {
    "duration": 10,
    "start_time": "2023-12-07T18:37:10.244Z"
   },
   {
    "duration": 55,
    "start_time": "2023-12-07T18:37:10.255Z"
   },
   {
    "duration": 8,
    "start_time": "2023-12-07T18:37:10.312Z"
   },
   {
    "duration": 23,
    "start_time": "2023-12-07T18:37:10.321Z"
   },
   {
    "duration": 61,
    "start_time": "2023-12-07T18:37:10.346Z"
   },
   {
    "duration": 4,
    "start_time": "2023-12-07T18:37:10.409Z"
   },
   {
    "duration": 17,
    "start_time": "2023-12-07T18:37:10.414Z"
   },
   {
    "duration": 6,
    "start_time": "2023-12-07T18:37:10.433Z"
   },
   {
    "duration": 175,
    "start_time": "2023-12-07T18:37:10.440Z"
   },
   {
    "duration": 5,
    "start_time": "2023-12-07T18:37:10.617Z"
   },
   {
    "duration": 122,
    "start_time": "2023-12-07T18:37:10.623Z"
   },
   {
    "duration": 9,
    "start_time": "2023-12-07T18:37:10.746Z"
   },
   {
    "duration": 252,
    "start_time": "2023-12-07T18:37:10.757Z"
   },
   {
    "duration": 302,
    "start_time": "2023-12-07T18:37:11.010Z"
   },
   {
    "duration": 394,
    "start_time": "2023-12-07T18:37:11.313Z"
   },
   {
    "duration": 278,
    "start_time": "2023-12-07T18:37:11.709Z"
   },
   {
    "duration": 14,
    "start_time": "2023-12-07T18:37:11.989Z"
   },
   {
    "duration": 34,
    "start_time": "2023-12-07T18:37:12.004Z"
   },
   {
    "duration": 16,
    "start_time": "2023-12-07T18:37:12.039Z"
   },
   {
    "duration": 39,
    "start_time": "2023-12-07T18:37:12.057Z"
   },
   {
    "duration": 327,
    "start_time": "2023-12-07T18:37:12.098Z"
   },
   {
    "duration": 364,
    "start_time": "2023-12-07T18:37:12.426Z"
   },
   {
    "duration": 402,
    "start_time": "2023-12-07T18:37:12.791Z"
   },
   {
    "duration": 430,
    "start_time": "2023-12-07T18:37:13.196Z"
   },
   {
    "duration": 382,
    "start_time": "2023-12-07T18:37:13.627Z"
   },
   {
    "duration": 7,
    "start_time": "2023-12-07T18:37:14.011Z"
   },
   {
    "duration": 30,
    "start_time": "2023-12-07T18:37:14.019Z"
   },
   {
    "duration": 42,
    "start_time": "2023-12-07T18:37:14.050Z"
   },
   {
    "duration": 6,
    "start_time": "2023-12-07T18:37:14.094Z"
   },
   {
    "duration": 5,
    "start_time": "2023-12-07T18:37:14.101Z"
   },
   {
    "duration": 15,
    "start_time": "2023-12-07T18:37:14.108Z"
   },
   {
    "duration": 5,
    "start_time": "2023-12-07T18:37:14.124Z"
   },
   {
    "duration": 5,
    "start_time": "2023-12-07T18:37:14.130Z"
   },
   {
    "duration": 73,
    "start_time": "2023-12-07T18:37:43.784Z"
   },
   {
    "duration": 556,
    "start_time": "2023-12-07T18:38:00.680Z"
   },
   {
    "duration": 563,
    "start_time": "2023-12-07T18:38:24.349Z"
   },
   {
    "duration": 614,
    "start_time": "2023-12-07T18:39:32.327Z"
   },
   {
    "duration": 665,
    "start_time": "2023-12-07T18:39:59.462Z"
   },
   {
    "duration": 573,
    "start_time": "2023-12-07T18:42:49.019Z"
   },
   {
    "duration": 638,
    "start_time": "2023-12-07T18:44:22.319Z"
   },
   {
    "duration": 555,
    "start_time": "2023-12-07T18:45:01.326Z"
   },
   {
    "duration": 682,
    "start_time": "2023-12-07T18:46:02.855Z"
   },
   {
    "duration": 1076,
    "start_time": "2023-12-07T18:46:19.921Z"
   },
   {
    "duration": 37,
    "start_time": "2023-12-07T18:46:20.999Z"
   },
   {
    "duration": 10,
    "start_time": "2023-12-07T18:46:21.037Z"
   },
   {
    "duration": 34,
    "start_time": "2023-12-07T18:46:21.049Z"
   },
   {
    "duration": 10,
    "start_time": "2023-12-07T18:46:21.084Z"
   },
   {
    "duration": 34,
    "start_time": "2023-12-07T18:46:21.095Z"
   },
   {
    "duration": 11,
    "start_time": "2023-12-07T18:46:21.130Z"
   },
   {
    "duration": 14,
    "start_time": "2023-12-07T18:46:21.142Z"
   },
   {
    "duration": 11,
    "start_time": "2023-12-07T18:46:21.157Z"
   },
   {
    "duration": 11,
    "start_time": "2023-12-07T18:46:21.170Z"
   },
   {
    "duration": 20,
    "start_time": "2023-12-07T18:46:21.183Z"
   },
   {
    "duration": 7,
    "start_time": "2023-12-07T18:46:21.205Z"
   },
   {
    "duration": 174,
    "start_time": "2023-12-07T18:46:21.214Z"
   },
   {
    "duration": 6,
    "start_time": "2023-12-07T18:46:21.390Z"
   },
   {
    "duration": 122,
    "start_time": "2023-12-07T18:46:21.398Z"
   },
   {
    "duration": 9,
    "start_time": "2023-12-07T18:46:21.521Z"
   },
   {
    "duration": 241,
    "start_time": "2023-12-07T18:46:21.531Z"
   },
   {
    "duration": 318,
    "start_time": "2023-12-07T18:46:21.773Z"
   },
   {
    "duration": 398,
    "start_time": "2023-12-07T18:46:22.092Z"
   },
   {
    "duration": 284,
    "start_time": "2023-12-07T18:46:22.491Z"
   },
   {
    "duration": 18,
    "start_time": "2023-12-07T18:46:22.776Z"
   },
   {
    "duration": 41,
    "start_time": "2023-12-07T18:46:22.795Z"
   },
   {
    "duration": 17,
    "start_time": "2023-12-07T18:46:22.837Z"
   },
   {
    "duration": 35,
    "start_time": "2023-12-07T18:46:22.856Z"
   },
   {
    "duration": 358,
    "start_time": "2023-12-07T18:46:22.892Z"
   },
   {
    "duration": 326,
    "start_time": "2023-12-07T18:46:23.252Z"
   },
   {
    "duration": 396,
    "start_time": "2023-12-07T18:46:23.579Z"
   },
   {
    "duration": 325,
    "start_time": "2023-12-07T18:46:23.981Z"
   },
   {
    "duration": 576,
    "start_time": "2023-12-07T18:46:24.308Z"
   },
   {
    "duration": 675,
    "start_time": "2023-12-07T18:46:24.886Z"
   },
   {
    "duration": 7,
    "start_time": "2023-12-07T18:46:25.562Z"
   },
   {
    "duration": 44,
    "start_time": "2023-12-07T18:46:25.570Z"
   },
   {
    "duration": 21,
    "start_time": "2023-12-07T18:46:25.615Z"
   },
   {
    "duration": 4,
    "start_time": "2023-12-07T18:46:25.638Z"
   },
   {
    "duration": 5,
    "start_time": "2023-12-07T18:46:25.643Z"
   },
   {
    "duration": 7,
    "start_time": "2023-12-07T18:46:25.649Z"
   },
   {
    "duration": 28,
    "start_time": "2023-12-07T18:46:25.658Z"
   },
   {
    "duration": 18,
    "start_time": "2023-12-07T18:46:25.688Z"
   },
   {
    "duration": 5,
    "start_time": "2023-12-07T18:53:51.564Z"
   },
   {
    "duration": 5,
    "start_time": "2023-12-07T19:03:00.922Z"
   },
   {
    "duration": 5,
    "start_time": "2023-12-07T19:05:00.921Z"
   },
   {
    "duration": 5,
    "start_time": "2023-12-07T19:09:27.243Z"
   },
   {
    "duration": 5,
    "start_time": "2023-12-07T19:10:28.907Z"
   },
   {
    "duration": 1128,
    "start_time": "2023-12-07T19:17:29.504Z"
   },
   {
    "duration": 40,
    "start_time": "2023-12-07T19:17:30.634Z"
   },
   {
    "duration": 12,
    "start_time": "2023-12-07T19:17:30.676Z"
   },
   {
    "duration": 59,
    "start_time": "2023-12-07T19:17:30.691Z"
   },
   {
    "duration": 14,
    "start_time": "2023-12-07T19:17:30.752Z"
   },
   {
    "duration": 35,
    "start_time": "2023-12-07T19:17:30.768Z"
   },
   {
    "duration": 13,
    "start_time": "2023-12-07T19:17:30.805Z"
   },
   {
    "duration": 23,
    "start_time": "2023-12-07T19:17:30.820Z"
   },
   {
    "duration": 45,
    "start_time": "2023-12-07T19:17:30.845Z"
   },
   {
    "duration": 20,
    "start_time": "2023-12-07T19:17:30.892Z"
   },
   {
    "duration": 38,
    "start_time": "2023-12-07T19:17:30.913Z"
   },
   {
    "duration": 43,
    "start_time": "2023-12-07T19:17:30.952Z"
   },
   {
    "duration": 218,
    "start_time": "2023-12-07T19:17:30.997Z"
   },
   {
    "duration": 5,
    "start_time": "2023-12-07T19:17:31.217Z"
   },
   {
    "duration": 153,
    "start_time": "2023-12-07T19:17:31.224Z"
   },
   {
    "duration": 9,
    "start_time": "2023-12-07T19:17:31.379Z"
   },
   {
    "duration": 274,
    "start_time": "2023-12-07T19:17:31.390Z"
   },
   {
    "duration": 357,
    "start_time": "2023-12-07T19:17:31.665Z"
   },
   {
    "duration": 455,
    "start_time": "2023-12-07T19:17:32.024Z"
   },
   {
    "duration": 315,
    "start_time": "2023-12-07T19:17:32.481Z"
   },
   {
    "duration": 15,
    "start_time": "2023-12-07T19:17:32.797Z"
   },
   {
    "duration": 36,
    "start_time": "2023-12-07T19:17:32.814Z"
   },
   {
    "duration": 41,
    "start_time": "2023-12-07T19:17:32.852Z"
   },
   {
    "duration": 18,
    "start_time": "2023-12-07T19:17:32.894Z"
   },
   {
    "duration": 406,
    "start_time": "2023-12-07T19:17:32.913Z"
   },
   {
    "duration": 364,
    "start_time": "2023-12-07T19:17:33.321Z"
   },
   {
    "duration": 457,
    "start_time": "2023-12-07T19:17:33.687Z"
   },
   {
    "duration": 369,
    "start_time": "2023-12-07T19:17:34.148Z"
   },
   {
    "duration": 569,
    "start_time": "2023-12-07T19:17:34.518Z"
   },
   {
    "duration": 673,
    "start_time": "2023-12-07T19:17:35.088Z"
   },
   {
    "duration": 6,
    "start_time": "2023-12-07T19:17:35.763Z"
   },
   {
    "duration": 35,
    "start_time": "2023-12-07T19:17:35.771Z"
   },
   {
    "duration": 22,
    "start_time": "2023-12-07T19:17:35.807Z"
   },
   {
    "duration": 6,
    "start_time": "2023-12-07T19:17:35.830Z"
   },
   {
    "duration": 12,
    "start_time": "2023-12-07T19:17:35.837Z"
   },
   {
    "duration": 11,
    "start_time": "2023-12-07T19:17:35.850Z"
   },
   {
    "duration": 8,
    "start_time": "2023-12-07T19:17:35.881Z"
   },
   {
    "duration": 7,
    "start_time": "2023-12-07T19:17:35.890Z"
   },
   {
    "duration": 10,
    "start_time": "2023-12-07T19:17:35.899Z"
   },
   {
    "duration": 54,
    "start_time": "2024-02-02T19:22:15.310Z"
   },
   {
    "duration": 1117,
    "start_time": "2024-02-02T19:22:29.043Z"
   },
   {
    "duration": 99,
    "start_time": "2024-02-02T19:22:30.162Z"
   },
   {
    "duration": 86,
    "start_time": "2024-02-02T19:22:30.263Z"
   },
   {
    "duration": 277,
    "start_time": "2024-02-02T19:22:30.351Z"
   },
   {
    "duration": 11,
    "start_time": "2024-02-02T19:22:30.630Z"
   },
   {
    "duration": 182,
    "start_time": "2024-02-02T19:22:30.643Z"
   },
   {
    "duration": 60,
    "start_time": "2024-02-02T19:22:30.826Z"
   },
   {
    "duration": 137,
    "start_time": "2024-02-02T19:22:30.888Z"
   },
   {
    "duration": 53,
    "start_time": "2024-02-02T19:22:31.027Z"
   },
   {
    "duration": 53,
    "start_time": "2024-02-02T19:22:31.082Z"
   },
   {
    "duration": 81,
    "start_time": "2024-02-02T19:22:31.137Z"
   },
   {
    "duration": 25,
    "start_time": "2024-02-02T19:22:31.220Z"
   },
   {
    "duration": 232,
    "start_time": "2024-02-02T19:22:31.247Z"
   },
   {
    "duration": 8,
    "start_time": "2024-02-02T19:22:31.480Z"
   },
   {
    "duration": 164,
    "start_time": "2024-02-02T19:22:31.489Z"
   },
   {
    "duration": 9,
    "start_time": "2024-02-02T19:22:31.655Z"
   },
   {
    "duration": 350,
    "start_time": "2024-02-02T19:22:31.666Z"
   },
   {
    "duration": 347,
    "start_time": "2024-02-02T19:22:32.018Z"
   },
   {
    "duration": 446,
    "start_time": "2024-02-02T19:22:32.367Z"
   },
   {
    "duration": 316,
    "start_time": "2024-02-02T19:22:32.814Z"
   },
   {
    "duration": 16,
    "start_time": "2024-02-02T19:22:33.132Z"
   },
   {
    "duration": 53,
    "start_time": "2024-02-02T19:22:33.149Z"
   },
   {
    "duration": 20,
    "start_time": "2024-02-02T19:22:33.204Z"
   },
   {
    "duration": 20,
    "start_time": "2024-02-02T19:22:33.226Z"
   },
   {
    "duration": 379,
    "start_time": "2024-02-02T19:22:33.248Z"
   },
   {
    "duration": 370,
    "start_time": "2024-02-02T19:22:33.628Z"
   },
   {
    "duration": 464,
    "start_time": "2024-02-02T19:22:33.999Z"
   },
   {
    "duration": 365,
    "start_time": "2024-02-02T19:22:34.466Z"
   },
   {
    "duration": 633,
    "start_time": "2024-02-02T19:22:34.832Z"
   },
   {
    "duration": 868,
    "start_time": "2024-02-02T19:22:35.466Z"
   },
   {
    "duration": 7,
    "start_time": "2024-02-02T19:22:36.336Z"
   },
   {
    "duration": 43,
    "start_time": "2024-02-02T19:22:36.344Z"
   },
   {
    "duration": 25,
    "start_time": "2024-02-02T19:22:36.389Z"
   },
   {
    "duration": 6,
    "start_time": "2024-02-02T19:22:36.415Z"
   },
   {
    "duration": 10,
    "start_time": "2024-02-02T19:22:36.422Z"
   },
   {
    "duration": 7,
    "start_time": "2024-02-02T19:22:36.434Z"
   },
   {
    "duration": 8,
    "start_time": "2024-02-02T19:22:36.442Z"
   },
   {
    "duration": 35,
    "start_time": "2024-02-02T19:22:36.452Z"
   },
   {
    "duration": 5,
    "start_time": "2024-02-02T19:22:36.489Z"
   },
   {
    "duration": 1198,
    "start_time": "2024-04-30T19:49:45.193Z"
   },
   {
    "duration": 83,
    "start_time": "2024-04-30T19:49:46.392Z"
   },
   {
    "duration": 13,
    "start_time": "2024-04-30T19:49:46.480Z"
   },
   {
    "duration": 86,
    "start_time": "2024-04-30T19:49:46.495Z"
   },
   {
    "duration": 15,
    "start_time": "2024-04-30T19:49:46.583Z"
   },
   {
    "duration": 63,
    "start_time": "2024-04-30T19:49:46.599Z"
   },
   {
    "duration": 10,
    "start_time": "2024-04-30T19:49:46.664Z"
   },
   {
    "duration": 40,
    "start_time": "2024-04-30T19:49:46.676Z"
   },
   {
    "duration": 15,
    "start_time": "2024-04-30T19:49:46.720Z"
   },
   {
    "duration": 6,
    "start_time": "2024-04-30T19:49:46.737Z"
   },
   {
    "duration": 36,
    "start_time": "2024-04-30T19:49:46.745Z"
   },
   {
    "duration": 8,
    "start_time": "2024-04-30T19:49:46.783Z"
   },
   {
    "duration": 215,
    "start_time": "2024-04-30T19:49:46.793Z"
   },
   {
    "duration": 6,
    "start_time": "2024-04-30T19:49:47.010Z"
   },
   {
    "duration": 138,
    "start_time": "2024-04-30T19:49:47.017Z"
   },
   {
    "duration": 10,
    "start_time": "2024-04-30T19:49:47.157Z"
   },
   {
    "duration": 278,
    "start_time": "2024-04-30T19:49:47.169Z"
   },
   {
    "duration": 383,
    "start_time": "2024-04-30T19:49:47.448Z"
   },
   {
    "duration": 453,
    "start_time": "2024-04-30T19:49:47.833Z"
   },
   {
    "duration": 324,
    "start_time": "2024-04-30T19:49:48.288Z"
   },
   {
    "duration": 21,
    "start_time": "2024-04-30T19:49:48.614Z"
   },
   {
    "duration": 40,
    "start_time": "2024-04-30T19:49:48.636Z"
   },
   {
    "duration": 19,
    "start_time": "2024-04-30T19:49:48.678Z"
   },
   {
    "duration": 40,
    "start_time": "2024-04-30T19:49:48.699Z"
   },
   {
    "duration": 358,
    "start_time": "2024-04-30T19:49:48.741Z"
   },
   {
    "duration": 359,
    "start_time": "2024-04-30T19:49:49.101Z"
   },
   {
    "duration": 465,
    "start_time": "2024-04-30T19:49:49.464Z"
   },
   {
    "duration": 376,
    "start_time": "2024-04-30T19:49:49.930Z"
   },
   {
    "duration": 644,
    "start_time": "2024-04-30T19:49:50.307Z"
   },
   {
    "duration": 780,
    "start_time": "2024-04-30T19:49:50.952Z"
   },
   {
    "duration": 7,
    "start_time": "2024-04-30T19:49:51.734Z"
   },
   {
    "duration": 43,
    "start_time": "2024-04-30T19:49:51.743Z"
   },
   {
    "duration": 25,
    "start_time": "2024-04-30T19:49:51.787Z"
   },
   {
    "duration": 20,
    "start_time": "2024-04-30T19:49:51.814Z"
   },
   {
    "duration": 63,
    "start_time": "2024-04-30T19:49:51.835Z"
   },
   {
    "duration": 38,
    "start_time": "2024-04-30T19:49:51.900Z"
   },
   {
    "duration": 43,
    "start_time": "2024-04-30T19:49:51.940Z"
   },
   {
    "duration": 24,
    "start_time": "2024-04-30T19:49:51.985Z"
   },
   {
    "duration": 17,
    "start_time": "2024-04-30T19:49:52.010Z"
   }
  ],
  "kernelspec": {
   "display_name": "Python 3 (ipykernel)",
   "language": "python",
   "name": "python3"
  },
  "language_info": {
   "codemirror_mode": {
    "name": "ipython",
    "version": 3
   },
   "file_extension": ".py",
   "mimetype": "text/x-python",
   "name": "python",
   "nbconvert_exporter": "python",
   "pygments_lexer": "ipython3",
   "version": "3.11.7"
  },
  "toc": {
   "base_numbering": 1,
   "nav_menu": {},
   "number_sections": true,
   "sideBar": true,
   "skip_h1_title": true,
   "title_cell": "Table of Contents",
   "title_sidebar": "Contents",
   "toc_cell": false,
   "toc_position": {},
   "toc_section_display": true,
   "toc_window_display": false
  }
 },
 "nbformat": 4,
 "nbformat_minor": 5
}
